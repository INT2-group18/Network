{
  "nbformat": 4,
  "nbformat_minor": 0,
  "metadata": {
    "colab": {
      "provenance": [],
      "gpuType": "T4"
    },
    "kernelspec": {
      "name": "python3",
      "display_name": "Python 3"
    },
    "language_info": {
      "name": "python"
    },
    "accelerator": "GPU",
    "gpuClass": "standard",
    "widgets": {
      "application/vnd.jupyter.widget-state+json": {
        "29569cc81afe4070885303dce4d147a1": {
          "model_module": "@jupyter-widgets/controls",
          "model_name": "VBoxModel",
          "model_module_version": "1.5.0",
          "state": {
            "_dom_classes": [],
            "_model_module": "@jupyter-widgets/controls",
            "_model_module_version": "1.5.0",
            "_model_name": "VBoxModel",
            "_view_count": null,
            "_view_module": "@jupyter-widgets/controls",
            "_view_module_version": "1.5.0",
            "_view_name": "VBoxView",
            "box_style": "",
            "children": [
              "IPY_MODEL_48dc304107ec4d6b9d89f1d995e1f110",
              "IPY_MODEL_a9dd3eba3e4946a8bc7d1475ce361bab"
            ],
            "layout": "IPY_MODEL_ec8c33fdf95b40a9870e741f34c35542"
          }
        },
        "48dc304107ec4d6b9d89f1d995e1f110": {
          "model_module": "@jupyter-widgets/controls",
          "model_name": "LabelModel",
          "model_module_version": "1.5.0",
          "state": {
            "_dom_classes": [],
            "_model_module": "@jupyter-widgets/controls",
            "_model_module_version": "1.5.0",
            "_model_name": "LabelModel",
            "_view_count": null,
            "_view_module": "@jupyter-widgets/controls",
            "_view_module_version": "1.5.0",
            "_view_name": "LabelView",
            "description": "",
            "description_tooltip": null,
            "layout": "IPY_MODEL_75f8a289e68c4eff93fca798ecbedd0c",
            "placeholder": "​",
            "style": "IPY_MODEL_a427db27cd6f47b9b1d2decd2ecb5f55",
            "value": "0.001 MB of 0.001 MB uploaded (0.000 MB deduped)\r"
          }
        },
        "a9dd3eba3e4946a8bc7d1475ce361bab": {
          "model_module": "@jupyter-widgets/controls",
          "model_name": "FloatProgressModel",
          "model_module_version": "1.5.0",
          "state": {
            "_dom_classes": [],
            "_model_module": "@jupyter-widgets/controls",
            "_model_module_version": "1.5.0",
            "_model_name": "FloatProgressModel",
            "_view_count": null,
            "_view_module": "@jupyter-widgets/controls",
            "_view_module_version": "1.5.0",
            "_view_name": "ProgressView",
            "bar_style": "",
            "description": "",
            "description_tooltip": null,
            "layout": "IPY_MODEL_651bab8f4fed440a8aa66a900260fbfb",
            "max": 1,
            "min": 0,
            "orientation": "horizontal",
            "style": "IPY_MODEL_c362606894c44b3abfe634deeda8e46a",
            "value": 1
          }
        },
        "ec8c33fdf95b40a9870e741f34c35542": {
          "model_module": "@jupyter-widgets/base",
          "model_name": "LayoutModel",
          "model_module_version": "1.2.0",
          "state": {
            "_model_module": "@jupyter-widgets/base",
            "_model_module_version": "1.2.0",
            "_model_name": "LayoutModel",
            "_view_count": null,
            "_view_module": "@jupyter-widgets/base",
            "_view_module_version": "1.2.0",
            "_view_name": "LayoutView",
            "align_content": null,
            "align_items": null,
            "align_self": null,
            "border": null,
            "bottom": null,
            "display": null,
            "flex": null,
            "flex_flow": null,
            "grid_area": null,
            "grid_auto_columns": null,
            "grid_auto_flow": null,
            "grid_auto_rows": null,
            "grid_column": null,
            "grid_gap": null,
            "grid_row": null,
            "grid_template_areas": null,
            "grid_template_columns": null,
            "grid_template_rows": null,
            "height": null,
            "justify_content": null,
            "justify_items": null,
            "left": null,
            "margin": null,
            "max_height": null,
            "max_width": null,
            "min_height": null,
            "min_width": null,
            "object_fit": null,
            "object_position": null,
            "order": null,
            "overflow": null,
            "overflow_x": null,
            "overflow_y": null,
            "padding": null,
            "right": null,
            "top": null,
            "visibility": null,
            "width": null
          }
        },
        "75f8a289e68c4eff93fca798ecbedd0c": {
          "model_module": "@jupyter-widgets/base",
          "model_name": "LayoutModel",
          "model_module_version": "1.2.0",
          "state": {
            "_model_module": "@jupyter-widgets/base",
            "_model_module_version": "1.2.0",
            "_model_name": "LayoutModel",
            "_view_count": null,
            "_view_module": "@jupyter-widgets/base",
            "_view_module_version": "1.2.0",
            "_view_name": "LayoutView",
            "align_content": null,
            "align_items": null,
            "align_self": null,
            "border": null,
            "bottom": null,
            "display": null,
            "flex": null,
            "flex_flow": null,
            "grid_area": null,
            "grid_auto_columns": null,
            "grid_auto_flow": null,
            "grid_auto_rows": null,
            "grid_column": null,
            "grid_gap": null,
            "grid_row": null,
            "grid_template_areas": null,
            "grid_template_columns": null,
            "grid_template_rows": null,
            "height": null,
            "justify_content": null,
            "justify_items": null,
            "left": null,
            "margin": null,
            "max_height": null,
            "max_width": null,
            "min_height": null,
            "min_width": null,
            "object_fit": null,
            "object_position": null,
            "order": null,
            "overflow": null,
            "overflow_x": null,
            "overflow_y": null,
            "padding": null,
            "right": null,
            "top": null,
            "visibility": null,
            "width": null
          }
        },
        "a427db27cd6f47b9b1d2decd2ecb5f55": {
          "model_module": "@jupyter-widgets/controls",
          "model_name": "DescriptionStyleModel",
          "model_module_version": "1.5.0",
          "state": {
            "_model_module": "@jupyter-widgets/controls",
            "_model_module_version": "1.5.0",
            "_model_name": "DescriptionStyleModel",
            "_view_count": null,
            "_view_module": "@jupyter-widgets/base",
            "_view_module_version": "1.2.0",
            "_view_name": "StyleView",
            "description_width": ""
          }
        },
        "651bab8f4fed440a8aa66a900260fbfb": {
          "model_module": "@jupyter-widgets/base",
          "model_name": "LayoutModel",
          "model_module_version": "1.2.0",
          "state": {
            "_model_module": "@jupyter-widgets/base",
            "_model_module_version": "1.2.0",
            "_model_name": "LayoutModel",
            "_view_count": null,
            "_view_module": "@jupyter-widgets/base",
            "_view_module_version": "1.2.0",
            "_view_name": "LayoutView",
            "align_content": null,
            "align_items": null,
            "align_self": null,
            "border": null,
            "bottom": null,
            "display": null,
            "flex": null,
            "flex_flow": null,
            "grid_area": null,
            "grid_auto_columns": null,
            "grid_auto_flow": null,
            "grid_auto_rows": null,
            "grid_column": null,
            "grid_gap": null,
            "grid_row": null,
            "grid_template_areas": null,
            "grid_template_columns": null,
            "grid_template_rows": null,
            "height": null,
            "justify_content": null,
            "justify_items": null,
            "left": null,
            "margin": null,
            "max_height": null,
            "max_width": null,
            "min_height": null,
            "min_width": null,
            "object_fit": null,
            "object_position": null,
            "order": null,
            "overflow": null,
            "overflow_x": null,
            "overflow_y": null,
            "padding": null,
            "right": null,
            "top": null,
            "visibility": null,
            "width": null
          }
        },
        "c362606894c44b3abfe634deeda8e46a": {
          "model_module": "@jupyter-widgets/controls",
          "model_name": "ProgressStyleModel",
          "model_module_version": "1.5.0",
          "state": {
            "_model_module": "@jupyter-widgets/controls",
            "_model_module_version": "1.5.0",
            "_model_name": "ProgressStyleModel",
            "_view_count": null,
            "_view_module": "@jupyter-widgets/base",
            "_view_module_version": "1.2.0",
            "_view_name": "StyleView",
            "bar_color": null,
            "description_width": ""
          }
        }
      }
    }
  },
  "cells": [
    {
      "cell_type": "code",
      "execution_count": 6,
      "metadata": {
        "id": "iABXs37PYLuP",
        "pycharm": {
          "name": "#%%\n"
        }
      },
      "outputs": [],
      "source": [
        "import gc\n",
        "import os\n",
        "import matplotlib.pyplot as plt\n",
        "import time\n",
        "import torch\n",
        "import torch.nn as nn\n",
        "import torch.optim as optim\n",
        "import torchvision.datasets as datasets\n",
        "import torchvision.transforms as transforms\n",
        "from torch.utils.data import DataLoader"
      ]
    },
    {
      "cell_type": "code",
      "source": [
        "# Setup device\n",
        "device = torch.device(\"cuda\" if torch.cuda.is_available() else \"cpu\")\n",
        "print(f'Using {torch.cuda.get_device_name(0)}')"
      ],
      "metadata": {
        "id": "VHdEPmVXbC_g",
        "pycharm": {
          "name": "#%%\n"
        },
        "colab": {
          "base_uri": "https://localhost:8080/"
        },
        "outputId": "7bd5c312-e406-4a85-f887-2be0482f7049"
      },
      "execution_count": 7,
      "outputs": [
        {
          "output_type": "stream",
          "name": "stdout",
          "text": [
            "Using Tesla T4\n"
          ]
        }
      ]
    },
    {
      "cell_type": "code",
      "execution_count": 8,
      "outputs": [
        {
          "output_type": "stream",
          "name": "stdout",
          "text": [
            "Looking in indexes: https://pypi.org/simple, https://us-python.pkg.dev/colab-wheels/public/simple/\n",
            "Requirement already satisfied: wandb in /usr/local/lib/python3.10/dist-packages (0.15.2)\n",
            "Requirement already satisfied: GitPython!=3.1.29,>=1.0.0 in /usr/local/lib/python3.10/dist-packages (from wandb) (3.1.31)\n",
            "Requirement already satisfied: Click!=8.0.0,>=7.0 in /usr/local/lib/python3.10/dist-packages (from wandb) (8.1.3)\n",
            "Requirement already satisfied: setuptools in /usr/local/lib/python3.10/dist-packages (from wandb) (67.7.2)\n",
            "Requirement already satisfied: appdirs>=1.4.3 in /usr/local/lib/python3.10/dist-packages (from wandb) (1.4.4)\n",
            "Requirement already satisfied: PyYAML in /usr/local/lib/python3.10/dist-packages (from wandb) (6.0)\n",
            "Requirement already satisfied: pathtools in /usr/local/lib/python3.10/dist-packages (from wandb) (0.1.2)\n",
            "Requirement already satisfied: protobuf!=4.21.0,<5,>=3.19.0 in /usr/local/lib/python3.10/dist-packages (from wandb) (3.20.3)\n",
            "Requirement already satisfied: setproctitle in /usr/local/lib/python3.10/dist-packages (from wandb) (1.3.2)\n",
            "Requirement already satisfied: sentry-sdk>=1.0.0 in /usr/local/lib/python3.10/dist-packages (from wandb) (1.22.2)\n",
            "Requirement already satisfied: requests<3,>=2.0.0 in /usr/local/lib/python3.10/dist-packages (from wandb) (2.27.1)\n",
            "Requirement already satisfied: docker-pycreds>=0.4.0 in /usr/local/lib/python3.10/dist-packages (from wandb) (0.4.0)\n",
            "Requirement already satisfied: psutil>=5.0.0 in /usr/local/lib/python3.10/dist-packages (from wandb) (5.9.5)\n",
            "Requirement already satisfied: six>=1.4.0 in /usr/local/lib/python3.10/dist-packages (from docker-pycreds>=0.4.0->wandb) (1.16.0)\n",
            "Requirement already satisfied: gitdb<5,>=4.0.1 in /usr/local/lib/python3.10/dist-packages (from GitPython!=3.1.29,>=1.0.0->wandb) (4.0.10)\n",
            "Requirement already satisfied: certifi>=2017.4.17 in /usr/local/lib/python3.10/dist-packages (from requests<3,>=2.0.0->wandb) (2022.12.7)\n",
            "Requirement already satisfied: charset-normalizer~=2.0.0 in /usr/local/lib/python3.10/dist-packages (from requests<3,>=2.0.0->wandb) (2.0.12)\n",
            "Requirement already satisfied: urllib3<1.27,>=1.21.1 in /usr/local/lib/python3.10/dist-packages (from requests<3,>=2.0.0->wandb) (1.26.15)\n",
            "Requirement already satisfied: idna<4,>=2.5 in /usr/local/lib/python3.10/dist-packages (from requests<3,>=2.0.0->wandb) (3.4)\n",
            "Requirement already satisfied: smmap<6,>=3.0.1 in /usr/local/lib/python3.10/dist-packages (from gitdb<5,>=4.0.1->GitPython!=3.1.29,>=1.0.0->wandb) (5.0.0)\n"
          ]
        },
        {
          "output_type": "stream",
          "name": "stderr",
          "text": [
            "\u001b[34m\u001b[1mwandb\u001b[0m: Currently logged in as: \u001b[33mpoppyfynes11\u001b[0m (\u001b[33mfartffart\u001b[0m). Use \u001b[1m`wandb login --relogin`\u001b[0m to force relogin\n"
          ]
        },
        {
          "output_type": "execute_result",
          "data": {
            "text/plain": [
              "True"
            ]
          },
          "metadata": {},
          "execution_count": 8
        }
      ],
      "source": [
        "!pip install wandb\n",
        "import wandb\n",
        "wandb.login()"
      ],
      "metadata": {
        "pycharm": {
          "name": "#%%\n"
        },
        "colab": {
          "base_uri": "https://localhost:8080/"
        },
        "id": "imfTPkppJp0E",
        "outputId": "271c9adc-4b97-417e-e4df-d664b8cc631b"
      }
    },
    {
      "cell_type": "markdown",
      "source": [
        "## Initialise training variables and datasets, split into train, validation and test sets."
      ],
      "metadata": {
        "collapsed": false,
        "pycharm": {
          "name": "#%% md\n"
        },
        "id": "agrX3EK6Jp0F"
      }
    },
    {
      "cell_type": "code",
      "source": [
        "# Training variables\n",
        "BATCH_SIZE = 32\n",
        "EPOCHS = 150\n",
        "LEARNING_RATE = 0.0001"
      ],
      "metadata": {
        "id": "WZi6DrrfbEkT",
        "pycharm": {
          "name": "#%%\n"
        }
      },
      "execution_count": 9,
      "outputs": []
    },
    {
      "cell_type": "code",
      "source": [
        "# Transformations for the train, validation, and test datasets\n",
        "train_transform = transforms.Compose([\n",
        "    transforms.Resize(224,224, antialias=True),\n",
        "    transforms.RandomCrop(224),\n",
        "    transforms.ToTensor(),\n",
        "    transforms.Normalize(mean=[0.485, 0.456, 0.406], std=[0.229, 0.224, 0.225])\n",
        "])\n",
        "\n",
        "val_test_transform = transforms.Compose([\n",
        "    transforms.Resize((224, 224), antialias=True),\n",
        "    transforms.CenterCrop(224),\n",
        "    transforms.ToTensor(),\n",
        "    transforms.Normalize(mean=[0.485, 0.456, 0.406], std=[0.229, 0.224, 0.225])\n",
        "])\n",
        "\n",
        "augment_transform = transforms.Compose([\n",
        "    train_transform,\n",
        "    transforms.RandomApply(\n",
        "        [transforms.RandomApply([transforms.RandomAffine(degrees=359, translate=(0.2, 0.2), shear=(20, 20, 20, 20)),\n",
        "                                 transforms.RandomHorizontalFlip(1), transforms.RandomVerticalFlip(1)], p=0.7),\n",
        "         transforms.ColorJitter(brightness=(0.75, 1.25), contrast=(0.75, 1.25), hue=(-0.15, 0.15),\n",
        "                                saturation=(0.75, 1.25))\n",
        "         ]\n",
        "    )\n",
        "])\n",
        "\n",
        "# Load the train, validation, and test datasets\n",
        "train_dataset = datasets.Flowers102(root=\"./data\", split=\"train\", transform=train_transform, download=True)\n",
        "all_train_data = [train_dataset]\n",
        "for i in range(1):  # augmented train dataset, concatenated with normal train dataset\n",
        "    all_train_data.append(\n",
        "        datasets.Flowers102(root=\"./data\", split=\"train\", transform=augment_transform, download=False))\n",
        "train_dataset_extra = torch.utils.data.ConcatDataset(all_train_data)\n",
        "\n",
        "train_loader = DataLoader(train_dataset_extra, batch_size=BATCH_SIZE, shuffle=True, num_workers=2)\n",
        "val_dataset = datasets.Flowers102(root=\"./data\", split=\"val\", transform=val_test_transform, download=True)\n",
        "val_loader = DataLoader(val_dataset, batch_size=BATCH_SIZE, shuffle=False, num_workers=2)\n",
        "test_dataset = datasets.Flowers102(root=\"./data\", split=\"test\", transform=val_test_transform, download=True)\n",
        "test_loader = DataLoader(test_dataset, batch_size=BATCH_SIZE, shuffle=False, num_workers=2)"
      ],
      "metadata": {
        "id": "WLXBzxwbbO_w",
        "pycharm": {
          "name": "#%%\n"
        },
        "colab": {
          "base_uri": "https://localhost:8080/"
        },
        "outputId": "6b598cc3-cbc5-49b1-e7bd-3eb81fc0c653"
      },
      "execution_count": 12,
      "outputs": [
        {
          "output_type": "stream",
          "name": "stdout",
          "text": [
            "Downloading https://thor.robots.ox.ac.uk/datasets/flowers-102/102flowers.tgz to data/flowers-102/102flowers.tgz\n"
          ]
        },
        {
          "output_type": "stream",
          "name": "stderr",
          "text": [
            "100%|██████████| 344862509/344862509 [00:16<00:00, 21165917.09it/s]\n"
          ]
        },
        {
          "output_type": "stream",
          "name": "stdout",
          "text": [
            "Extracting data/flowers-102/102flowers.tgz to data/flowers-102\n",
            "Downloading https://thor.robots.ox.ac.uk/datasets/flowers-102/imagelabels.mat to data/flowers-102/imagelabels.mat\n"
          ]
        },
        {
          "output_type": "stream",
          "name": "stderr",
          "text": [
            "100%|██████████| 502/502 [00:00<00:00, 571846.99it/s]\n"
          ]
        },
        {
          "output_type": "stream",
          "name": "stdout",
          "text": [
            "Downloading https://thor.robots.ox.ac.uk/datasets/flowers-102/setid.mat to data/flowers-102/setid.mat\n"
          ]
        },
        {
          "output_type": "stream",
          "name": "stderr",
          "text": [
            "100%|██████████| 14989/14989 [00:00<00:00, 22712580.44it/s]\n"
          ]
        }
      ]
    },
    {
      "cell_type": "code",
      "execution_count": 13,
      "outputs": [],
      "source": [
        "# Data for plots\n",
        "val_accuracies, val_losses, train_accuracies, train_losses = [], [], [], []\n",
        "plt.rcParams['axes.grid'] = True  # grid on all plots"
      ],
      "metadata": {
        "pycharm": {
          "name": "#%%\n"
        },
        "id": "jB_uO6DpJp0J"
      }
    },
    {
      "cell_type": "markdown",
      "source": [
        "## Define CNN model."
      ],
      "metadata": {
        "collapsed": false,
        "pycharm": {
          "name": "#%% md\n"
        },
        "id": "f5C3LZJgJp0K"
      }
    },
    {
      "cell_type": "code",
      "execution_count": 14,
      "outputs": [],
      "source": [
        "class CNN(nn.Module):\n",
        "    def __init__(self):\n",
        "        super(CNN, self).__init__()\n",
        "        self.conv1 = nn.Sequential(nn.Conv2d(3, 16, kernel_size=3, stride=1, padding=1),\n",
        "                                   nn.BatchNorm2d(16),\n",
        "                                   nn.ReLU(),\n",
        "                                   nn.MaxPool2d(2, 2))  # 224 -> 112\n",
        "        self.conv2 = nn.Sequential(nn.Conv2d(16, 32, kernel_size=3, stride=1, padding=1),\n",
        "                                   nn.BatchNorm2d(32),\n",
        "                                   nn.ReLU(),\n",
        "                                   nn.MaxPool2d(2, 2))  # 112 -> 56\n",
        "        self.conv3 = nn.Sequential(nn.Conv2d(32, 64, kernel_size=3, stride=1, padding=1),\n",
        "                                   nn.BatchNorm2d(64),\n",
        "                                   nn.ReLU(),\n",
        "                                   nn.MaxPool2d(2, 2))  # 56 -> 28\n",
        "        self.conv4 = nn.Sequential(nn.Conv2d(64, 128, kernel_size=3, stride=1, padding=1),\n",
        "                                   nn.BatchNorm2d(128),\n",
        "                                   nn.ReLU(),\n",
        "                                   nn.MaxPool2d(2, 2))  # 28 -> 14\n",
        "        self.conv5 = nn.Sequential(nn.Conv2d(128, 256, kernel_size=3, stride=1, padding=1),\n",
        "                                   nn.BatchNorm2d(256),\n",
        "                                   nn.ReLU(),\n",
        "                                   nn.MaxPool2d(2, 2))  # 14 -> 7\n",
        "        self.conv6 = nn.Sequential(nn.Conv2d(256, 512, kernel_size=3, stride=1, padding=1),\n",
        "                                   nn.BatchNorm2d(512),\n",
        "                                   nn.ReLU(),\n",
        "                                   nn.MaxPool2d(2, 2))  # 7 -> 3\n",
        "        self.conv7 = nn.Sequential(nn.Conv2d(512, 1024, kernel_size=3, stride=1, padding=1),\n",
        "                                   nn.BatchNorm2d(1024),\n",
        "                                   nn.MaxPool2d(2, 2))  # 3 -> 1\n",
        "        self.flatten = nn.Flatten()\n",
        "        self.fc1 = nn.Sequential(nn.Linear(1024, 512),\n",
        "                                 nn.ReLU())\n",
        "        self.fc2 = nn.Sequential(nn.Linear(512, 256),\n",
        "                                 nn.ReLU())\n",
        "\n",
        "        self.fc3 = nn.Sequential(nn.Linear(256, 102))\n",
        "\n",
        "    def forward(self, x):\n",
        "        x = self.conv1(x)\n",
        "        x = self.conv2(x)\n",
        "        x = self.conv3(x)\n",
        "        x = self.conv4(x)\n",
        "        x = self.conv5(x)\n",
        "        x = self.conv6(x)\n",
        "        x = self.conv7(x)\n",
        "        x = self.flatten(x)\n",
        "        x = self.fc1(x)\n",
        "        x = self.fc2(x)\n",
        "        x = self.fc3(x)\n",
        "        return x"
      ],
      "metadata": {
        "pycharm": {
          "name": "#%%\n"
        },
        "id": "yeq6L8fBJp0N"
      }
    },
    {
      "cell_type": "markdown",
      "source": [
        "# Function to save the model with the best validation accuracy."
      ],
      "metadata": {
        "collapsed": false,
        "pycharm": {
          "name": "#%% md\n"
        },
        "id": "WlIjCVIIJp0P"
      }
    },
    {
      "cell_type": "code",
      "execution_count": 15,
      "outputs": [],
      "source": [
        "def save_network(network, epoch_label):\n",
        "    save_filename = 'net_%s.pth' % epoch_label\n",
        "    save_path = os.path.join('./savedModels', save_filename)\n",
        "    torch.save(network.cpu().state_dict(), save_path)\n",
        "    if torch.cuda.is_available():\n",
        "       network.cuda()"
      ],
      "metadata": {
        "pycharm": {
          "name": "#%%\n"
        },
        "id": "FxVSWofuJp0P"
      }
    },
    {
      "cell_type": "markdown",
      "source": [
        "## Initialise CNN instance and train."
      ],
      "metadata": {
        "collapsed": false,
        "pycharm": {
          "name": "#%% md\n"
        },
        "id": "KjMpRpm7Jp0Q"
      }
    },
    {
      "cell_type": "code",
      "execution_count": 16,
      "outputs": [
        {
          "output_type": "display_data",
          "data": {
            "text/plain": [
              "<IPython.core.display.HTML object>"
            ],
            "text/html": [
              "Tracking run with wandb version 0.15.2"
            ]
          },
          "metadata": {}
        },
        {
          "output_type": "display_data",
          "data": {
            "text/plain": [
              "<IPython.core.display.HTML object>"
            ],
            "text/html": [
              "Run data is saved locally in <code>/content/wandb/run-20230509_124855-s114eadu</code>"
            ]
          },
          "metadata": {}
        },
        {
          "output_type": "display_data",
          "data": {
            "text/plain": [
              "<IPython.core.display.HTML object>"
            ],
            "text/html": [
              "Syncing run <strong><a href='https://wandb.ai/fartffart/final-tests/runs/s114eadu' target=\"_blank\">0.0001</a></strong> to <a href='https://wandb.ai/fartffart/final-tests' target=\"_blank\">Weights & Biases</a> (<a href='https://wandb.me/run' target=\"_blank\">docs</a>)<br/>"
            ]
          },
          "metadata": {}
        },
        {
          "output_type": "display_data",
          "data": {
            "text/plain": [
              "<IPython.core.display.HTML object>"
            ],
            "text/html": [
              " View project at <a href='https://wandb.ai/fartffart/final-tests' target=\"_blank\">https://wandb.ai/fartffart/final-tests</a>"
            ]
          },
          "metadata": {}
        },
        {
          "output_type": "display_data",
          "data": {
            "text/plain": [
              "<IPython.core.display.HTML object>"
            ],
            "text/html": [
              " View run at <a href='https://wandb.ai/fartffart/final-tests/runs/s114eadu' target=\"_blank\">https://wandb.ai/fartffart/final-tests/runs/s114eadu</a>"
            ]
          },
          "metadata": {}
        },
        {
          "output_type": "execute_result",
          "data": {
            "text/html": [
              "<button onClick=\"this.nextSibling.style.display='block';this.style.display='none';\">Display W&B run</button><iframe src='https://wandb.ai/fartffart/final-tests/runs/s114eadu?jupyter=true' style='border:none;width:100%;height:420px;display:none;'></iframe>"
            ],
            "text/plain": [
              "<wandb.sdk.wandb_run.Run at 0x7f0f50e42fb0>"
            ]
          },
          "metadata": {},
          "execution_count": 16
        }
      ],
      "source": [
        "wandb.init(\n",
        "    name=str(LEARNING_RATE),\n",
        "    project=\"final-tests\",\n",
        "    config={\n",
        "        \"learning_rate\": LEARNING_RATE,\n",
        "        \"architecture\": \"CNN-256L\",\n",
        "        \"dataset\": \"Flowers102\",\n",
        "        \"epochs\": EPOCHS,\n",
        "    }\n",
        ")"
      ],
      "metadata": {
        "pycharm": {
          "name": "#%%\n"
        },
        "colab": {
          "base_uri": "https://localhost:8080/",
          "height": 125
        },
        "id": "N3AUt4HhJp0R",
        "outputId": "949ac44b-6d27-4d13-99a2-bc8406ec3d76"
      }
    },
    {
      "cell_type": "code",
      "source": [
        "# Clear CUDA cache\n",
        "torch.cuda.empty_cache()\n",
        "gc.collect()\n",
        "\n",
        "# Create an instance of the CNN and move it to the device\n",
        "cnn = CNN().to(device)\n",
        "\n",
        "criterion = nn.CrossEntropyLoss()\n",
        "# Set weight decay\n",
        "WEIGHT_DECAY = 0.03\n",
        "\n",
        "# Create the optimizer and add weight decay\n",
        "optimizer = optim.Adam(cnn.parameters(), lr=LEARNING_RATE, weight_decay=WEIGHT_DECAY)\n",
        "\n",
        "# lr scheduler\n",
        "scheduler = optim.lr_scheduler.ReduceLROnPlateau(optimizer, patience=10, factor=0.1, verbose=True)"
      ],
      "metadata": {
        "id": "c3L6lRUEbjFp",
        "pycharm": {
          "name": "#%%\n"
        }
      },
      "execution_count": 17,
      "outputs": []
    },
    {
      "cell_type": "code",
      "execution_count": 18,
      "metadata": {
        "id": "yhGoXwwnQiQu",
        "colab": {
          "base_uri": "https://localhost:8080/",
          "height": 1000,
          "referenced_widgets": [
            "29569cc81afe4070885303dce4d147a1",
            "48dc304107ec4d6b9d89f1d995e1f110",
            "a9dd3eba3e4946a8bc7d1475ce361bab",
            "ec8c33fdf95b40a9870e741f34c35542",
            "75f8a289e68c4eff93fca798ecbedd0c",
            "a427db27cd6f47b9b1d2decd2ecb5f55",
            "651bab8f4fed440a8aa66a900260fbfb",
            "c362606894c44b3abfe634deeda8e46a"
          ]
        },
        "outputId": "b8b056a4-c738-42ae-906d-c460cb33b652",
        "pycharm": {
          "name": "#%%\n",
          "is_executing": true
        }
      },
      "outputs": [
        {
          "output_type": "stream",
          "name": "stdout",
          "text": [
            "Starting training with learning rate 0.0001000\n",
            "--------- Epoch 1 ----------\n",
            "Epoch [1/150], Step [32/64], Step Loss: 4.5317\n",
            "Epoch [1/150], Step [64/64], Step Loss: 4.3406\n",
            "Epoch [1/150], Training Loss: 4.5044, Training Accuracy: 3.33%\n",
            "Epoch [1/150], Validation Loss: 4.2226, Validation Accuracy: 9.12%\n",
            "  **Better model found. Updated best model.\n",
            "--------- Epoch 2 ----------\n",
            "Epoch [2/150], Step [32/64], Step Loss: 4.1879\n",
            "Epoch [2/150], Step [64/64], Step Loss: 3.8310\n",
            "Epoch [2/150], Training Loss: 4.0678, Training Accuracy: 8.73%\n",
            "Epoch [2/150], Validation Loss: 3.8843, Validation Accuracy: 11.08%\n",
            "  **Better model found. Updated best model.\n",
            "--------- Epoch 3 ----------\n",
            "Epoch [3/150], Step [32/64], Step Loss: 3.5624\n",
            "Epoch [3/150], Step [64/64], Step Loss: 3.2464\n",
            "Epoch [3/150], Training Loss: 3.6310, Training Accuracy: 13.97%\n",
            "Epoch [3/150], Validation Loss: 3.4726, Validation Accuracy: 18.43%\n",
            "  **Better model found. Updated best model.\n",
            "--------- Epoch 4 ----------\n",
            "Epoch [4/150], Step [32/64], Step Loss: 3.2248\n",
            "Epoch [4/150], Step [64/64], Step Loss: 3.0905\n",
            "Epoch [4/150], Training Loss: 3.2954, Training Accuracy: 19.36%\n",
            "Epoch [4/150], Validation Loss: 3.2803, Validation Accuracy: 19.22%\n",
            "  **Better model found. Updated best model.\n",
            "--------- Epoch 5 ----------\n",
            "Epoch [5/150], Step [32/64], Step Loss: 2.9783\n",
            "Epoch [5/150], Step [64/64], Step Loss: 3.0987\n",
            "Epoch [5/150], Training Loss: 3.1068, Training Accuracy: 23.38%\n",
            "Epoch [5/150], Validation Loss: 3.0241, Validation Accuracy: 23.43%\n",
            "  **Better model found. Updated best model.\n",
            "--------- Epoch 6 ----------\n",
            "Epoch [6/150], Step [32/64], Step Loss: 2.8029\n",
            "Epoch [6/150], Step [64/64], Step Loss: 2.8374\n",
            "Epoch [6/150], Training Loss: 2.8648, Training Accuracy: 29.12%\n",
            "Epoch [6/150], Validation Loss: 2.8247, Validation Accuracy: 28.92%\n",
            "  **Better model found. Updated best model.\n",
            "--------- Epoch 7 ----------\n",
            "Epoch [7/150], Step [32/64], Step Loss: 2.7453\n",
            "Epoch [7/150], Step [64/64], Step Loss: 2.6622\n",
            "Epoch [7/150], Training Loss: 2.7004, Training Accuracy: 32.06%\n",
            "Epoch [7/150], Validation Loss: 2.8551, Validation Accuracy: 28.82%\n",
            "--------- Epoch 8 ----------\n",
            "Epoch [8/150], Step [32/64], Step Loss: 2.8819\n",
            "Epoch [8/150], Step [64/64], Step Loss: 2.5283\n",
            "Epoch [8/150], Training Loss: 2.5308, Training Accuracy: 36.47%\n",
            "Epoch [8/150], Validation Loss: 2.8345, Validation Accuracy: 30.49%\n",
            "  **Better model found. Updated best model.\n",
            "--------- Epoch 9 ----------\n",
            "Epoch [9/150], Step [32/64], Step Loss: 2.4519\n",
            "Epoch [9/150], Step [64/64], Step Loss: 2.8436\n",
            "Epoch [9/150], Training Loss: 2.3640, Training Accuracy: 40.83%\n",
            "Epoch [9/150], Validation Loss: 2.5497, Validation Accuracy: 33.73%\n",
            "  **Better model found. Updated best model.\n",
            "--------- Epoch 10 ----------\n",
            "Epoch [10/150], Step [32/64], Step Loss: 2.2077\n",
            "Epoch [10/150], Step [64/64], Step Loss: 2.0157\n",
            "Epoch [10/150], Training Loss: 2.2456, Training Accuracy: 43.53%\n",
            "Epoch [10/150], Validation Loss: 2.6609, Validation Accuracy: 32.84%\n",
            "--------- Epoch 11 ----------\n",
            "Epoch [11/150], Step [32/64], Step Loss: 1.7907\n",
            "Epoch [11/150], Step [64/64], Step Loss: 2.1976\n",
            "Epoch [11/150], Training Loss: 2.1213, Training Accuracy: 45.64%\n",
            "Epoch [11/150], Validation Loss: 2.7279, Validation Accuracy: 31.67%\n",
            "--------- Epoch 12 ----------\n",
            "Epoch [12/150], Step [32/64], Step Loss: 2.0171\n",
            "Epoch [12/150], Step [64/64], Step Loss: 2.2665\n",
            "Epoch [12/150], Training Loss: 1.9481, Training Accuracy: 51.72%\n",
            "Epoch [12/150], Validation Loss: 2.5324, Validation Accuracy: 37.25%\n",
            "  **Better model found. Updated best model.\n",
            "--------- Epoch 13 ----------\n",
            "Epoch [13/150], Step [32/64], Step Loss: 1.9135\n",
            "Epoch [13/150], Step [64/64], Step Loss: 1.8881\n",
            "Epoch [13/150], Training Loss: 1.9104, Training Accuracy: 52.79%\n",
            "Epoch [13/150], Validation Loss: 2.4880, Validation Accuracy: 36.76%\n",
            "--------- Epoch 14 ----------\n",
            "Epoch [14/150], Step [32/64], Step Loss: 2.0337\n",
            "Epoch [14/150], Step [64/64], Step Loss: 1.9946\n",
            "Epoch [14/150], Training Loss: 1.8277, Training Accuracy: 52.84%\n",
            "Epoch [14/150], Validation Loss: 2.3798, Validation Accuracy: 39.31%\n",
            "  **Better model found. Updated best model.\n",
            "--------- Epoch 15 ----------\n",
            "Epoch [15/150], Step [32/64], Step Loss: 1.3287\n",
            "Epoch [15/150], Step [64/64], Step Loss: 1.7661\n",
            "Epoch [15/150], Training Loss: 1.6566, Training Accuracy: 59.41%\n",
            "Epoch [15/150], Validation Loss: 2.3999, Validation Accuracy: 37.84%\n",
            "--------- Epoch 16 ----------\n",
            "Epoch [16/150], Step [32/64], Step Loss: 1.4183\n",
            "Epoch [16/150], Step [64/64], Step Loss: 1.9009\n",
            "Epoch [16/150], Training Loss: 1.5365, Training Accuracy: 63.58%\n",
            "Epoch [16/150], Validation Loss: 2.2535, Validation Accuracy: 42.55%\n",
            "  **Better model found. Updated best model.\n",
            "--------- Epoch 17 ----------\n",
            "Epoch [17/150], Step [32/64], Step Loss: 1.6333\n",
            "Epoch [17/150], Step [64/64], Step Loss: 1.8048\n",
            "Epoch [17/150], Training Loss: 1.5101, Training Accuracy: 63.97%\n",
            "Epoch [17/150], Validation Loss: 2.1793, Validation Accuracy: 46.57%\n",
            "  **Better model found. Updated best model.\n",
            "--------- Epoch 18 ----------\n",
            "Epoch [18/150], Step [32/64], Step Loss: 1.6428\n",
            "Epoch [18/150], Step [64/64], Step Loss: 1.4968\n",
            "Epoch [18/150], Training Loss: 1.4634, Training Accuracy: 65.98%\n",
            "Epoch [18/150], Validation Loss: 2.2531, Validation Accuracy: 44.22%\n",
            "--------- Epoch 19 ----------\n",
            "Epoch [19/150], Step [32/64], Step Loss: 1.6306\n",
            "Epoch [19/150], Step [64/64], Step Loss: 1.0583\n",
            "Epoch [19/150], Training Loss: 1.3575, Training Accuracy: 68.28%\n",
            "Epoch [19/150], Validation Loss: 2.1996, Validation Accuracy: 44.71%\n",
            "--------- Epoch 20 ----------\n",
            "Epoch [20/150], Step [32/64], Step Loss: 1.2170\n",
            "Epoch [20/150], Step [64/64], Step Loss: 1.7446\n",
            "Epoch [20/150], Training Loss: 1.3555, Training Accuracy: 67.06%\n",
            "Epoch [20/150], Validation Loss: 2.3687, Validation Accuracy: 43.82%\n",
            "--------- Epoch 21 ----------\n",
            "Epoch [21/150], Step [32/64], Step Loss: 1.1509\n",
            "Epoch [21/150], Step [64/64], Step Loss: 1.2706\n",
            "Epoch [21/150], Training Loss: 1.2423, Training Accuracy: 70.83%\n",
            "Epoch [21/150], Validation Loss: 2.2160, Validation Accuracy: 44.90%\n",
            "--------- Epoch 22 ----------\n",
            "Epoch [22/150], Step [32/64], Step Loss: 1.3418\n",
            "Epoch [22/150], Step [64/64], Step Loss: 1.7448\n",
            "Epoch [22/150], Training Loss: 1.2565, Training Accuracy: 71.18%\n",
            "Epoch [22/150], Validation Loss: 2.1322, Validation Accuracy: 45.78%\n",
            "--------- Epoch 23 ----------\n",
            "Epoch [23/150], Step [32/64], Step Loss: 0.8910\n",
            "Epoch [23/150], Step [64/64], Step Loss: 1.7152\n",
            "Epoch [23/150], Training Loss: 1.1779, Training Accuracy: 73.73%\n",
            "Epoch [23/150], Validation Loss: 2.5016, Validation Accuracy: 39.51%\n",
            "--------- Epoch 24 ----------\n",
            "Epoch [24/150], Step [32/64], Step Loss: 1.4575\n",
            "Epoch [24/150], Step [64/64], Step Loss: 1.2030\n",
            "Epoch [24/150], Training Loss: 1.1118, Training Accuracy: 74.26%\n",
            "Epoch [24/150], Validation Loss: 2.8704, Validation Accuracy: 37.06%\n",
            "--------- Epoch 25 ----------\n",
            "Epoch [25/150], Step [32/64], Step Loss: 0.7495\n",
            "Epoch [25/150], Step [64/64], Step Loss: 1.1529\n",
            "Epoch [25/150], Training Loss: 1.1086, Training Accuracy: 75.54%\n",
            "Epoch [25/150], Validation Loss: 2.3252, Validation Accuracy: 45.20%\n",
            "--------- Epoch 26 ----------\n",
            "Epoch [26/150], Step [32/64], Step Loss: 1.0358\n",
            "Epoch [26/150], Step [64/64], Step Loss: 0.7094\n",
            "Epoch [26/150], Training Loss: 1.0084, Training Accuracy: 78.14%\n",
            "Epoch [26/150], Validation Loss: 2.2139, Validation Accuracy: 47.35%\n",
            "  **Better model found. Updated best model.\n",
            "--------- Epoch 27 ----------\n",
            "Epoch [27/150], Step [32/64], Step Loss: 1.0390\n",
            "Epoch [27/150], Step [64/64], Step Loss: 0.9777\n",
            "Epoch [27/150], Training Loss: 1.0343, Training Accuracy: 77.35%\n",
            "Epoch [27/150], Validation Loss: 2.1170, Validation Accuracy: 46.76%\n",
            "--------- Epoch 28 ----------\n",
            "Epoch [28/150], Step [32/64], Step Loss: 1.0633\n",
            "Epoch [28/150], Step [64/64], Step Loss: 0.9255\n",
            "Epoch [28/150], Training Loss: 1.0267, Training Accuracy: 78.09%\n",
            "Epoch [28/150], Validation Loss: 2.1557, Validation Accuracy: 48.63%\n",
            "  **Better model found. Updated best model.\n",
            "--------- Epoch 29 ----------\n",
            "Epoch [29/150], Step [32/64], Step Loss: 1.3043\n",
            "Epoch [29/150], Step [64/64], Step Loss: 0.7964\n",
            "Epoch [29/150], Training Loss: 0.9629, Training Accuracy: 78.97%\n",
            "Epoch [29/150], Validation Loss: 1.9944, Validation Accuracy: 50.69%\n",
            "  **Better model found. Updated best model.\n",
            "--------- Epoch 30 ----------\n",
            "Epoch [30/150], Step [32/64], Step Loss: 1.0090\n",
            "Epoch [30/150], Step [64/64], Step Loss: 0.8514\n",
            "Epoch [30/150], Training Loss: 1.0293, Training Accuracy: 77.21%\n",
            "Epoch [30/150], Validation Loss: 2.1945, Validation Accuracy: 46.76%\n",
            "--------- Epoch 31 ----------\n",
            "Epoch [31/150], Step [32/64], Step Loss: 0.7259\n",
            "Epoch [31/150], Step [64/64], Step Loss: 0.7183\n",
            "Epoch [31/150], Training Loss: 0.9758, Training Accuracy: 77.75%\n",
            "Epoch [31/150], Validation Loss: 2.1596, Validation Accuracy: 48.33%\n",
            "--------- Epoch 32 ----------\n",
            "Epoch [32/150], Step [32/64], Step Loss: 1.0295\n",
            "Epoch [32/150], Step [64/64], Step Loss: 0.7230\n",
            "Epoch [32/150], Training Loss: 1.0258, Training Accuracy: 77.79%\n",
            "Epoch [32/150], Validation Loss: 2.1642, Validation Accuracy: 47.25%\n",
            "--------- Epoch 33 ----------\n",
            "Epoch [33/150], Step [32/64], Step Loss: 0.8718\n",
            "Epoch [33/150], Step [64/64], Step Loss: 1.1211\n",
            "Epoch [33/150], Training Loss: 0.8978, Training Accuracy: 80.93%\n",
            "Epoch [33/150], Validation Loss: 2.2441, Validation Accuracy: 46.67%\n",
            "--------- Epoch 34 ----------\n",
            "Epoch [34/150], Step [32/64], Step Loss: 0.9852\n",
            "Epoch [34/150], Step [64/64], Step Loss: 1.3390\n",
            "Epoch [34/150], Training Loss: 0.9264, Training Accuracy: 79.46%\n",
            "Epoch [34/150], Validation Loss: 2.0936, Validation Accuracy: 49.41%\n",
            "--------- Epoch 35 ----------\n",
            "Epoch [35/150], Step [32/64], Step Loss: 0.7287\n",
            "Epoch [35/150], Step [64/64], Step Loss: 0.9909\n",
            "Epoch [35/150], Training Loss: 0.9309, Training Accuracy: 80.64%\n",
            "Epoch [35/150], Validation Loss: 1.9861, Validation Accuracy: 49.51%\n",
            "--------- Epoch 36 ----------\n",
            "Epoch [36/150], Step [32/64], Step Loss: 0.6162\n",
            "Epoch [36/150], Step [64/64], Step Loss: 0.8724\n",
            "Epoch [36/150], Training Loss: 0.8994, Training Accuracy: 80.49%\n",
            "Epoch [36/150], Validation Loss: 2.0218, Validation Accuracy: 49.90%\n",
            "--------- Epoch 37 ----------\n",
            "Epoch [37/150], Step [32/64], Step Loss: 0.4649\n",
            "Epoch [37/150], Step [64/64], Step Loss: 0.9489\n",
            "Epoch [37/150], Training Loss: 0.8609, Training Accuracy: 82.94%\n",
            "Epoch [37/150], Validation Loss: 2.1035, Validation Accuracy: 50.49%\n",
            "--------- Epoch 38 ----------\n",
            "Epoch [38/150], Step [32/64], Step Loss: 0.7673\n",
            "Epoch [38/150], Step [64/64], Step Loss: 1.1199\n",
            "Epoch [38/150], Training Loss: 0.8678, Training Accuracy: 81.18%\n",
            "Epoch [38/150], Validation Loss: 2.0527, Validation Accuracy: 50.49%\n",
            "--------- Epoch 39 ----------\n",
            "Epoch [39/150], Step [32/64], Step Loss: 0.7465\n",
            "Epoch [39/150], Step [64/64], Step Loss: 0.5208\n",
            "Epoch [39/150], Training Loss: 0.8589, Training Accuracy: 82.21%\n",
            "Epoch [39/150], Validation Loss: 2.0569, Validation Accuracy: 51.27%\n",
            "  **Better model found. Updated best model.\n",
            "--------- Epoch 40 ----------\n",
            "Epoch [40/150], Step [32/64], Step Loss: 0.6294\n",
            "Epoch [40/150], Step [64/64], Step Loss: 1.1074\n",
            "Epoch [40/150], Training Loss: 0.8418, Training Accuracy: 82.35%\n",
            "Epoch [40/150], Validation Loss: 1.9938, Validation Accuracy: 49.41%\n",
            "--------- Epoch 41 ----------\n",
            "Epoch [41/150], Step [32/64], Step Loss: 0.5010\n",
            "Epoch [41/150], Step [64/64], Step Loss: 0.9278\n",
            "Epoch [41/150], Training Loss: 0.8795, Training Accuracy: 81.08%\n",
            "Epoch [41/150], Validation Loss: 2.0093, Validation Accuracy: 52.35%\n",
            "  **Better model found. Updated best model.\n",
            "--------- Epoch 42 ----------\n",
            "Epoch [42/150], Step [32/64], Step Loss: 1.1001\n",
            "Epoch [42/150], Step [64/64], Step Loss: 0.8773\n",
            "Epoch [42/150], Training Loss: 0.8249, Training Accuracy: 82.30%\n",
            "Epoch [42/150], Validation Loss: 2.3037, Validation Accuracy: 44.31%\n",
            "--------- Epoch 43 ----------\n",
            "Epoch [43/150], Step [32/64], Step Loss: 0.8567\n",
            "Epoch [43/150], Step [64/64], Step Loss: 0.5782\n",
            "Epoch [43/150], Training Loss: 0.8278, Training Accuracy: 81.96%\n",
            "Epoch [43/150], Validation Loss: 1.9101, Validation Accuracy: 52.94%\n",
            "  **Better model found. Updated best model.\n",
            "--------- Epoch 44 ----------\n",
            "Epoch [44/150], Step [32/64], Step Loss: 0.6851\n",
            "Epoch [44/150], Step [64/64], Step Loss: 0.6488\n",
            "Epoch [44/150], Training Loss: 0.7575, Training Accuracy: 83.68%\n",
            "Epoch [44/150], Validation Loss: 1.9710, Validation Accuracy: 50.20%\n",
            "--------- Epoch 45 ----------\n",
            "Epoch [45/150], Step [32/64], Step Loss: 1.1533\n",
            "Epoch [45/150], Step [64/64], Step Loss: 0.9693\n",
            "Epoch [45/150], Training Loss: 0.8227, Training Accuracy: 81.27%\n",
            "Epoch [45/150], Validation Loss: 2.1132, Validation Accuracy: 49.90%\n",
            "--------- Epoch 46 ----------\n",
            "Epoch [46/150], Step [32/64], Step Loss: 0.8667\n",
            "Epoch [46/150], Step [64/64], Step Loss: 1.0685\n",
            "Epoch [46/150], Training Loss: 0.8611, Training Accuracy: 81.96%\n",
            "Epoch [46/150], Validation Loss: 2.1156, Validation Accuracy: 47.94%\n",
            "--------- Epoch 47 ----------\n",
            "Epoch [47/150], Step [32/64], Step Loss: 0.8651\n",
            "Epoch [47/150], Step [64/64], Step Loss: 1.2292\n",
            "Epoch [47/150], Training Loss: 0.8184, Training Accuracy: 81.96%\n",
            "Epoch [47/150], Validation Loss: 2.0667, Validation Accuracy: 51.18%\n",
            "--------- Epoch 48 ----------\n",
            "Epoch [48/150], Step [32/64], Step Loss: 0.9831\n",
            "Epoch [48/150], Step [64/64], Step Loss: 0.8102\n",
            "Epoch [48/150], Training Loss: 0.8816, Training Accuracy: 81.32%\n",
            "Epoch [48/150], Validation Loss: 2.0545, Validation Accuracy: 50.69%\n",
            "--------- Epoch 49 ----------\n",
            "Epoch [49/150], Step [32/64], Step Loss: 0.7674\n",
            "Epoch [49/150], Step [64/64], Step Loss: 0.7094\n",
            "Epoch [49/150], Training Loss: 0.8683, Training Accuracy: 80.29%\n",
            "Epoch [49/150], Validation Loss: 1.8520, Validation Accuracy: 55.69%\n",
            "  **Better model found. Updated best model.\n",
            "--------- Epoch 50 ----------\n",
            "Epoch [50/150], Step [32/64], Step Loss: 0.6134\n",
            "Epoch [50/150], Step [64/64], Step Loss: 0.6213\n",
            "Epoch [50/150], Training Loss: 0.8293, Training Accuracy: 82.89%\n",
            "Epoch [50/150], Validation Loss: 1.9243, Validation Accuracy: 52.84%\n",
            "--------- Epoch 51 ----------\n",
            "Epoch [51/150], Step [32/64], Step Loss: 0.8794\n",
            "Epoch [51/150], Step [64/64], Step Loss: 0.9422\n",
            "Epoch [51/150], Training Loss: 0.8219, Training Accuracy: 82.94%\n",
            "Epoch [51/150], Validation Loss: 1.9726, Validation Accuracy: 52.16%\n",
            "--------- Epoch 52 ----------\n",
            "Epoch [52/150], Step [32/64], Step Loss: 0.9848\n",
            "Epoch [52/150], Step [64/64], Step Loss: 0.5997\n",
            "Epoch [52/150], Training Loss: 0.7859, Training Accuracy: 82.79%\n",
            "Epoch [52/150], Validation Loss: 1.9411, Validation Accuracy: 52.94%\n",
            "--------- Epoch 53 ----------\n",
            "Epoch [53/150], Step [32/64], Step Loss: 0.8675\n",
            "Epoch [53/150], Step [64/64], Step Loss: 0.6102\n",
            "Epoch [53/150], Training Loss: 0.7797, Training Accuracy: 83.77%\n",
            "Epoch [53/150], Validation Loss: 1.8625, Validation Accuracy: 53.24%\n",
            "--------- Epoch 54 ----------\n",
            "Epoch [54/150], Step [32/64], Step Loss: 0.7060\n",
            "Epoch [54/150], Step [64/64], Step Loss: 0.8979\n",
            "Epoch [54/150], Training Loss: 0.7587, Training Accuracy: 84.31%\n",
            "Epoch [54/150], Validation Loss: 2.0540, Validation Accuracy: 49.41%\n",
            "--------- Epoch 55 ----------\n",
            "Epoch [55/150], Step [32/64], Step Loss: 0.7262\n",
            "Epoch [55/150], Step [64/64], Step Loss: 0.7300\n",
            "Epoch [55/150], Training Loss: 0.7687, Training Accuracy: 83.77%\n",
            "Epoch [55/150], Validation Loss: 1.9829, Validation Accuracy: 52.25%\n",
            "--------- Epoch 56 ----------\n",
            "Epoch [56/150], Step [32/64], Step Loss: 0.6593\n",
            "Epoch [56/150], Step [64/64], Step Loss: 1.0568\n",
            "Epoch [56/150], Training Loss: 0.8028, Training Accuracy: 82.35%\n",
            "Epoch [56/150], Validation Loss: 2.0130, Validation Accuracy: 49.22%\n",
            "--------- Epoch 57 ----------\n",
            "Epoch [57/150], Step [32/64], Step Loss: 0.5969\n",
            "Epoch [57/150], Step [64/64], Step Loss: 0.7062\n",
            "Epoch [57/150], Training Loss: 0.7653, Training Accuracy: 84.02%\n",
            "Epoch [57/150], Validation Loss: 1.8767, Validation Accuracy: 52.35%\n",
            "--------- Epoch 58 ----------\n",
            "Epoch [58/150], Step [32/64], Step Loss: 0.7415\n",
            "Epoch [58/150], Step [64/64], Step Loss: 0.8285\n",
            "Epoch [58/150], Training Loss: 0.7989, Training Accuracy: 83.28%\n",
            "Epoch [58/150], Validation Loss: 1.9427, Validation Accuracy: 51.47%\n",
            "--------- Epoch 59 ----------\n",
            "Epoch [59/150], Step [32/64], Step Loss: 0.8011\n",
            "Epoch [59/150], Step [64/64], Step Loss: 0.6453\n",
            "Epoch [59/150], Training Loss: 0.8385, Training Accuracy: 82.45%\n",
            "Epoch [59/150], Validation Loss: 1.9182, Validation Accuracy: 52.94%\n",
            "--------- Epoch 60 ----------\n",
            "Epoch [60/150], Step [32/64], Step Loss: 0.8346\n",
            "Epoch [60/150], Step [64/64], Step Loss: 0.7155\n",
            "Epoch [60/150], Training Loss: 0.7465, Training Accuracy: 84.17%\n",
            "Epoch [60/150], Validation Loss: 1.9632, Validation Accuracy: 51.86%\n",
            "Epoch 00060: reducing learning rate of group 0 to 1.0000e-05.\n",
            "--------- Epoch 61 ----------\n",
            "Epoch [61/150], Step [32/64], Step Loss: 0.6589\n",
            "Epoch [61/150], Step [64/64], Step Loss: 0.4654\n",
            "Epoch [61/150], Training Loss: 0.6634, Training Accuracy: 85.05%\n",
            "Epoch [61/150], Validation Loss: 1.6287, Validation Accuracy: 59.22%\n",
            "  **Better model found. Updated best model.\n",
            "--------- Epoch 62 ----------\n",
            "Epoch [62/150], Step [32/64], Step Loss: 0.5646\n",
            "Epoch [62/150], Step [64/64], Step Loss: 1.0155\n",
            "Epoch [62/150], Training Loss: 0.6123, Training Accuracy: 86.57%\n",
            "Epoch [62/150], Validation Loss: 1.6068, Validation Accuracy: 59.90%\n",
            "  **Better model found. Updated best model.\n",
            "--------- Epoch 63 ----------\n",
            "Epoch [63/150], Step [32/64], Step Loss: 0.3841\n",
            "Epoch [63/150], Step [64/64], Step Loss: 0.4982\n",
            "Epoch [63/150], Training Loss: 0.5554, Training Accuracy: 88.48%\n",
            "Epoch [63/150], Validation Loss: 1.5974, Validation Accuracy: 60.29%\n",
            "  **Better model found. Updated best model.\n",
            "--------- Epoch 64 ----------\n",
            "Epoch [64/150], Step [32/64], Step Loss: 0.5318\n",
            "Epoch [64/150], Step [64/64], Step Loss: 0.4037\n",
            "Epoch [64/150], Training Loss: 0.5477, Training Accuracy: 87.75%\n",
            "Epoch [64/150], Validation Loss: 1.6265, Validation Accuracy: 58.43%\n",
            "--------- Epoch 65 ----------\n",
            "Epoch [65/150], Step [32/64], Step Loss: 0.6168\n",
            "Epoch [65/150], Step [64/64], Step Loss: 0.5205\n",
            "Epoch [65/150], Training Loss: 0.5440, Training Accuracy: 88.24%\n",
            "Epoch [65/150], Validation Loss: 1.6016, Validation Accuracy: 60.59%\n",
            "  **Better model found. Updated best model.\n",
            "--------- Epoch 66 ----------\n",
            "Epoch [66/150], Step [32/64], Step Loss: 0.3718\n",
            "Epoch [66/150], Step [64/64], Step Loss: 0.4163\n",
            "Epoch [66/150], Training Loss: 0.5497, Training Accuracy: 88.19%\n",
            "Epoch [66/150], Validation Loss: 1.5954, Validation Accuracy: 61.47%\n",
            "  **Better model found. Updated best model.\n",
            "--------- Epoch 67 ----------\n",
            "Epoch [67/150], Step [32/64], Step Loss: 0.3507\n",
            "Epoch [67/150], Step [64/64], Step Loss: 0.4971\n",
            "Epoch [67/150], Training Loss: 0.5385, Training Accuracy: 88.19%\n",
            "Epoch [67/150], Validation Loss: 1.5981, Validation Accuracy: 60.98%\n",
            "--------- Epoch 68 ----------\n",
            "Epoch [68/150], Step [32/64], Step Loss: 0.2196\n",
            "Epoch [68/150], Step [64/64], Step Loss: 0.4959\n",
            "Epoch [68/150], Training Loss: 0.5218, Training Accuracy: 88.77%\n",
            "Epoch [68/150], Validation Loss: 1.6105, Validation Accuracy: 61.27%\n",
            "--------- Epoch 69 ----------\n",
            "Epoch [69/150], Step [32/64], Step Loss: 0.3649\n",
            "Epoch [69/150], Step [64/64], Step Loss: 0.4264\n",
            "Epoch [69/150], Training Loss: 0.5530, Training Accuracy: 88.43%\n",
            "Epoch [69/150], Validation Loss: 1.6000, Validation Accuracy: 60.49%\n",
            "--------- Epoch 70 ----------\n",
            "Epoch [70/150], Step [32/64], Step Loss: 0.4795\n",
            "Epoch [70/150], Step [64/64], Step Loss: 0.6141\n",
            "Epoch [70/150], Training Loss: 0.4981, Training Accuracy: 89.75%\n",
            "Epoch [70/150], Validation Loss: 1.5952, Validation Accuracy: 60.29%\n",
            "--------- Epoch 71 ----------\n",
            "Epoch [71/150], Step [32/64], Step Loss: 0.3194\n",
            "Epoch [71/150], Step [64/64], Step Loss: 0.8502\n",
            "Epoch [71/150], Training Loss: 0.5724, Training Accuracy: 87.30%\n",
            "Epoch [71/150], Validation Loss: 1.6111, Validation Accuracy: 60.59%\n",
            "--------- Epoch 72 ----------\n",
            "Epoch [72/150], Step [32/64], Step Loss: 0.2905\n",
            "Epoch [72/150], Step [64/64], Step Loss: 0.3515\n",
            "Epoch [72/150], Training Loss: 0.5258, Training Accuracy: 88.19%\n",
            "Epoch [72/150], Validation Loss: 1.5991, Validation Accuracy: 61.18%\n",
            "--------- Epoch 73 ----------\n",
            "Epoch [73/150], Step [32/64], Step Loss: 0.3911\n",
            "Epoch [73/150], Step [64/64], Step Loss: 0.4438\n",
            "Epoch [73/150], Training Loss: 0.5480, Training Accuracy: 88.14%\n",
            "Epoch [73/150], Validation Loss: 1.5984, Validation Accuracy: 60.10%\n",
            "--------- Epoch 74 ----------\n",
            "Epoch [74/150], Step [32/64], Step Loss: 0.1333\n",
            "Epoch [74/150], Step [64/64], Step Loss: 0.9521\n",
            "Epoch [74/150], Training Loss: 0.5352, Training Accuracy: 87.79%\n",
            "Epoch [74/150], Validation Loss: 1.5901, Validation Accuracy: 60.88%\n",
            "--------- Epoch 75 ----------\n",
            "Epoch [75/150], Step [32/64], Step Loss: 0.4669\n",
            "Epoch [75/150], Step [64/64], Step Loss: 0.4463\n",
            "Epoch [75/150], Training Loss: 0.5191, Training Accuracy: 88.33%\n",
            "Epoch [75/150], Validation Loss: 1.6158, Validation Accuracy: 59.71%\n",
            "--------- Epoch 76 ----------\n",
            "Epoch [76/150], Step [32/64], Step Loss: 0.7841\n",
            "Epoch [76/150], Step [64/64], Step Loss: 0.3064\n",
            "Epoch [76/150], Training Loss: 0.5195, Training Accuracy: 88.09%\n",
            "Epoch [76/150], Validation Loss: 1.6083, Validation Accuracy: 59.71%\n",
            "--------- Epoch 77 ----------\n",
            "Epoch [77/150], Step [32/64], Step Loss: 0.4129\n",
            "Epoch [77/150], Step [64/64], Step Loss: 0.5614\n",
            "Epoch [77/150], Training Loss: 0.5172, Training Accuracy: 89.26%\n",
            "Epoch [77/150], Validation Loss: 1.6010, Validation Accuracy: 61.57%\n",
            "  **Better model found. Updated best model.\n",
            "--------- Epoch 78 ----------\n",
            "Epoch [78/150], Step [32/64], Step Loss: 0.3127\n",
            "Epoch [78/150], Step [64/64], Step Loss: 0.4228\n",
            "Epoch [78/150], Training Loss: 0.5241, Training Accuracy: 88.58%\n",
            "Epoch [78/150], Validation Loss: 1.6147, Validation Accuracy: 60.78%\n",
            "--------- Epoch 79 ----------\n",
            "Epoch [79/150], Step [32/64], Step Loss: 0.7575\n",
            "Epoch [79/150], Step [64/64], Step Loss: 0.7242\n",
            "Epoch [79/150], Training Loss: 0.5370, Training Accuracy: 88.38%\n",
            "Epoch [79/150], Validation Loss: 1.5993, Validation Accuracy: 61.57%\n",
            "--------- Epoch 80 ----------\n",
            "Epoch [80/150], Step [32/64], Step Loss: 0.4323\n",
            "Epoch [80/150], Step [64/64], Step Loss: 0.7241\n",
            "Epoch [80/150], Training Loss: 0.4852, Training Accuracy: 88.73%\n",
            "Epoch [80/150], Validation Loss: 1.6028, Validation Accuracy: 60.88%\n",
            "--------- Epoch 81 ----------\n",
            "Epoch [81/150], Step [32/64], Step Loss: 0.7067\n",
            "Epoch [81/150], Step [64/64], Step Loss: 0.3196\n",
            "Epoch [81/150], Training Loss: 0.5089, Training Accuracy: 89.02%\n",
            "Epoch [81/150], Validation Loss: 1.6195, Validation Accuracy: 60.59%\n",
            "--------- Epoch 82 ----------\n",
            "Epoch [82/150], Step [32/64], Step Loss: 0.7124\n",
            "Epoch [82/150], Step [64/64], Step Loss: 0.4943\n",
            "Epoch [82/150], Training Loss: 0.5041, Training Accuracy: 88.92%\n",
            "Epoch [82/150], Validation Loss: 1.6090, Validation Accuracy: 60.29%\n",
            "--------- Epoch 83 ----------\n",
            "Epoch [83/150], Step [32/64], Step Loss: 0.2808\n",
            "Epoch [83/150], Step [64/64], Step Loss: 0.5580\n",
            "Epoch [83/150], Training Loss: 0.5222, Training Accuracy: 89.51%\n",
            "Epoch [83/150], Validation Loss: 1.6217, Validation Accuracy: 60.10%\n",
            "--------- Epoch 84 ----------\n",
            "Epoch [84/150], Step [32/64], Step Loss: 0.4608\n",
            "Epoch [84/150], Step [64/64], Step Loss: 0.6784\n",
            "Epoch [84/150], Training Loss: 0.4725, Training Accuracy: 89.95%\n",
            "Epoch [84/150], Validation Loss: 1.6071, Validation Accuracy: 59.90%\n",
            "--------- Epoch 85 ----------\n",
            "Epoch [85/150], Step [32/64], Step Loss: 0.8458\n",
            "Epoch [85/150], Step [64/64], Step Loss: 0.7563\n",
            "Epoch [85/150], Training Loss: 0.5127, Training Accuracy: 89.17%\n",
            "Epoch [85/150], Validation Loss: 1.6044, Validation Accuracy: 60.39%\n",
            "Epoch 00085: reducing learning rate of group 0 to 1.0000e-06.\n",
            "--------- Epoch 86 ----------\n",
            "Epoch [86/150], Step [32/64], Step Loss: 0.3684\n",
            "Epoch [86/150], Step [64/64], Step Loss: 0.2608\n",
            "Epoch [86/150], Training Loss: 0.4530, Training Accuracy: 90.69%\n",
            "Epoch [86/150], Validation Loss: 1.5920, Validation Accuracy: 60.49%\n",
            "--------- Epoch 87 ----------\n",
            "Epoch [87/150], Step [32/64], Step Loss: 0.4543\n",
            "Epoch [87/150], Step [64/64], Step Loss: 0.4101\n",
            "Epoch [87/150], Training Loss: 0.5113, Training Accuracy: 88.68%\n",
            "Epoch [87/150], Validation Loss: 1.5960, Validation Accuracy: 61.67%\n",
            "  **Better model found. Updated best model.\n",
            "--------- Epoch 88 ----------\n",
            "Epoch [88/150], Step [32/64], Step Loss: 0.6961\n",
            "Epoch [88/150], Step [64/64], Step Loss: 0.9760\n",
            "Epoch [88/150], Training Loss: 0.5016, Training Accuracy: 89.41%\n",
            "Epoch [88/150], Validation Loss: 1.5853, Validation Accuracy: 61.08%\n",
            "--------- Epoch 89 ----------\n",
            "Epoch [89/150], Step [32/64], Step Loss: 0.4507\n",
            "Epoch [89/150], Step [64/64], Step Loss: 0.7137\n",
            "Epoch [89/150], Training Loss: 0.5055, Training Accuracy: 89.12%\n",
            "Epoch [89/150], Validation Loss: 1.5879, Validation Accuracy: 61.08%\n",
            "--------- Epoch 90 ----------\n",
            "Epoch [90/150], Step [32/64], Step Loss: 0.4977\n",
            "Epoch [90/150], Step [64/64], Step Loss: 0.5595\n",
            "Epoch [90/150], Training Loss: 0.4920, Training Accuracy: 89.12%\n",
            "Epoch [90/150], Validation Loss: 1.5957, Validation Accuracy: 60.39%\n",
            "--------- Epoch 91 ----------\n",
            "Epoch [91/150], Step [32/64], Step Loss: 0.7614\n",
            "Epoch [91/150], Step [64/64], Step Loss: 0.9036\n",
            "Epoch [91/150], Training Loss: 0.5122, Training Accuracy: 88.43%\n",
            "Epoch [91/150], Validation Loss: 1.5905, Validation Accuracy: 61.18%\n",
            "--------- Epoch 92 ----------\n",
            "Epoch [92/150], Step [32/64], Step Loss: 0.3385\n",
            "Epoch [92/150], Step [64/64], Step Loss: 0.3948\n",
            "Epoch [92/150], Training Loss: 0.4265, Training Accuracy: 91.27%\n",
            "Epoch [92/150], Validation Loss: 1.5941, Validation Accuracy: 60.88%\n",
            "--------- Epoch 93 ----------\n",
            "Epoch [93/150], Step [32/64], Step Loss: 0.1890\n",
            "Epoch [93/150], Step [64/64], Step Loss: 0.4780\n",
            "Epoch [93/150], Training Loss: 0.4900, Training Accuracy: 89.51%\n",
            "Epoch [93/150], Validation Loss: 1.5849, Validation Accuracy: 60.49%\n",
            "--------- Epoch 94 ----------\n",
            "Epoch [94/150], Step [32/64], Step Loss: 0.4649\n",
            "Epoch [94/150], Step [64/64], Step Loss: 0.6486\n",
            "Epoch [94/150], Training Loss: 0.4814, Training Accuracy: 90.10%\n",
            "Epoch [94/150], Validation Loss: 1.5844, Validation Accuracy: 60.78%\n",
            "--------- Epoch 95 ----------\n",
            "Epoch [95/150], Step [32/64], Step Loss: 0.3312\n",
            "Epoch [95/150], Step [64/64], Step Loss: 0.4682\n",
            "Epoch [95/150], Training Loss: 0.4917, Training Accuracy: 89.75%\n",
            "Epoch [95/150], Validation Loss: 1.5942, Validation Accuracy: 60.49%\n",
            "--------- Epoch 96 ----------\n",
            "Epoch [96/150], Step [32/64], Step Loss: 0.6116\n",
            "Epoch [96/150], Step [64/64], Step Loss: 0.4946\n",
            "Epoch [96/150], Training Loss: 0.4965, Training Accuracy: 89.31%\n",
            "Epoch [96/150], Validation Loss: 1.5946, Validation Accuracy: 60.78%\n",
            "--------- Epoch 97 ----------\n",
            "Epoch [97/150], Step [32/64], Step Loss: 0.3052\n",
            "Epoch [97/150], Step [64/64], Step Loss: 0.2722\n",
            "Epoch [97/150], Training Loss: 0.4903, Training Accuracy: 89.85%\n",
            "Epoch [97/150], Validation Loss: 1.5875, Validation Accuracy: 60.78%\n",
            "--------- Epoch 98 ----------\n",
            "Epoch [98/150], Step [32/64], Step Loss: 0.7013\n",
            "Epoch [98/150], Step [64/64], Step Loss: 0.3672\n",
            "Epoch [98/150], Training Loss: 0.4829, Training Accuracy: 89.51%\n",
            "Epoch [98/150], Validation Loss: 1.5951, Validation Accuracy: 60.39%\n",
            "--------- Epoch 99 ----------\n",
            "Epoch [99/150], Step [32/64], Step Loss: 0.4195\n",
            "Epoch [99/150], Step [64/64], Step Loss: 0.8911\n",
            "Epoch [99/150], Training Loss: 0.4935, Training Accuracy: 88.58%\n",
            "Epoch [99/150], Validation Loss: 1.6029, Validation Accuracy: 60.98%\n",
            "--------- Epoch 100 ----------\n",
            "Epoch [100/150], Step [32/64], Step Loss: 0.4703\n",
            "Epoch [100/150], Step [64/64], Step Loss: 0.3205\n",
            "Epoch [100/150], Training Loss: 0.4690, Training Accuracy: 89.56%\n",
            "Epoch [100/150], Validation Loss: 1.5984, Validation Accuracy: 60.88%\n",
            "--------- Epoch 101 ----------\n",
            "Epoch [101/150], Step [32/64], Step Loss: 0.6100\n",
            "Epoch [101/150], Step [64/64], Step Loss: 0.1888\n",
            "Epoch [101/150], Training Loss: 0.4823, Training Accuracy: 89.90%\n",
            "Epoch [101/150], Validation Loss: 1.5900, Validation Accuracy: 60.69%\n",
            "--------- Epoch 102 ----------\n",
            "Epoch [102/150], Step [32/64], Step Loss: 0.6508\n",
            "Epoch [102/150], Step [64/64], Step Loss: 0.7574\n",
            "Epoch [102/150], Training Loss: 0.4673, Training Accuracy: 89.71%\n",
            "Epoch [102/150], Validation Loss: 1.5860, Validation Accuracy: 60.78%\n",
            "--------- Epoch 103 ----------\n",
            "Epoch [103/150], Step [32/64], Step Loss: 0.5898\n",
            "Epoch [103/150], Step [64/64], Step Loss: 0.6179\n",
            "Epoch [103/150], Training Loss: 0.4880, Training Accuracy: 89.31%\n",
            "Epoch [103/150], Validation Loss: 1.5849, Validation Accuracy: 60.98%\n",
            "--------- Epoch 104 ----------\n",
            "Epoch [104/150], Step [32/64], Step Loss: 0.3222\n",
            "Epoch [104/150], Step [64/64], Step Loss: 0.7895\n",
            "Epoch [104/150], Training Loss: 0.4895, Training Accuracy: 89.41%\n",
            "Epoch [104/150], Validation Loss: 1.5838, Validation Accuracy: 60.39%\n",
            "--------- Epoch 105 ----------\n",
            "Epoch [105/150], Step [32/64], Step Loss: 0.4872\n",
            "Epoch [105/150], Step [64/64], Step Loss: 0.5334\n",
            "Epoch [105/150], Training Loss: 0.4984, Training Accuracy: 88.58%\n",
            "Epoch [105/150], Validation Loss: 1.5892, Validation Accuracy: 60.78%\n",
            "--------- Epoch 106 ----------\n",
            "Epoch [106/150], Step [32/64], Step Loss: 0.6435\n",
            "Epoch [106/150], Step [64/64], Step Loss: 0.7503\n",
            "Epoch [106/150], Training Loss: 0.4566, Training Accuracy: 90.39%\n",
            "Epoch [106/150], Validation Loss: 1.5902, Validation Accuracy: 60.59%\n",
            "--------- Epoch 107 ----------\n",
            "Epoch [107/150], Step [32/64], Step Loss: 0.6214\n",
            "Epoch [107/150], Step [64/64], Step Loss: 0.5661\n",
            "Epoch [107/150], Training Loss: 0.4560, Training Accuracy: 90.64%\n",
            "Epoch [107/150], Validation Loss: 1.5934, Validation Accuracy: 61.08%\n",
            "--------- Epoch 108 ----------\n",
            "Epoch [108/150], Step [32/64], Step Loss: 0.3372\n",
            "Epoch [108/150], Step [64/64], Step Loss: 0.3217\n",
            "Epoch [108/150], Training Loss: 0.4844, Training Accuracy: 90.15%\n",
            "Epoch [108/150], Validation Loss: 1.5919, Validation Accuracy: 60.20%\n",
            "--------- Epoch 109 ----------\n",
            "Epoch [109/150], Step [32/64], Step Loss: 0.4236\n",
            "Epoch [109/150], Step [64/64], Step Loss: 0.5317\n",
            "Epoch [109/150], Training Loss: 0.4537, Training Accuracy: 90.29%\n",
            "Epoch [109/150], Validation Loss: 1.5916, Validation Accuracy: 60.78%\n",
            "--------- Epoch 110 ----------\n",
            "Epoch [110/150], Step [32/64], Step Loss: 0.4396\n",
            "Epoch [110/150], Step [64/64], Step Loss: 0.6960\n",
            "Epoch [110/150], Training Loss: 0.4870, Training Accuracy: 88.87%\n",
            "Epoch [110/150], Validation Loss: 1.5802, Validation Accuracy: 60.49%\n",
            "--------- Epoch 111 ----------\n",
            "Epoch [111/150], Step [32/64], Step Loss: 0.5682\n",
            "Epoch [111/150], Step [64/64], Step Loss: 0.6887\n",
            "Epoch [111/150], Training Loss: 0.4677, Training Accuracy: 90.10%\n",
            "Epoch [111/150], Validation Loss: 1.5785, Validation Accuracy: 60.29%\n",
            "--------- Epoch 112 ----------\n",
            "Epoch [112/150], Step [32/64], Step Loss: 0.7335\n",
            "Epoch [112/150], Step [64/64], Step Loss: 0.7654\n",
            "Epoch [112/150], Training Loss: 0.4851, Training Accuracy: 89.90%\n",
            "Epoch [112/150], Validation Loss: 1.5854, Validation Accuracy: 61.08%\n",
            "--------- Epoch 113 ----------\n",
            "Epoch [113/150], Step [32/64], Step Loss: 0.8547\n",
            "Epoch [113/150], Step [64/64], Step Loss: 0.2280\n",
            "Epoch [113/150], Training Loss: 0.4702, Training Accuracy: 89.66%\n",
            "Epoch [113/150], Validation Loss: 1.5878, Validation Accuracy: 61.08%\n",
            "--------- Epoch 114 ----------\n",
            "Epoch [114/150], Step [32/64], Step Loss: 0.4424\n",
            "Epoch [114/150], Step [64/64], Step Loss: 0.3579\n",
            "Epoch [114/150], Training Loss: 0.4696, Training Accuracy: 90.25%\n",
            "Epoch [114/150], Validation Loss: 1.5857, Validation Accuracy: 60.39%\n",
            "--------- Epoch 115 ----------\n",
            "Epoch [115/150], Step [32/64], Step Loss: 0.4165\n",
            "Epoch [115/150], Step [64/64], Step Loss: 0.5831\n",
            "Epoch [115/150], Training Loss: 0.4900, Training Accuracy: 89.02%\n",
            "Epoch [115/150], Validation Loss: 1.5846, Validation Accuracy: 61.47%\n",
            "--------- Epoch 116 ----------\n",
            "Epoch [116/150], Step [32/64], Step Loss: 0.6860\n",
            "Epoch [116/150], Step [64/64], Step Loss: 0.1485\n",
            "Epoch [116/150], Training Loss: 0.4781, Training Accuracy: 90.00%\n",
            "Epoch [116/150], Validation Loss: 1.5766, Validation Accuracy: 61.08%\n",
            "--------- Epoch 117 ----------\n",
            "Epoch [117/150], Step [32/64], Step Loss: 0.7833\n",
            "Epoch [117/150], Step [64/64], Step Loss: 0.5258\n",
            "Epoch [117/150], Training Loss: 0.4598, Training Accuracy: 91.08%\n",
            "Epoch [117/150], Validation Loss: 1.5875, Validation Accuracy: 61.47%\n",
            "--------- Epoch 118 ----------\n",
            "Epoch [118/150], Step [32/64], Step Loss: 0.4034\n",
            "Epoch [118/150], Step [64/64], Step Loss: 0.6721\n",
            "Epoch [118/150], Training Loss: 0.4952, Training Accuracy: 89.12%\n",
            "Epoch [118/150], Validation Loss: 1.6037, Validation Accuracy: 60.88%\n",
            "--------- Epoch 119 ----------\n",
            "Epoch [119/150], Step [32/64], Step Loss: 0.1997\n",
            "Epoch [119/150], Step [64/64], Step Loss: 0.5977\n",
            "Epoch [119/150], Training Loss: 0.4747, Training Accuracy: 90.15%\n",
            "Epoch [119/150], Validation Loss: 1.5687, Validation Accuracy: 61.86%\n",
            "  **Better model found. Updated best model.\n",
            "--------- Epoch 120 ----------\n",
            "Epoch [120/150], Step [32/64], Step Loss: 0.6731\n",
            "Epoch [120/150], Step [64/64], Step Loss: 0.4419\n",
            "Epoch [120/150], Training Loss: 0.4784, Training Accuracy: 89.46%\n",
            "Epoch [120/150], Validation Loss: 1.5981, Validation Accuracy: 61.08%\n",
            "--------- Epoch 121 ----------\n",
            "Epoch [121/150], Step [32/64], Step Loss: 0.4472\n",
            "Epoch [121/150], Step [64/64], Step Loss: 0.9669\n",
            "Epoch [121/150], Training Loss: 0.4876, Training Accuracy: 89.36%\n",
            "Epoch [121/150], Validation Loss: 1.5951, Validation Accuracy: 61.27%\n",
            "--------- Epoch 122 ----------\n",
            "Epoch [122/150], Step [32/64], Step Loss: 0.5990\n",
            "Epoch [122/150], Step [64/64], Step Loss: 0.6072\n",
            "Epoch [122/150], Training Loss: 0.4603, Training Accuracy: 90.25%\n",
            "Epoch [122/150], Validation Loss: 1.5805, Validation Accuracy: 61.37%\n",
            "--------- Epoch 123 ----------\n",
            "Epoch [123/150], Step [32/64], Step Loss: 0.3387\n",
            "Epoch [123/150], Step [64/64], Step Loss: 0.7992\n",
            "Epoch [123/150], Training Loss: 0.4576, Training Accuracy: 90.39%\n",
            "Epoch [123/150], Validation Loss: 1.5923, Validation Accuracy: 60.69%\n",
            "--------- Epoch 124 ----------\n",
            "Epoch [124/150], Step [32/64], Step Loss: 0.5187\n",
            "Epoch [124/150], Step [64/64], Step Loss: 0.3959\n",
            "Epoch [124/150], Training Loss: 0.4766, Training Accuracy: 90.05%\n",
            "Epoch [124/150], Validation Loss: 1.5943, Validation Accuracy: 60.88%\n",
            "--------- Epoch 125 ----------\n",
            "Epoch [125/150], Step [32/64], Step Loss: 0.3969\n",
            "Epoch [125/150], Step [64/64], Step Loss: 0.4991\n",
            "Epoch [125/150], Training Loss: 0.4790, Training Accuracy: 89.66%\n",
            "Epoch [125/150], Validation Loss: 1.5870, Validation Accuracy: 60.98%\n",
            "--------- Epoch 126 ----------\n",
            "Epoch [126/150], Step [32/64], Step Loss: 0.3804\n",
            "Epoch [126/150], Step [64/64], Step Loss: 0.5813\n",
            "Epoch [126/150], Training Loss: 0.4435, Training Accuracy: 90.98%\n",
            "Epoch [126/150], Validation Loss: 1.6012, Validation Accuracy: 61.08%\n",
            "--------- Epoch 127 ----------\n",
            "Epoch [127/150], Step [32/64], Step Loss: 0.3463\n",
            "Epoch [127/150], Step [64/64], Step Loss: 0.2520\n",
            "Epoch [127/150], Training Loss: 0.4671, Training Accuracy: 89.71%\n",
            "Epoch [127/150], Validation Loss: 1.5875, Validation Accuracy: 60.78%\n",
            "--------- Epoch 128 ----------\n",
            "Epoch [128/150], Step [32/64], Step Loss: 0.4385\n",
            "Epoch [128/150], Step [64/64], Step Loss: 0.5460\n",
            "Epoch [128/150], Training Loss: 0.4784, Training Accuracy: 90.15%\n",
            "Epoch [128/150], Validation Loss: 1.5956, Validation Accuracy: 60.98%\n",
            "--------- Epoch 129 ----------\n",
            "Epoch [129/150], Step [32/64], Step Loss: 0.4168\n",
            "Epoch [129/150], Step [64/64], Step Loss: 0.3980\n",
            "Epoch [129/150], Training Loss: 0.4691, Training Accuracy: 90.00%\n",
            "Epoch [129/150], Validation Loss: 1.5870, Validation Accuracy: 60.78%\n",
            "--------- Epoch 130 ----------\n",
            "Epoch [130/150], Step [32/64], Step Loss: 0.4888\n",
            "Epoch [130/150], Step [64/64], Step Loss: 0.3701\n",
            "Epoch [130/150], Training Loss: 0.4514, Training Accuracy: 90.20%\n",
            "Epoch [130/150], Validation Loss: 1.6031, Validation Accuracy: 61.47%\n",
            "Epoch 00130: reducing learning rate of group 0 to 1.0000e-07.\n",
            "--------- Epoch 131 ----------\n",
            "Epoch [131/150], Step [32/64], Step Loss: 0.3598\n",
            "Epoch [131/150], Step [64/64], Step Loss: 0.1828\n",
            "Epoch [131/150], Training Loss: 0.4828, Training Accuracy: 89.17%\n",
            "Epoch [131/150], Validation Loss: 1.5747, Validation Accuracy: 61.67%\n",
            "--------- Epoch 132 ----------\n",
            "Epoch [132/150], Step [32/64], Step Loss: 0.3367\n",
            "Epoch [132/150], Step [64/64], Step Loss: 0.3322\n",
            "Epoch [132/150], Training Loss: 0.4741, Training Accuracy: 89.85%\n",
            "Epoch [132/150], Validation Loss: 1.5925, Validation Accuracy: 61.18%\n",
            "--------- Epoch 133 ----------\n",
            "Epoch [133/150], Step [32/64], Step Loss: 0.4547\n",
            "Epoch [133/150], Step [64/64], Step Loss: 0.4246\n",
            "Epoch [133/150], Training Loss: 0.4721, Training Accuracy: 89.66%\n",
            "Epoch [133/150], Validation Loss: 1.5854, Validation Accuracy: 61.18%\n",
            "--------- Epoch 134 ----------\n",
            "Epoch [134/150], Step [32/64], Step Loss: 0.6656\n",
            "Epoch [134/150], Step [64/64], Step Loss: 0.5448\n",
            "Epoch [134/150], Training Loss: 0.4594, Training Accuracy: 89.90%\n",
            "Epoch [134/150], Validation Loss: 1.5996, Validation Accuracy: 60.78%\n",
            "--------- Epoch 135 ----------\n",
            "Epoch [135/150], Step [32/64], Step Loss: 0.4482\n",
            "Epoch [135/150], Step [64/64], Step Loss: 0.5695\n",
            "Epoch [135/150], Training Loss: 0.4806, Training Accuracy: 89.75%\n",
            "Epoch [135/150], Validation Loss: 1.5930, Validation Accuracy: 61.37%\n",
            "--------- Epoch 136 ----------\n",
            "Epoch [136/150], Step [32/64], Step Loss: 0.5391\n",
            "Epoch [136/150], Step [64/64], Step Loss: 0.5018\n",
            "Epoch [136/150], Training Loss: 0.4630, Training Accuracy: 90.34%\n",
            "Epoch [136/150], Validation Loss: 1.5869, Validation Accuracy: 60.88%\n",
            "--------- Epoch 137 ----------\n",
            "Epoch [137/150], Step [32/64], Step Loss: 0.3944\n",
            "Epoch [137/150], Step [64/64], Step Loss: 0.4190\n",
            "Epoch [137/150], Training Loss: 0.4626, Training Accuracy: 90.15%\n",
            "Epoch [137/150], Validation Loss: 1.5980, Validation Accuracy: 61.37%\n",
            "--------- Epoch 138 ----------\n",
            "Epoch [138/150], Step [32/64], Step Loss: 0.3627\n",
            "Epoch [138/150], Step [64/64], Step Loss: 0.1752\n",
            "Epoch [138/150], Training Loss: 0.4625, Training Accuracy: 89.61%\n",
            "Epoch [138/150], Validation Loss: 1.5880, Validation Accuracy: 61.27%\n",
            "--------- Epoch 139 ----------\n",
            "Epoch [139/150], Step [32/64], Step Loss: 0.2756\n",
            "Epoch [139/150], Step [64/64], Step Loss: 0.8146\n",
            "Epoch [139/150], Training Loss: 0.4462, Training Accuracy: 89.95%\n",
            "Epoch [139/150], Validation Loss: 1.6001, Validation Accuracy: 61.27%\n",
            "--------- Epoch 140 ----------\n",
            "Epoch [140/150], Step [32/64], Step Loss: 0.5837\n",
            "Epoch [140/150], Step [64/64], Step Loss: 0.4119\n",
            "Epoch [140/150], Training Loss: 0.4784, Training Accuracy: 89.80%\n",
            "Epoch [140/150], Validation Loss: 1.5925, Validation Accuracy: 61.37%\n",
            "--------- Epoch 141 ----------\n",
            "Epoch [141/150], Step [32/64], Step Loss: 0.4161\n",
            "Epoch [141/150], Step [64/64], Step Loss: 0.1848\n",
            "Epoch [141/150], Training Loss: 0.4525, Training Accuracy: 90.29%\n",
            "Epoch [141/150], Validation Loss: 1.5774, Validation Accuracy: 61.27%\n",
            "Epoch 00141: reducing learning rate of group 0 to 1.0000e-08.\n",
            "--------- Epoch 142 ----------\n",
            "Epoch [142/150], Step [32/64], Step Loss: 0.4373\n",
            "Epoch [142/150], Step [64/64], Step Loss: 0.9581\n",
            "Epoch [142/150], Training Loss: 0.5013, Training Accuracy: 89.51%\n",
            "Epoch [142/150], Validation Loss: 1.5844, Validation Accuracy: 61.57%\n",
            "--------- Epoch 143 ----------\n",
            "Epoch [143/150], Step [32/64], Step Loss: 0.5909\n",
            "Epoch [143/150], Step [64/64], Step Loss: 0.5589\n",
            "Epoch [143/150], Training Loss: 0.4668, Training Accuracy: 90.54%\n",
            "Epoch [143/150], Validation Loss: 1.5862, Validation Accuracy: 61.67%\n",
            "--------- Epoch 144 ----------\n",
            "Epoch [144/150], Step [32/64], Step Loss: 0.4037\n",
            "Epoch [144/150], Step [64/64], Step Loss: 0.5082\n",
            "Epoch [144/150], Training Loss: 0.4599, Training Accuracy: 90.49%\n",
            "Epoch [144/150], Validation Loss: 1.5927, Validation Accuracy: 61.08%\n",
            "--------- Epoch 145 ----------\n",
            "Epoch [145/150], Step [32/64], Step Loss: 0.2961\n",
            "Epoch [145/150], Step [64/64], Step Loss: 0.2246\n",
            "Epoch [145/150], Training Loss: 0.4793, Training Accuracy: 90.25%\n",
            "Epoch [145/150], Validation Loss: 1.5851, Validation Accuracy: 61.18%\n",
            "--------- Epoch 146 ----------\n",
            "Epoch [146/150], Step [32/64], Step Loss: 0.2421\n",
            "Epoch [146/150], Step [64/64], Step Loss: 0.1850\n",
            "Epoch [146/150], Training Loss: 0.4477, Training Accuracy: 90.44%\n",
            "Epoch [146/150], Validation Loss: 1.5821, Validation Accuracy: 61.76%\n",
            "--------- Epoch 147 ----------\n",
            "Epoch [147/150], Step [32/64], Step Loss: 0.4869\n",
            "Epoch [147/150], Step [64/64], Step Loss: 0.1791\n",
            "Epoch [147/150], Training Loss: 0.4647, Training Accuracy: 89.75%\n",
            "Epoch [147/150], Validation Loss: 1.5981, Validation Accuracy: 61.18%\n",
            "--------- Epoch 148 ----------\n",
            "Epoch [148/150], Step [32/64], Step Loss: 0.4262\n",
            "Epoch [148/150], Step [64/64], Step Loss: 0.2137\n",
            "Epoch [148/150], Training Loss: 0.4369, Training Accuracy: 90.49%\n",
            "Epoch [148/150], Validation Loss: 1.5818, Validation Accuracy: 60.98%\n",
            "--------- Epoch 149 ----------\n",
            "Epoch [149/150], Step [32/64], Step Loss: 0.4168\n",
            "Epoch [149/150], Step [64/64], Step Loss: 0.4845\n",
            "Epoch [149/150], Training Loss: 0.4816, Training Accuracy: 89.12%\n",
            "Epoch [149/150], Validation Loss: 1.5914, Validation Accuracy: 60.98%\n",
            "--------- Epoch 150 ----------\n",
            "Epoch [150/150], Step [32/64], Step Loss: 0.4730\n",
            "Epoch [150/150], Step [64/64], Step Loss: 0.6120\n",
            "Epoch [150/150], Training Loss: 0.4791, Training Accuracy: 89.85%\n",
            "Epoch [150/150], Validation Loss: 1.5914, Validation Accuracy: 61.67%\n",
            "Training complete in: 01h 18m 20s\n"
          ]
        },
        {
          "output_type": "display_data",
          "data": {
            "text/plain": [
              "<IPython.core.display.HTML object>"
            ],
            "text/html": [
              "Waiting for W&B process to finish... <strong style=\"color:green\">(success).</strong>"
            ]
          },
          "metadata": {}
        },
        {
          "output_type": "display_data",
          "data": {
            "text/plain": [
              "VBox(children=(Label(value='0.001 MB of 0.001 MB uploaded (0.000 MB deduped)\\r'), FloatProgress(value=1.0, max…"
            ],
            "application/vnd.jupyter.widget-view+json": {
              "version_major": 2,
              "version_minor": 0,
              "model_id": "29569cc81afe4070885303dce4d147a1"
            }
          },
          "metadata": {}
        },
        {
          "output_type": "display_data",
          "data": {
            "text/plain": [
              "<IPython.core.display.HTML object>"
            ],
            "text/html": [
              "<style>\n",
              "    table.wandb td:nth-child(1) { padding: 0 10px; text-align: left ; width: auto;} td:nth-child(2) {text-align: left ; width: 100%}\n",
              "    .wandb-row { display: flex; flex-direction: row; flex-wrap: wrap; justify-content: flex-start; width: 100% }\n",
              "    .wandb-col { display: flex; flex-direction: column; flex-basis: 100%; flex: 1; padding: 10px; }\n",
              "    </style>\n",
              "<div class=\"wandb-row\"><div class=\"wandb-col\"><h3>Run history:</h3><br/><table class=\"wandb\"><tr><td>train_acc</td><td>▁▂▃▅▆▆▇▇▇▇▇▇▇▇▇▇████████████████████████</td></tr><tr><td>train_loss</td><td>█▇▅▄▃▃▂▂▂▂▂▂▂▂▂▂▁▁▁▁▁▁▁▁▁▁▁▁▁▁▁▁▁▁▁▁▁▁▁▁</td></tr><tr><td>val_acc</td><td>▁▂▄▅▅▆▅▆▆▆▆▆▆▇▆▇████████████████████████</td></tr><tr><td>val_loss</td><td>█▆▅▄▃▃▅▃▃▂▂▃▃▂▂▂▁▁▁▁▁▁▁▁▁▁▁▁▁▁▁▁▁▁▁▁▁▁▁▁</td></tr></table><br/></div><div class=\"wandb-col\"><h3>Run summary:</h3><br/><table class=\"wandb\"><tr><td>train_acc</td><td>89.85294</td></tr><tr><td>train_loss</td><td>0.47913</td></tr><tr><td>val_acc</td><td>61.66667</td></tr><tr><td>val_loss</td><td>1.59139</td></tr></table><br/></div></div>"
            ]
          },
          "metadata": {}
        },
        {
          "output_type": "display_data",
          "data": {
            "text/plain": [
              "<IPython.core.display.HTML object>"
            ],
            "text/html": [
              " View run <strong style=\"color:#cdcd00\">0.0001</strong> at: <a href='https://wandb.ai/fartffart/final-tests/runs/s114eadu' target=\"_blank\">https://wandb.ai/fartffart/final-tests/runs/s114eadu</a><br/>Synced 5 W&B file(s), 0 media file(s), 0 artifact file(s) and 0 other file(s)"
            ]
          },
          "metadata": {}
        },
        {
          "output_type": "display_data",
          "data": {
            "text/plain": [
              "<IPython.core.display.HTML object>"
            ],
            "text/html": [
              "Find logs at: <code>./wandb/run-20230509_124855-s114eadu/logs</code>"
            ]
          },
          "metadata": {}
        }
      ],
      "source": [
        "# Timer setup\n",
        "print(f\"Starting training with learning rate {LEARNING_RATE:.7f}\")\n",
        "start_time = time.time()\n",
        "\n",
        "best_acc = 0\n",
        "best_epoch = -1\n",
        "\n",
        "# Train the CNN\n",
        "for epoch in range(EPOCHS):\n",
        "    print(f'--------- Epoch {epoch + 1} ----------')\n",
        "    cnn.train()\n",
        "    train_loss = 0\n",
        "    train_correct = 0\n",
        "    train_total = 0\n",
        "    for i, (images, labels) in enumerate(train_loader):\n",
        "        labels = torch.eye(102)[labels]  # one hot encode\n",
        "        images = images.to(device)\n",
        "        labels = labels.to(device)\n",
        "\n",
        "        outputs = cnn(images)  # train\n",
        "        labels = torch.argmax(labels, dim=1)  # one hot decode\n",
        "\n",
        "        loss = criterion(outputs, labels)\n",
        "\n",
        "        optimizer.zero_grad()\n",
        "        loss.backward()\n",
        "        optimizer.step()\n",
        "\n",
        "        train_loss += loss.item() * images.size(0)\n",
        "        _, predicted = torch.max(outputs.data, 1)\n",
        "        train_total += labels.size(0)\n",
        "        train_correct += (predicted == labels).sum().item()\n",
        "\n",
        "        if (i + 1) % 32 == 0:\n",
        "            print(f\"Epoch [{epoch + 1}/{EPOCHS}], Step [{i + 1}/{len(train_loader)}], Step Loss: {loss.item():.4f}\")\n",
        "\n",
        "    train_loss /= len(train_loader.dataset)\n",
        "    train_accuracy = 100 * train_correct / train_total\n",
        "    print(f'Epoch [{epoch + 1}/{EPOCHS}], Training Loss: {train_loss:.4f}, Training Accuracy: {train_accuracy:.2f}%')\n",
        "\n",
        "    # Evaluate model after each training epoch\n",
        "    cnn.eval()\n",
        "    val_loss = 0\n",
        "    correct = 0\n",
        "    total = 0\n",
        "    with torch.no_grad():\n",
        "        for images, labels in val_loader:\n",
        "            images = images.to(device)\n",
        "            labels = labels.to(device)\n",
        "\n",
        "            outputs = cnn(images)\n",
        "            loss = criterion(outputs, labels)\n",
        "            val_loss += loss.item() * images.size(0)\n",
        "            _, predicted = torch.max(outputs.data, 1)\n",
        "            total += labels.size(0)\n",
        "            correct += (predicted == labels).sum().item()\n",
        "\n",
        "    val_loss /= len(val_loader.dataset)\n",
        "    val_accuracy = 100 * correct / total\n",
        "    print(f'Epoch [{epoch + 1}/{EPOCHS}], Validation Loss: {val_loss:.4f}, Validation Accuracy: {val_accuracy:.2f}%')\n",
        "\n",
        "\n",
        "    # wandb stuff, REMOVE\n",
        "    wandb.log({\"train_acc\": train_accuracy, \"train_loss\": train_loss, \"val_acc\": val_accuracy, \"val_loss\": val_loss})\n",
        "\n",
        "    # save plot data\n",
        "    val_accuracies.append(val_accuracy)\n",
        "    val_losses.append(val_loss)\n",
        "    train_accuracies.append(train_accuracy)\n",
        "    train_losses.append(train_loss)\n",
        "\n",
        "    # Update the learning rate scheduler\n",
        "    scheduler.step(val_loss)\n",
        "\n",
        "    if val_accuracy > best_acc:\n",
        "      best_acc = val_accuracy\n",
        "      torch.save(cnn.state_dict(), 'best-model-parameters.pt')\n",
        "      best_epoch = epoch + 1\n",
        "      print(\"  **Better model found. Updated best model.\")\n",
        "\n",
        "# End time\n",
        "end_time = time.time()\n",
        "print(\"Training complete in: \" + time.strftime(\"%Hh %Mm %Ss\", time.gmtime(end_time - start_time)))\n",
        "wandb.finish()"
      ]
    },
    {
      "cell_type": "markdown",
      "source": [
        "## Test model."
      ],
      "metadata": {
        "collapsed": false,
        "pycharm": {
          "name": "#%% md\n"
        },
        "id": "i3pOHSKXJp0T"
      }
    },
    {
      "cell_type": "code",
      "execution_count": 19,
      "outputs": [
        {
          "output_type": "stream",
          "name": "stdout",
          "text": [
            "---------- Best Model Testing ----------\n",
            "  Epoch: 119\n",
            "  Validation accuracy: 61.86%\n"
          ]
        }
      ],
      "source": [
        "# Test the best model on the test set\n",
        "best_model = torch.load(\"best-model-parameters.pt\")\n",
        "cnn.load_state_dict(best_model)\n",
        "print(\"---------- Best Model Testing ----------\")\n",
        "print(f'  Epoch: {best_epoch}')\n",
        "print(f'  Validation accuracy: {best_acc:.2f}%')"
      ],
      "metadata": {
        "pycharm": {
          "name": "#%%\n",
          "is_executing": true
        },
        "colab": {
          "base_uri": "https://localhost:8080/"
        },
        "id": "_d_NGRt-Jp0U",
        "outputId": "c9f138b9-9202-4a78-cce9-54bd3ca2c128"
      }
    },
    {
      "cell_type": "code",
      "execution_count": 20,
      "outputs": [
        {
          "output_type": "stream",
          "name": "stdout",
          "text": [
            "Test Accuracy: 56.77%\n"
          ]
        }
      ],
      "source": [
        "# Test the CNN on the test set\n",
        "cnn.eval()\n",
        "correct = 0\n",
        "total = 0\n",
        "with torch.no_grad():\n",
        "    for images, labels in test_loader:\n",
        "        images = images.to(device)\n",
        "        labels = labels.to(device)\n",
        "\n",
        "        outputs = cnn(images)\n",
        "        _, predicted = torch.max(outputs.data, 1)\n",
        "        total += labels.size(0)\n",
        "        correct += (predicted == labels).sum().item()\n",
        "\n",
        "test_accuracy = 100 * correct / total\n",
        "print(f'Test Accuracy: {test_accuracy:.2f}%')"
      ],
      "metadata": {
        "pycharm": {
          "name": "#%%\n",
          "is_executing": true
        },
        "colab": {
          "base_uri": "https://localhost:8080/"
        },
        "id": "pVaYKS7GJp0V",
        "outputId": "79dcef50-ce28-4138-fc0d-ba289b520ace"
      }
    },
    {
      "cell_type": "markdown",
      "source": [
        "## Plot training data"
      ],
      "metadata": {
        "collapsed": false,
        "pycharm": {
          "name": "#%% md\n"
        },
        "id": "sFTuTLYZJp0V"
      }
    },
    {
      "cell_type": "code",
      "execution_count": 21,
      "outputs": [
        {
          "output_type": "display_data",
          "data": {
            "text/plain": [
              "<Figure size 640x480 with 2 Axes>"
            ],
            "image/png": "[encoded data removed]"
          },
          "metadata": {}
        }
      ],
      "source": [
        "# Plot\n",
        "fig, (ax_a, ax_l) = plt.subplots(2, sharex=True)\n",
        "\n",
        "ax_a.set_xlabel(\"Epoch\")\n",
        "ax_a.set_ylabel(\"Accuracy %\")\n",
        "ax_a.plot(val_accuracies, marker=\".\", c=\"forestgreen\")\n",
        "ax_a.plot(train_accuracies, marker=\".\", c=\"royalblue\")\n",
        "\n",
        "ax_l.set_xlabel(\"Epoch\")\n",
        "ax_l.set_ylabel(\"Loss\")\n",
        "ax_l.plot(val_losses, marker=\".\", c=\"forestgreen\")\n",
        "ax_l.plot(train_losses, marker=\".\", c=\"royalblue\")\n",
        "\n",
        "fig.legend(title=\"Data Type\", labels=[\"Training\", \"Validation\"], fontsize=\"small\", loc=3, bbox_to_anchor=(0.925, 0.425))\n",
        "fig.align_labels()\n",
        "plt.show()"
      ],
      "metadata": {
        "pycharm": {
          "name": "#%%\n",
          "is_executing": true
        },
        "colab": {
          "base_uri": "https://localhost:8080/",
          "height": 449
        },
        "id": "ZwA6bbIkJp0W",
        "outputId": "de4be16d-4e55-4bc2-8c91-d7457a63bec7"
      }
    }
  ]
}
