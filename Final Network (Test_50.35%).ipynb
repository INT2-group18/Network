{
 "nbformat": 4,
 "nbformat_minor": 0,
 "metadata": {
  "colab": {
   "provenance": [],
   "gpuType": "T4"
  },
  "kernelspec": {
   "name": "python3",
   "display_name": "Python 3"
  },
  "language_info": {
   "name": "python"
  },
  "accelerator": "GPU",
  "gpuClass": "standard"
 },
 "cells": [
  {
   "cell_type": "code",
   "execution_count": 7,
   "metadata": {
    "id": "iABXs37PYLuP",
    "pycharm": {
     "name": "#%%\n"
    }
   },
   "outputs": [],
   "source": [
    "import gc\n",
    "\n",
    "import matplotlib.pyplot as plt\n",
    "import time\n",
    "import torch\n",
    "import torch.nn as nn\n",
    "import torch.optim as optim\n",
    "import torchvision.datasets as datasets\n",
    "import torchvision.transforms as transforms\n",
    "from torch.utils.data import DataLoader"
   ]
  },
  {
   "cell_type": "code",
   "source": [
    "# Setup device\n",
    "device = torch.device(\"cuda\" if torch.cuda.is_available() else \"cpu\")\n",
    "print(f'Using {torch.cuda.get_device_name(0)}')"
   ],
   "metadata": {
    "id": "VHdEPmVXbC_g",
    "pycharm": {
     "name": "#%%\n"
    }
   },
   "execution_count": 8,
   "outputs": [
    {
     "name": "stdout",
     "output_type": "stream",
     "text": [
      "Using NVIDIA GeForce RTX 3070 Laptop GPU\n"
     ]
    }
   ]
  },
  {
   "cell_type": "code",
   "source": [
    "# Training variables\n",
    "BATCH_SIZE = 32\n",
    "EPOCHS = 2\n",
    "LEARNING_RATE = 0.00005"
   ],
   "metadata": {
    "id": "WZi6DrrfbEkT",
    "pycharm": {
     "name": "#%%\n"
    }
   },
   "execution_count": 9,
   "outputs": []
  },
  {
   "cell_type": "code",
   "source": [
    "# Transformations for the train, validation, and test datasets\n",
    "train_transform = transforms.Compose([\n",
    "    transforms.Resize(256, antialias=True),\n",
    "    transforms.RandomCrop(224),\n",
    "    transforms.ToTensor(),\n",
    "    transforms.Normalize(mean=[0.485, 0.456, 0.406], std=[0.229, 0.224, 0.225])\n",
    "])\n",
    "\n",
    "val_test_transform = transforms.Compose([\n",
    "    transforms.Resize((256, 256), antialias=True),\n",
    "    transforms.CenterCrop(224),\n",
    "    transforms.ToTensor(),\n",
    "    transforms.Normalize(mean=[0.485, 0.456, 0.406], std=[0.229, 0.224, 0.225])\n",
    "])\n",
    "\n",
    "augment_transform = transforms.Compose([\n",
    "    train_transform,\n",
    "    transforms.RandomApply(\n",
    "        [transforms.RandomApply([transforms.RandomAffine(degrees=359, translate=(0.2, 0.2), shear=(20, 20, 20, 20)),\n",
    "                                 transforms.RandomHorizontalFlip(1), transforms.RandomVerticalFlip(1)], p=0.7),\n",
    "         transforms.ColorJitter(brightness=(0.75, 1.25), contrast=(0.75, 1.25), hue=(-0.15, 0.15),\n",
    "                                saturation=(0.75, 1.25))\n",
    "         ]\n",
    "    )\n",
    "])\n",
    "\n",
    "# Load the train, validation, and test datasets\n",
    "train_dataset = datasets.Flowers102(root=\"./data\", split=\"train\", transform=train_transform, download=True)\n",
    "all_train_data = [train_dataset]\n",
    "for i in range(1):  # augmented train dataset, concatenated with normal train dataset\n",
    "    all_train_data.append(\n",
    "        datasets.Flowers102(root=\"./data\", split=\"train\", transform=augment_transform, download=False))\n",
    "train_dataset_extra = torch.utils.data.ConcatDataset(all_train_data)\n",
    "\n",
    "train_loader = DataLoader(train_dataset_extra, batch_size=BATCH_SIZE, shuffle=True, num_workers=2)\n",
    "val_dataset = datasets.Flowers102(root=\"./data\", split=\"val\", transform=val_test_transform, download=True)\n",
    "val_loader = DataLoader(val_dataset, batch_size=BATCH_SIZE, shuffle=False, num_workers=2)\n",
    "test_dataset = datasets.Flowers102(root=\"./data\", split=\"test\", transform=val_test_transform, download=True)\n",
    "test_loader = DataLoader(test_dataset, batch_size=BATCH_SIZE, shuffle=False, num_workers=2)"
   ],
   "metadata": {
    "id": "WLXBzxwbbO_w",
    "pycharm": {
     "name": "#%%\n"
    }
   },
   "execution_count": 10,
   "outputs": []
  },
  {
   "cell_type": "code",
   "execution_count": 11,
   "outputs": [],
   "source": [
    "# Data for plots\n",
    "val_accuracies, val_losses, train_accuracies, train_losses = [], [], [], []\n",
    "plt.rcParams['axes.grid'] = True  # grid on all plots"
   ],
   "metadata": {
    "collapsed": false,
    "pycharm": {
     "name": "#%%\n"
    }
   }
  },
  {
   "cell_type": "code",
   "execution_count": 12,
   "outputs": [],
   "source": [
    "class CNN(nn.Module):\n",
    "    def __init__(self):\n",
    "        super(CNN, self).__init__()\n",
    "        self.conv1 = nn.Sequential(nn.Conv2d(3, 16, kernel_size=3, stride=1, padding=1),\n",
    "                                   nn.BatchNorm2d(16),\n",
    "                                   nn.ReLU(),\n",
    "                                   nn.MaxPool2d(2, 2))  # 224 -> 112\n",
    "        self.conv2 = nn.Sequential(nn.Conv2d(16, 32, kernel_size=3, stride=1, padding=1),\n",
    "                                   nn.BatchNorm2d(32),\n",
    "                                   nn.ReLU(),\n",
    "                                   nn.MaxPool2d(2, 2))  # 112 -> 56\n",
    "        self.conv3 = nn.Sequential(nn.Conv2d(32, 64, kernel_size=3, stride=1, padding=1),\n",
    "                                   nn.BatchNorm2d(64),\n",
    "                                   nn.ReLU(),\n",
    "                                   nn.MaxPool2d(2, 2))  # 56 -> 28\n",
    "        self.conv4 = nn.Sequential(nn.Conv2d(64, 128, kernel_size=3, stride=1, padding=1),\n",
    "                                   nn.BatchNorm2d(128),\n",
    "                                   nn.ReLU(),\n",
    "                                   nn.MaxPool2d(2, 2))  # 28 -> 14\n",
    "        self.conv5 = nn.Sequential(nn.Conv2d(128, 256, kernel_size=3, stride=1, padding=1),\n",
    "                                   nn.BatchNorm2d(256),\n",
    "                                   nn.ReLU(),\n",
    "                                   nn.MaxPool2d(2, 2))  # 14 -> 7\n",
    "        self.conv6 = nn.Sequential(nn.Conv2d(256, 512, kernel_size=3, stride=1, padding=1),\n",
    "                                   nn.BatchNorm2d(512),\n",
    "                                   nn.ReLU(),\n",
    "                                   nn.MaxPool2d(2, 2))  # 7 -> 3\n",
    "        self.conv7 = nn.Sequential(nn.Conv2d(512, 1024, kernel_size=3, stride=1, padding=1),\n",
    "                                   nn.BatchNorm2d(1024),\n",
    "                                   nn.MaxPool2d(2, 2))  # 3 -> 1\n",
    "        self.flatten = nn.Flatten()\n",
    "        self.fc1 = nn.Sequential(nn.Linear(1024, 512),\n",
    "                                 nn.ReLU())\n",
    "        self.fc2 = nn.Sequential(nn.Linear(512, 256),\n",
    "                                 nn.ReLU())\n",
    "\n",
    "        self.fc3 = nn.Sequential(nn.Linear(256, 102))\n",
    "\n",
    "    def forward(self, x):\n",
    "        x = self.conv1(x)\n",
    "        x = self.conv2(x)\n",
    "        x = self.conv3(x)\n",
    "        x = self.conv4(x)\n",
    "        x = self.conv5(x)\n",
    "        x = self.conv6(x)\n",
    "        x = self.conv7(x)\n",
    "        x = self.flatten(x)\n",
    "        x = self.fc1(x)\n",
    "        x = self.fc2(x)\n",
    "        x = self.fc3(x)\n",
    "        return x"
   ],
   "metadata": {
    "collapsed": false,
    "pycharm": {
     "name": "#%%\n"
    }
   }
  },
  {
   "cell_type": "code",
   "source": [
    "# Clear CUDA cache\n",
    "torch.cuda.empty_cache()\n",
    "gc.collect()\n",
    "\n",
    "# Create an instance of the CNN and move it to the device\n",
    "cnn = CNN().to(device)\n",
    "\n",
    "criterion = nn.CrossEntropyLoss()\n",
    "# Set weight decay\n",
    "WEIGHT_DECAY = 0.03\n",
    "\n",
    "# Create the optimizer and add weight decay\n",
    "optimizer = optim.Adam(cnn.parameters(), lr=LEARNING_RATE, weight_decay=WEIGHT_DECAY)\n",
    "\n",
    "# lr scheduler\n",
    "scheduler = optim.lr_scheduler.ReduceLROnPlateau(optimizer, patience=10, factor=0.1, verbose=True)"
   ],
   "metadata": {
    "id": "c3L6lRUEbjFp",
    "pycharm": {
     "name": "#%%\n"
    }
   },
   "execution_count": 13,
   "outputs": []
  },
  {
   "cell_type": "code",
   "execution_count": 40,
   "metadata": {
    "id": "yhGoXwwnQiQu",
    "colab": {
     "base_uri": "https://localhost:8080/"
    },
    "outputId": "7d40e63a-7386-46b6-d68f-9283e40941c2",
    "pycharm": {
     "name": "#%%\n"
    }
   },
   "outputs": [
    {
     "name": "stdout",
     "output_type": "stream",
     "text": [
      "Starting training with learning rate 0.0000500\n",
      "Epoch [1/2], Step [16/64], Step Loss: 3.9762\n",
      "Epoch [1/2], Step [32/64], Step Loss: 4.2500\n",
      "Epoch [1/2], Step [48/64], Step Loss: 4.1855\n",
      "Epoch [1/2], Step [64/64], Step Loss: 3.8274\n",
      "Epoch [1/2], Training Loss: 3.9514, Training Accuracy: 11.37%\n",
      "Epoch [1/2], Validation Loss: 3.7477, Validation Accuracy: 15.29%\n",
      "Epoch [2/2], Step [16/64], Step Loss: 3.6731\n",
      "Epoch [2/2], Step [32/64], Step Loss: 3.8572\n",
      "Epoch [2/2], Step [48/64], Step Loss: 3.9020\n",
      "Epoch [2/2], Step [64/64], Step Loss: 3.6069\n",
      "Epoch [2/2], Training Loss: 3.6695, Training Accuracy: 17.45%\n",
      "Epoch [2/2], Validation Loss: 3.4595, Validation Accuracy: 20.20%\n",
      "Training complete in: 00h 00m 47s\n"
     ]
    }
   ],
   "source": [
    "# Timer setup\n",
    "print(f\"Starting training with learning rate {LEARNING_RATE:.7f}\")\n",
    "start_time = time.time()\n",
    "\n",
    "# Train the CNN\n",
    "for epoch in range(EPOCHS):\n",
    "    cnn.train()\n",
    "    train_loss = 0\n",
    "    train_correct = 0\n",
    "    train_total = 0\n",
    "    for i, (images, labels) in enumerate(train_loader):\n",
    "        labels = torch.eye(102)[labels]  # one hot encode\n",
    "        images = images.to(device)\n",
    "        labels = labels.to(device)\n",
    "\n",
    "        outputs = cnn(images)  # train\n",
    "        labels = torch.argmax(labels, dim=1)  # one hot decode\n",
    "\n",
    "        loss = criterion(outputs, labels)\n",
    "\n",
    "        optimizer.zero_grad()\n",
    "        loss.backward()\n",
    "        optimizer.step()\n",
    "\n",
    "        train_loss += loss.item() * images.size(0)\n",
    "        _, predicted = torch.max(outputs.data, 1)\n",
    "        train_total += labels.size(0)\n",
    "        train_correct += (predicted == labels).sum().item()\n",
    "\n",
    "        if (i + 1) % 16 == 0:\n",
    "            print(f\"Epoch [{epoch + 1}/{EPOCHS}], Step [{i + 1}/{len(train_loader)}], Step Loss: {loss.item():.4f}\")\n",
    "\n",
    "    train_loss /= len(train_loader.dataset)\n",
    "    train_accuracy = 100 * train_correct / train_total\n",
    "    print(f'Epoch [{epoch + 1}/{EPOCHS}], Training Loss: {train_loss:.4f}, Training Accuracy: {train_accuracy:.2f}%')\n",
    "\n",
    "    # Evaluate model after each training epoch\n",
    "    cnn.eval()\n",
    "    val_loss = 0\n",
    "    correct = 0\n",
    "    total = 0\n",
    "    with torch.no_grad():\n",
    "        for images, labels in val_loader:\n",
    "            images = images.to(device)\n",
    "            labels = labels.to(device)\n",
    "\n",
    "            outputs = cnn(images)\n",
    "            loss = criterion(outputs, labels)\n",
    "            val_loss += loss.item() * images.size(0)\n",
    "            _, predicted = torch.max(outputs.data, 1)\n",
    "            total += labels.size(0)\n",
    "            correct += (predicted == labels).sum().item()\n",
    "\n",
    "    val_loss /= len(val_loader.dataset)\n",
    "    val_accuracy = 100 * correct / total\n",
    "    print(f'Epoch [{epoch + 1}/{EPOCHS}], Validation Loss: {val_loss:.4f}, Validation Accuracy: {val_accuracy:.2f}%')\n",
    "\n",
    "    # save plot data\n",
    "    val_accuracies.append(val_accuracy)\n",
    "    val_losses.append(val_loss)\n",
    "    train_accuracies.append(train_accuracy)\n",
    "    train_losses.append(train_loss)\n",
    "\n",
    "    # Update the learning rate scheduler\n",
    "    scheduler.step(val_loss)\n",
    "\n",
    "# End time\n",
    "end_time = time.time()\n",
    "print(\"Training complete in: \" + time.strftime(\"%Hh %Mm %Ss\", time.gmtime(end_time - start_time)))"
   ]
  },
  {
   "cell_type": "code",
   "execution_count": 15,
   "outputs": [
    {
     "name": "stdout",
     "output_type": "stream",
     "text": [
      "Test Accuracy: 9.46%\n"
     ]
    }
   ],
   "source": [
    "# Test the CNN on the test set\n",
    "cnn.eval()\n",
    "correct = 0\n",
    "total = 0\n",
    "with torch.no_grad():\n",
    "    for images, labels in test_loader:\n",
    "        images = images.to(device)\n",
    "        labels = labels.to(device)\n",
    "\n",
    "        outputs = cnn(images)\n",
    "        _, predicted = torch.max(outputs.data, 1)\n",
    "        total += labels.size(0)\n",
    "        correct += (predicted == labels).sum().item()\n",
    "\n",
    "test_accuracy = 100 * correct / total\n",
    "print(f'Test Accuracy: {test_accuracy:.2f}%')"
   ],
   "metadata": {
    "collapsed": false,
    "pycharm": {
     "name": "#%%\n"
    }
   }
  },
  {
   "cell_type": "code",
   "execution_count": 39,
   "outputs": [
    {
     "data": {
      "text/plain": "<Figure size 640x480 with 2 Axes>",
      "image/png": "[encoded data removed]"
     },
     "metadata": {},
     "output_type": "display_data"
    }
   ],
   "source": [
    "# Plot\n",
    "fig, (ax_a, ax_l) = plt.subplots(2, sharex=True)\n",
    "\n",
    "ax_a.set_xlabel(\"Epoch\")\n",
    "ax_a.set_ylabel(\"Accuracy %\")\n",
    "ax_a.plot(val_accuracies, marker=\".\", c=\"forestgreen\")\n",
    "ax_a.plot(train_accuracies, marker=\".\", c=\"royalblue\")\n",
    "\n",
    "ax_l.set_xlabel(\"Epoch\")\n",
    "ax_l.set_ylabel(\"Loss\")\n",
    "ax_l.plot(val_losses, marker=\".\", c=\"forestgreen\")\n",
    "ax_l.plot(train_losses, marker=\".\", c=\"royalblue\")\n",
    "\n",
    "fig.legend(title=\"Data Type\", labels=[\"Training\", \"Validation\"], fontsize=\"small\", loc=3, bbox_to_anchor=(0.925, 0.425))\n",
    "fig.align_labels()\n",
    "plt.show()"
   ],
   "metadata": {
    "collapsed": false,
    "pycharm": {
     "name": "#%%\n"
    }
   }
  }
 ]
}