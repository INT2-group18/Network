{
  "nbformat": 4,
  "nbformat_minor": 0,
  "metadata": {
    "colab": {
      "provenance": [],
      "gpuType": "T4"
    },
    "kernelspec": {
      "name": "python3",
      "display_name": "Python 3"
    },
    "language_info": {
      "name": "python"
    },
    "accelerator": "GPU",
    "gpuClass": "standard",
    "widgets": {
      "application/vnd.jupyter.widget-state+json": {
        "3ebc57349e5049e7bb70ab7709d3b759": {
          "model_module": "@jupyter-widgets/controls",
          "model_name": "VBoxModel",
          "model_module_version": "1.5.0",
          "state": {
            "_dom_classes": [],
            "_model_module": "@jupyter-widgets/controls",
            "_model_module_version": "1.5.0",
            "_model_name": "VBoxModel",
            "_view_count": null,
            "_view_module": "@jupyter-widgets/controls",
            "_view_module_version": "1.5.0",
            "_view_name": "VBoxView",
            "box_style": "",
            "children": [
              "IPY_MODEL_afae38d15b94459db460395cab02b3f9",
              "IPY_MODEL_d4e3b4b48e2d4506800f87fc1137f8fd"
            ],
            "layout": "IPY_MODEL_1f49f383b04d499b99140f8e8d64d8e8"
          }
        },
        "afae38d15b94459db460395cab02b3f9": {
          "model_module": "@jupyter-widgets/controls",
          "model_name": "LabelModel",
          "model_module_version": "1.5.0",
          "state": {
            "_dom_classes": [],
            "_model_module": "@jupyter-widgets/controls",
            "_model_module_version": "1.5.0",
            "_model_name": "LabelModel",
            "_view_count": null,
            "_view_module": "@jupyter-widgets/controls",
            "_view_module_version": "1.5.0",
            "_view_name": "LabelView",
            "description": "",
            "description_tooltip": null,
            "layout": "IPY_MODEL_52dd0b6823da455abb6aeee9a04ae0d0",
            "placeholder": "​",
            "style": "IPY_MODEL_53fd4581e262455aab314bd645f48fbf",
            "value": "0.048 MB of 0.048 MB uploaded (0.000 MB deduped)\r"
          }
        },
        "d4e3b4b48e2d4506800f87fc1137f8fd": {
          "model_module": "@jupyter-widgets/controls",
          "model_name": "FloatProgressModel",
          "model_module_version": "1.5.0",
          "state": {
            "_dom_classes": [],
            "_model_module": "@jupyter-widgets/controls",
            "_model_module_version": "1.5.0",
            "_model_name": "FloatProgressModel",
            "_view_count": null,
            "_view_module": "@jupyter-widgets/controls",
            "_view_module_version": "1.5.0",
            "_view_name": "ProgressView",
            "bar_style": "",
            "description": "",
            "description_tooltip": null,
            "layout": "IPY_MODEL_9fc2300e37a3434ebf11002481ad54dd",
            "max": 1,
            "min": 0,
            "orientation": "horizontal",
            "style": "IPY_MODEL_c18425c8abe84992ae306c92058deeba",
            "value": 1
          }
        },
        "1f49f383b04d499b99140f8e8d64d8e8": {
          "model_module": "@jupyter-widgets/base",
          "model_name": "LayoutModel",
          "model_module_version": "1.2.0",
          "state": {
            "_model_module": "@jupyter-widgets/base",
            "_model_module_version": "1.2.0",
            "_model_name": "LayoutModel",
            "_view_count": null,
            "_view_module": "@jupyter-widgets/base",
            "_view_module_version": "1.2.0",
            "_view_name": "LayoutView",
            "align_content": null,
            "align_items": null,
            "align_self": null,
            "border": null,
            "bottom": null,
            "display": null,
            "flex": null,
            "flex_flow": null,
            "grid_area": null,
            "grid_auto_columns": null,
            "grid_auto_flow": null,
            "grid_auto_rows": null,
            "grid_column": null,
            "grid_gap": null,
            "grid_row": null,
            "grid_template_areas": null,
            "grid_template_columns": null,
            "grid_template_rows": null,
            "height": null,
            "justify_content": null,
            "justify_items": null,
            "left": null,
            "margin": null,
            "max_height": null,
            "max_width": null,
            "min_height": null,
            "min_width": null,
            "object_fit": null,
            "object_position": null,
            "order": null,
            "overflow": null,
            "overflow_x": null,
            "overflow_y": null,
            "padding": null,
            "right": null,
            "top": null,
            "visibility": null,
            "width": null
          }
        },
        "52dd0b6823da455abb6aeee9a04ae0d0": {
          "model_module": "@jupyter-widgets/base",
          "model_name": "LayoutModel",
          "model_module_version": "1.2.0",
          "state": {
            "_model_module": "@jupyter-widgets/base",
            "_model_module_version": "1.2.0",
            "_model_name": "LayoutModel",
            "_view_count": null,
            "_view_module": "@jupyter-widgets/base",
            "_view_module_version": "1.2.0",
            "_view_name": "LayoutView",
            "align_content": null,
            "align_items": null,
            "align_self": null,
            "border": null,
            "bottom": null,
            "display": null,
            "flex": null,
            "flex_flow": null,
            "grid_area": null,
            "grid_auto_columns": null,
            "grid_auto_flow": null,
            "grid_auto_rows": null,
            "grid_column": null,
            "grid_gap": null,
            "grid_row": null,
            "grid_template_areas": null,
            "grid_template_columns": null,
            "grid_template_rows": null,
            "height": null,
            "justify_content": null,
            "justify_items": null,
            "left": null,
            "margin": null,
            "max_height": null,
            "max_width": null,
            "min_height": null,
            "min_width": null,
            "object_fit": null,
            "object_position": null,
            "order": null,
            "overflow": null,
            "overflow_x": null,
            "overflow_y": null,
            "padding": null,
            "right": null,
            "top": null,
            "visibility": null,
            "width": null
          }
        },
        "53fd4581e262455aab314bd645f48fbf": {
          "model_module": "@jupyter-widgets/controls",
          "model_name": "DescriptionStyleModel",
          "model_module_version": "1.5.0",
          "state": {
            "_model_module": "@jupyter-widgets/controls",
            "_model_module_version": "1.5.0",
            "_model_name": "DescriptionStyleModel",
            "_view_count": null,
            "_view_module": "@jupyter-widgets/base",
            "_view_module_version": "1.2.0",
            "_view_name": "StyleView",
            "description_width": ""
          }
        },
        "9fc2300e37a3434ebf11002481ad54dd": {
          "model_module": "@jupyter-widgets/base",
          "model_name": "LayoutModel",
          "model_module_version": "1.2.0",
          "state": {
            "_model_module": "@jupyter-widgets/base",
            "_model_module_version": "1.2.0",
            "_model_name": "LayoutModel",
            "_view_count": null,
            "_view_module": "@jupyter-widgets/base",
            "_view_module_version": "1.2.0",
            "_view_name": "LayoutView",
            "align_content": null,
            "align_items": null,
            "align_self": null,
            "border": null,
            "bottom": null,
            "display": null,
            "flex": null,
            "flex_flow": null,
            "grid_area": null,
            "grid_auto_columns": null,
            "grid_auto_flow": null,
            "grid_auto_rows": null,
            "grid_column": null,
            "grid_gap": null,
            "grid_row": null,
            "grid_template_areas": null,
            "grid_template_columns": null,
            "grid_template_rows": null,
            "height": null,
            "justify_content": null,
            "justify_items": null,
            "left": null,
            "margin": null,
            "max_height": null,
            "max_width": null,
            "min_height": null,
            "min_width": null,
            "object_fit": null,
            "object_position": null,
            "order": null,
            "overflow": null,
            "overflow_x": null,
            "overflow_y": null,
            "padding": null,
            "right": null,
            "top": null,
            "visibility": null,
            "width": null
          }
        },
        "c18425c8abe84992ae306c92058deeba": {
          "model_module": "@jupyter-widgets/controls",
          "model_name": "ProgressStyleModel",
          "model_module_version": "1.5.0",
          "state": {
            "_model_module": "@jupyter-widgets/controls",
            "_model_module_version": "1.5.0",
            "_model_name": "ProgressStyleModel",
            "_view_count": null,
            "_view_module": "@jupyter-widgets/base",
            "_view_module_version": "1.2.0",
            "_view_name": "StyleView",
            "bar_color": null,
            "description_width": ""
          }
        }
      }
    }
  },
  "cells": [
    {
      "cell_type": "code",
      "execution_count": 1,
      "metadata": {
        "id": "iABXs37PYLuP",
        "pycharm": {
          "name": "#%%\n"
        }
      },
      "outputs": [],
      "source": [
        "import gc\n",
        "import os\n",
        "import matplotlib.pyplot as plt\n",
        "import time\n",
        "import torch\n",
        "import torch.nn as nn\n",
        "import torch.optim as optim\n",
        "import torchvision.datasets as datasets\n",
        "import torchvision.transforms as transforms\n",
        "from torch.utils.data import DataLoader"
      ]
    },
    {
      "cell_type": "code",
      "source": [
        "# Setup device\n",
        "device = torch.device(\"cuda\" if torch.cuda.is_available() else \"cpu\")\n",
        "print(f'Using {torch.cuda.get_device_name(0)}')"
      ],
      "metadata": {
        "id": "VHdEPmVXbC_g",
        "pycharm": {
          "name": "#%%\n"
        },
        "colab": {
          "base_uri": "https://localhost:8080/"
        },
        "outputId": "750eeac5-2cba-4e78-ccc7-8000b3f7c4f3"
      },
      "execution_count": 2,
      "outputs": [
        {
          "output_type": "stream",
          "name": "stdout",
          "text": [
            "Using Tesla T4\n"
          ]
        }
      ]
    },
    {
      "cell_type": "code",
      "execution_count": 3,
      "outputs": [
        {
          "output_type": "stream",
          "name": "stdout",
          "text": [
            "Looking in indexes: https://pypi.org/simple, https://us-python.pkg.dev/colab-wheels/public/simple/\n",
            "Collecting wandb\n",
            "  Downloading wandb-0.15.2-py3-none-any.whl (2.0 MB)\n",
            "\u001b[2K     \u001b[90m━━━━━━━━━━━━━━━━━━━━━━━━━━━━━━━━━━━━━━━━\u001b[0m \u001b[32m2.0/2.0 MB\u001b[0m \u001b[31m34.2 MB/s\u001b[0m eta \u001b[36m0:00:00\u001b[0m\n",
            "\u001b[?25hRequirement already satisfied: Click!=8.0.0,>=7.0 in /usr/local/lib/python3.10/dist-packages (from wandb) (8.1.3)\n",
            "Collecting GitPython!=3.1.29,>=1.0.0 (from wandb)\n",
            "  Downloading GitPython-3.1.31-py3-none-any.whl (184 kB)\n",
            "\u001b[2K     \u001b[90m━━━━━━━━━━━━━━━━━━━━━━━━━━━━━━━━━━━━━━\u001b[0m \u001b[32m184.3/184.3 kB\u001b[0m \u001b[31m19.6 MB/s\u001b[0m eta \u001b[36m0:00:00\u001b[0m\n",
            "\u001b[?25hRequirement already satisfied: requests<3,>=2.0.0 in /usr/local/lib/python3.10/dist-packages (from wandb) (2.27.1)\n",
            "Requirement already satisfied: psutil>=5.0.0 in /usr/local/lib/python3.10/dist-packages (from wandb) (5.9.5)\n",
            "Collecting sentry-sdk>=1.0.0 (from wandb)\n",
            "  Downloading sentry_sdk-1.22.2-py2.py3-none-any.whl (203 kB)\n",
            "\u001b[2K     \u001b[90m━━━━━━━━━━━━━━━━━━━━━━━━━━━━━━━━━━━━━━\u001b[0m \u001b[32m203.3/203.3 kB\u001b[0m \u001b[31m22.2 MB/s\u001b[0m eta \u001b[36m0:00:00\u001b[0m\n",
            "\u001b[?25hCollecting docker-pycreds>=0.4.0 (from wandb)\n",
            "  Downloading docker_pycreds-0.4.0-py2.py3-none-any.whl (9.0 kB)\n",
            "Requirement already satisfied: PyYAML in /usr/local/lib/python3.10/dist-packages (from wandb) (6.0)\n",
            "Collecting pathtools (from wandb)\n",
            "  Downloading pathtools-0.1.2.tar.gz (11 kB)\n",
            "  Preparing metadata (setup.py) ... \u001b[?25l\u001b[?25hdone\n",
            "Collecting setproctitle (from wandb)\n",
            "  Downloading setproctitle-1.3.2-cp310-cp310-manylinux_2_5_x86_64.manylinux1_x86_64.manylinux_2_17_x86_64.manylinux2014_x86_64.whl (30 kB)\n",
            "Requirement already satisfied: setuptools in /usr/local/lib/python3.10/dist-packages (from wandb) (67.7.2)\n",
            "Requirement already satisfied: appdirs>=1.4.3 in /usr/local/lib/python3.10/dist-packages (from wandb) (1.4.4)\n",
            "Requirement already satisfied: protobuf!=4.21.0,<5,>=3.19.0 in /usr/local/lib/python3.10/dist-packages (from wandb) (3.20.3)\n",
            "Requirement already satisfied: six>=1.4.0 in /usr/local/lib/python3.10/dist-packages (from docker-pycreds>=0.4.0->wandb) (1.16.0)\n",
            "Collecting gitdb<5,>=4.0.1 (from GitPython!=3.1.29,>=1.0.0->wandb)\n",
            "  Downloading gitdb-4.0.10-py3-none-any.whl (62 kB)\n",
            "\u001b[2K     \u001b[90m━━━━━━━━━━━━━━━━━━━━━━━━━━━━━━━━━━━━━━━━\u001b[0m \u001b[32m62.7/62.7 kB\u001b[0m \u001b[31m8.1 MB/s\u001b[0m eta \u001b[36m0:00:00\u001b[0m\n",
            "\u001b[?25hRequirement already satisfied: urllib3<1.27,>=1.21.1 in /usr/local/lib/python3.10/dist-packages (from requests<3,>=2.0.0->wandb) (1.26.15)\n",
            "Requirement already satisfied: certifi>=2017.4.17 in /usr/local/lib/python3.10/dist-packages (from requests<3,>=2.0.0->wandb) (2022.12.7)\n",
            "Requirement already satisfied: charset-normalizer~=2.0.0 in /usr/local/lib/python3.10/dist-packages (from requests<3,>=2.0.0->wandb) (2.0.12)\n",
            "Requirement already satisfied: idna<4,>=2.5 in /usr/local/lib/python3.10/dist-packages (from requests<3,>=2.0.0->wandb) (3.4)\n",
            "Collecting smmap<6,>=3.0.1 (from gitdb<5,>=4.0.1->GitPython!=3.1.29,>=1.0.0->wandb)\n",
            "  Downloading smmap-5.0.0-py3-none-any.whl (24 kB)\n",
            "Building wheels for collected packages: pathtools\n",
            "  Building wheel for pathtools (setup.py) ... \u001b[?25l\u001b[?25hdone\n",
            "  Created wheel for pathtools: filename=pathtools-0.1.2-py3-none-any.whl size=8791 sha256=53c4a9bec6801bb9b7fff1fd9affb3d3c90356473b26ffd3167acc2c22500e9e\n",
            "  Stored in directory: /root/.cache/pip/wheels/e7/f3/22/152153d6eb222ee7a56ff8617d80ee5207207a8c00a7aab794\n",
            "Successfully built pathtools\n",
            "Installing collected packages: pathtools, smmap, setproctitle, sentry-sdk, docker-pycreds, gitdb, GitPython, wandb\n",
            "Successfully installed GitPython-3.1.31 docker-pycreds-0.4.0 gitdb-4.0.10 pathtools-0.1.2 sentry-sdk-1.22.2 setproctitle-1.3.2 smmap-5.0.0 wandb-0.15.2\n"
          ]
        },
        {
          "output_type": "display_data",
          "data": {
            "text/plain": [
              "<IPython.core.display.Javascript object>"
            ],
            "application/javascript": [
              "\n",
              "        window._wandbApiKey = new Promise((resolve, reject) => {\n",
              "            function loadScript(url) {\n",
              "            return new Promise(function(resolve, reject) {\n",
              "                let newScript = document.createElement(\"script\");\n",
              "                newScript.onerror = reject;\n",
              "                newScript.onload = resolve;\n",
              "                document.body.appendChild(newScript);\n",
              "                newScript.src = url;\n",
              "            });\n",
              "            }\n",
              "            loadScript(\"https://cdn.jsdelivr.net/npm/postmate/build/postmate.min.js\").then(() => {\n",
              "            const iframe = document.createElement('iframe')\n",
              "            iframe.style.cssText = \"width:0;height:0;border:none\"\n",
              "            document.body.appendChild(iframe)\n",
              "            const handshake = new Postmate({\n",
              "                container: iframe,\n",
              "                url: 'https://wandb.ai/authorize'\n",
              "            });\n",
              "            const timeout = setTimeout(() => reject(\"Couldn't auto authenticate\"), 5000)\n",
              "            handshake.then(function(child) {\n",
              "                child.on('authorize', data => {\n",
              "                    clearTimeout(timeout)\n",
              "                    resolve(data)\n",
              "                });\n",
              "            });\n",
              "            })\n",
              "        });\n",
              "    "
            ]
          },
          "metadata": {}
        },
        {
          "output_type": "stream",
          "name": "stderr",
          "text": [
            "\u001b[34m\u001b[1mwandb\u001b[0m: Appending key for api.wandb.ai to your netrc file: /root/.netrc\n"
          ]
        },
        {
          "output_type": "execute_result",
          "data": {
            "text/plain": [
              "True"
            ]
          },
          "metadata": {},
          "execution_count": 3
        }
      ],
      "source": [
        "!pip install wandb\n",
        "import wandb\n",
        "wandb.login()"
      ],
      "metadata": {
        "pycharm": {
          "name": "#%%\n"
        },
        "colab": {
          "base_uri": "https://localhost:8080/",
          "height": 781
        },
        "id": "imfTPkppJp0E",
        "outputId": "bc1828c4-de76-479f-be29-c49e4dc4f766"
      }
    },
    {
      "cell_type": "markdown",
      "source": [
        "## Initialise training variables and datasets, split into train, validation and test sets."
      ],
      "metadata": {
        "collapsed": false,
        "pycharm": {
          "name": "#%% md\n"
        },
        "id": "agrX3EK6Jp0F"
      }
    },
    {
      "cell_type": "code",
      "source": [
        "# Training variables\n",
        "BATCH_SIZE = 32\n",
        "EPOCHS = 150\n",
        "LEARNING_RATE = 0.0001"
      ],
      "metadata": {
        "id": "WZi6DrrfbEkT",
        "pycharm": {
          "name": "#%%\n"
        }
      },
      "execution_count": 4,
      "outputs": []
    },
    {
      "cell_type": "code",
      "source": [
        "# Transformations for the train, validation, and test datasets\n",
        "train_transform = transforms.Compose([\n",
        "    transforms.Resize(256, antialias=True),\n",
        "    transforms.RandomCrop(256),\n",
        "    transforms.ToTensor(),\n",
        "    transforms.Normalize(mean=[0.485, 0.456, 0.406], std=[0.229, 0.224, 0.225])\n",
        "])\n",
        "\n",
        "val_test_transform = transforms.Compose([\n",
        "    transforms.Resize((256, 256), antialias=True),\n",
        "    transforms.CenterCrop(256),\n",
        "    transforms.ToTensor(),\n",
        "    transforms.Normalize(mean=[0.485, 0.456, 0.406], std=[0.229, 0.224, 0.225])\n",
        "])\n",
        "\n",
        "augment_transform = transforms.Compose([\n",
        "    train_transform,\n",
        "    transforms.RandomApply(\n",
        "        [transforms.RandomApply([transforms.RandomAffine(degrees=359, translate=(0.2, 0.2), shear=(20, 20, 20, 20)),\n",
        "                                 transforms.RandomHorizontalFlip(1), transforms.RandomVerticalFlip(1)], p=0.7),\n",
        "         transforms.ColorJitter(brightness=(0.75, 1.25), contrast=(0.75, 1.25), hue=(-0.15, 0.15),\n",
        "                                saturation=(0.75, 1.25))\n",
        "         ]\n",
        "    )\n",
        "])\n",
        "\n",
        "# Load the train, validation, and test datasets\n",
        "train_dataset = datasets.Flowers102(root=\"./data\", split=\"train\", transform=train_transform, download=True)\n",
        "all_train_data = [train_dataset]\n",
        "for i in range(1):  # augmented train dataset, concatenated with normal train dataset\n",
        "    all_train_data.append(\n",
        "        datasets.Flowers102(root=\"./data\", split=\"train\", transform=augment_transform, download=False))\n",
        "train_dataset_extra = torch.utils.data.ConcatDataset(all_train_data)\n",
        "\n",
        "train_loader = DataLoader(train_dataset_extra, batch_size=BATCH_SIZE, shuffle=True, num_workers=2)\n",
        "val_dataset = datasets.Flowers102(root=\"./data\", split=\"val\", transform=val_test_transform, download=True)\n",
        "val_loader = DataLoader(val_dataset, batch_size=BATCH_SIZE, shuffle=False, num_workers=2)\n",
        "test_dataset = datasets.Flowers102(root=\"./data\", split=\"test\", transform=val_test_transform, download=True)\n",
        "test_loader = DataLoader(test_dataset, batch_size=BATCH_SIZE, shuffle=False, num_workers=2)"
      ],
      "metadata": {
        "id": "WLXBzxwbbO_w",
        "pycharm": {
          "name": "#%%\n"
        },
        "colab": {
          "base_uri": "https://localhost:8080/"
        },
        "outputId": "e690f503-9a6f-4cce-8b0c-5db5029063ff"
      },
      "execution_count": 5,
      "outputs": [
        {
          "output_type": "stream",
          "name": "stdout",
          "text": [
            "Downloading https://thor.robots.ox.ac.uk/datasets/flowers-102/102flowers.tgz to data/flowers-102/102flowers.tgz\n"
          ]
        },
        {
          "output_type": "stream",
          "name": "stderr",
          "text": [
            "100%|██████████| 344862509/344862509 [00:25<00:00, 13278823.44it/s]\n"
          ]
        },
        {
          "output_type": "stream",
          "name": "stdout",
          "text": [
            "Extracting data/flowers-102/102flowers.tgz to data/flowers-102\n",
            "Downloading https://thor.robots.ox.ac.uk/datasets/flowers-102/imagelabels.mat to data/flowers-102/imagelabels.mat\n"
          ]
        },
        {
          "output_type": "stream",
          "name": "stderr",
          "text": [
            "100%|██████████| 502/502 [00:00<00:00, 324328.50it/s]\n"
          ]
        },
        {
          "output_type": "stream",
          "name": "stdout",
          "text": [
            "Downloading https://thor.robots.ox.ac.uk/datasets/flowers-102/setid.mat to data/flowers-102/setid.mat\n"
          ]
        },
        {
          "output_type": "stream",
          "name": "stderr",
          "text": [
            "100%|██████████| 14989/14989 [00:00<00:00, 14961547.51it/s]\n"
          ]
        }
      ]
    },
    {
      "cell_type": "code",
      "execution_count": 6,
      "outputs": [],
      "source": [
        "# Data for plots\n",
        "val_accuracies, val_losses, train_accuracies, train_losses = [], [], [], []\n",
        "plt.rcParams['axes.grid'] = True  # grid on all plots"
      ],
      "metadata": {
        "pycharm": {
          "name": "#%%\n"
        },
        "id": "jB_uO6DpJp0J"
      }
    },
    {
      "cell_type": "markdown",
      "source": [
        "## Define CNN model."
      ],
      "metadata": {
        "collapsed": false,
        "pycharm": {
          "name": "#%% md\n"
        },
        "id": "f5C3LZJgJp0K"
      }
    },
    {
      "cell_type": "code",
      "execution_count": 7,
      "outputs": [],
      "source": [
        "class CNN(nn.Module):\n",
        "    def __init__(self):\n",
        "        super(CNN, self).__init__()\n",
        "        self.conv1 = nn.Sequential(nn.Conv2d(3, 16, kernel_size=3, stride=1, padding=1),\n",
        "                                   nn.BatchNorm2d(16),\n",
        "                                   nn.ReLU(),\n",
        "                                   nn.MaxPool2d(2, 2))  # 224 -> 112\n",
        "        self.conv2 = nn.Sequential(nn.Conv2d(16, 32, kernel_size=3, stride=1, padding=1),\n",
        "                                   nn.BatchNorm2d(32),\n",
        "                                   nn.ReLU(),\n",
        "                                   nn.MaxPool2d(2, 2))  # 112 -> 56\n",
        "        self.conv3 = nn.Sequential(nn.Conv2d(32, 64, kernel_size=3, stride=1, padding=1),\n",
        "                                   nn.BatchNorm2d(64),\n",
        "                                   nn.ReLU(),\n",
        "                                   nn.MaxPool2d(2, 2))  # 56 -> 28\n",
        "        self.conv4 = nn.Sequential(nn.Conv2d(64, 128, kernel_size=3, stride=1, padding=1),\n",
        "                                   nn.BatchNorm2d(128),\n",
        "                                   nn.ReLU(),\n",
        "                                   nn.MaxPool2d(2, 2))  # 28 -> 14\n",
        "        self.conv5 = nn.Sequential(nn.Conv2d(128, 256, kernel_size=3, stride=1, padding=1),\n",
        "                                   nn.BatchNorm2d(256),\n",
        "                                   nn.ReLU(),\n",
        "                                   nn.MaxPool2d(2, 2))  # 14 -> 7\n",
        "        self.conv6 = nn.Sequential(nn.Conv2d(256, 512, kernel_size=3, stride=1, padding=1),\n",
        "                                   nn.BatchNorm2d(512),\n",
        "                                   nn.ReLU(),\n",
        "                                   nn.MaxPool2d(2, 2))  # 7 -> 3\n",
        "        self.conv7 = nn.Sequential(nn.Conv2d(512, 1024, kernel_size=3, stride=1, padding=1),\n",
        "                                   nn.BatchNorm2d(1024),\n",
        "                                   nn.MaxPool2d(2, 2))  # 3 -> 1\n",
        "        self.flatten = nn.Flatten()\n",
        "        self.fc1 = nn.Sequential(nn.Linear(2 * 2 * 1024, 2048),\n",
        "                                 nn.ReLU())\n",
        "        self.fc2 = nn.Sequential(nn.Linear(2048, 2048),\n",
        "                                 nn.ReLU())\n",
        "\n",
        "        self.fc3 = nn.Sequential(nn.Linear(2048, 102))\n",
        "\n",
        "    def forward(self, x):\n",
        "        x = self.conv1(x)\n",
        "        x = self.conv2(x)\n",
        "        x = self.conv3(x)\n",
        "        x = self.conv4(x)\n",
        "        x = self.conv5(x)\n",
        "        x = self.conv6(x)\n",
        "        x = self.conv7(x)\n",
        "        x = self.flatten(x)\n",
        "        x = self.fc1(x)\n",
        "        x = self.fc2(x)\n",
        "        x = self.fc3(x)\n",
        "        return x"
      ],
      "metadata": {
        "pycharm": {
          "name": "#%%\n"
        },
        "id": "yeq6L8fBJp0N"
      }
    },
    {
      "cell_type": "markdown",
      "source": [
        "# Function to save the model with the best validation accuracy."
      ],
      "metadata": {
        "collapsed": false,
        "pycharm": {
          "name": "#%% md\n"
        },
        "id": "WlIjCVIIJp0P"
      }
    },
    {
      "cell_type": "code",
      "execution_count": 8,
      "outputs": [],
      "source": [
        "def save_network(network, epoch_label):\n",
        "    save_filename = 'net_%s.pth' % epoch_label\n",
        "    save_path = os.path.join('./savedModels', save_filename)\n",
        "    torch.save(network.cpu().state_dict(), save_path)\n",
        "    if torch.cuda.is_available():\n",
        "       network.cuda()"
      ],
      "metadata": {
        "pycharm": {
          "name": "#%%\n"
        },
        "id": "FxVSWofuJp0P"
      }
    },
    {
      "cell_type": "markdown",
      "source": [
        "## Initialise CNN instance and train."
      ],
      "metadata": {
        "collapsed": false,
        "pycharm": {
          "name": "#%% md\n"
        },
        "id": "KjMpRpm7Jp0Q"
      }
    },
    {
      "cell_type": "code",
      "execution_count": 9,
      "outputs": [
        {
          "output_type": "stream",
          "name": "stderr",
          "text": [
            "\u001b[34m\u001b[1mwandb\u001b[0m: Currently logged in as: \u001b[33mfaranl\u001b[0m (\u001b[33mfaran-team\u001b[0m). Use \u001b[1m`wandb login --relogin`\u001b[0m to force relogin\n"
          ]
        },
        {
          "output_type": "display_data",
          "data": {
            "text/plain": [
              "<IPython.core.display.HTML object>"
            ],
            "text/html": [
              "Tracking run with wandb version 0.15.2"
            ]
          },
          "metadata": {}
        },
        {
          "output_type": "display_data",
          "data": {
            "text/plain": [
              "<IPython.core.display.HTML object>"
            ],
            "text/html": [
              "Run data is saved locally in <code>/content/wandb/run-20230509_173047-p8b8480m</code>"
            ]
          },
          "metadata": {}
        },
        {
          "output_type": "display_data",
          "data": {
            "text/plain": [
              "<IPython.core.display.HTML object>"
            ],
            "text/html": [
              "Syncing run <strong><a href='https://wandb.ai/faran-team/final-tests/runs/p8b8480m' target=\"_blank\">0.0001</a></strong> to <a href='https://wandb.ai/faran-team/final-tests' target=\"_blank\">Weights & Biases</a> (<a href='https://wandb.me/run' target=\"_blank\">docs</a>)<br/>"
            ]
          },
          "metadata": {}
        },
        {
          "output_type": "display_data",
          "data": {
            "text/plain": [
              "<IPython.core.display.HTML object>"
            ],
            "text/html": [
              " View project at <a href='https://wandb.ai/faran-team/final-tests' target=\"_blank\">https://wandb.ai/faran-team/final-tests</a>"
            ]
          },
          "metadata": {}
        },
        {
          "output_type": "display_data",
          "data": {
            "text/plain": [
              "<IPython.core.display.HTML object>"
            ],
            "text/html": [
              " View run at <a href='https://wandb.ai/faran-team/final-tests/runs/p8b8480m' target=\"_blank\">https://wandb.ai/faran-team/final-tests/runs/p8b8480m</a>"
            ]
          },
          "metadata": {}
        },
        {
          "output_type": "execute_result",
          "data": {
            "text/html": [
              "<button onClick=\"this.nextSibling.style.display='block';this.style.display='none';\">Display W&B run</button><iframe src='https://wandb.ai/faran-team/final-tests/runs/p8b8480m?jupyter=true' style='border:none;width:100%;height:420px;display:none;'></iframe>"
            ],
            "text/plain": [
              "<wandb.sdk.wandb_run.Run at 0x7f85f721db40>"
            ]
          },
          "metadata": {},
          "execution_count": 9
        }
      ],
      "source": [
        "wandb.init(\n",
        "    name=str(LEARNING_RATE),\n",
        "    project=\"final-tests\",\n",
        "    config={\n",
        "        \"learning_rate\": LEARNING_RATE,\n",
        "        \"architecture\": \"CNN-256L\",\n",
        "        \"dataset\": \"Flowers102\",\n",
        "        \"epochs\": EPOCHS,\n",
        "    }\n",
        ")"
      ],
      "metadata": {
        "pycharm": {
          "name": "#%%\n"
        },
        "colab": {
          "base_uri": "https://localhost:8080/",
          "height": 142
        },
        "id": "N3AUt4HhJp0R",
        "outputId": "d79bb14c-7ecf-4257-bf22-5d1a9c71516d"
      }
    },
    {
      "cell_type": "code",
      "source": [
        "# Clear CUDA cache\n",
        "torch.cuda.empty_cache()\n",
        "gc.collect()\n",
        "\n",
        "# Create an instance of the CNN and move it to the device\n",
        "cnn = CNN().to(device)\n",
        "\n",
        "criterion = nn.CrossEntropyLoss()\n",
        "# Set weight decay\n",
        "WEIGHT_DECAY = 0.03\n",
        "\n",
        "# Create the optimizer and add weight decay\n",
        "optimizer = optim.Adam(cnn.parameters(), lr=LEARNING_RATE, weight_decay=WEIGHT_DECAY)\n",
        "\n",
        "# lr scheduler\n",
        "scheduler = optim.lr_scheduler.ReduceLROnPlateau(optimizer, patience=10, factor=0.1, verbose=True)"
      ],
      "metadata": {
        "id": "c3L6lRUEbjFp",
        "pycharm": {
          "name": "#%%\n"
        }
      },
      "execution_count": 10,
      "outputs": []
    },
    {
      "cell_type": "code",
      "execution_count": 11,
      "metadata": {
        "id": "yhGoXwwnQiQu",
        "colab": {
          "base_uri": "https://localhost:8080/",
          "height": 1000,
          "referenced_widgets": [
            "3ebc57349e5049e7bb70ab7709d3b759",
            "afae38d15b94459db460395cab02b3f9",
            "d4e3b4b48e2d4506800f87fc1137f8fd",
            "1f49f383b04d499b99140f8e8d64d8e8",
            "52dd0b6823da455abb6aeee9a04ae0d0",
            "53fd4581e262455aab314bd645f48fbf",
            "9fc2300e37a3434ebf11002481ad54dd",
            "c18425c8abe84992ae306c92058deeba"
          ]
        },
        "outputId": "4468bf42-6663-4eb2-c0b3-ac2ce3a53c9b",
        "pycharm": {
          "name": "#%%\n",
          "is_executing": true
        }
      },
      "outputs": [
        {
          "output_type": "stream",
          "name": "stdout",
          "text": [
            "Starting training with learning rate 0.0001000\n",
            "--------- Epoch 1 ----------\n",
            "Epoch [1/150], Step [32/64], Step Loss: 4.4927\n",
            "Epoch [1/150], Step [64/64], Step Loss: 4.2109\n",
            "Epoch [1/150], Training Loss: 4.4317, Training Accuracy: 3.73%\n",
            "Epoch [1/150], Validation Loss: 3.9712, Validation Accuracy: 7.35%\n",
            "  **Better model found. Updated best model.\n",
            "--------- Epoch 2 ----------\n",
            "Epoch [2/150], Step [32/64], Step Loss: 3.4758\n",
            "Epoch [2/150], Step [64/64], Step Loss: 3.4773\n",
            "Epoch [2/150], Training Loss: 3.7871, Training Accuracy: 8.63%\n",
            "Epoch [2/150], Validation Loss: 3.5215, Validation Accuracy: 12.75%\n",
            "  **Better model found. Updated best model.\n",
            "--------- Epoch 3 ----------\n",
            "Epoch [3/150], Step [32/64], Step Loss: 3.3404\n",
            "Epoch [3/150], Step [64/64], Step Loss: 3.2124\n",
            "Epoch [3/150], Training Loss: 3.4138, Training Accuracy: 15.10%\n",
            "Epoch [3/150], Validation Loss: 3.3994, Validation Accuracy: 15.00%\n",
            "  **Better model found. Updated best model.\n",
            "--------- Epoch 4 ----------\n",
            "Epoch [4/150], Step [32/64], Step Loss: 3.1727\n",
            "Epoch [4/150], Step [64/64], Step Loss: 3.0105\n",
            "Epoch [4/150], Training Loss: 3.1693, Training Accuracy: 19.61%\n",
            "Epoch [4/150], Validation Loss: 3.2892, Validation Accuracy: 18.14%\n",
            "  **Better model found. Updated best model.\n",
            "--------- Epoch 5 ----------\n",
            "Epoch [5/150], Step [32/64], Step Loss: 2.8605\n",
            "Epoch [5/150], Step [64/64], Step Loss: 3.1055\n",
            "Epoch [5/150], Training Loss: 2.9464, Training Accuracy: 23.68%\n",
            "Epoch [5/150], Validation Loss: 2.9656, Validation Accuracy: 23.63%\n",
            "  **Better model found. Updated best model.\n",
            "--------- Epoch 6 ----------\n",
            "Epoch [6/150], Step [32/64], Step Loss: 2.2597\n",
            "Epoch [6/150], Step [64/64], Step Loss: 2.4579\n",
            "Epoch [6/150], Training Loss: 2.7597, Training Accuracy: 29.07%\n",
            "Epoch [6/150], Validation Loss: 3.1608, Validation Accuracy: 21.08%\n",
            "--------- Epoch 7 ----------\n",
            "Epoch [7/150], Step [32/64], Step Loss: 2.6944\n",
            "Epoch [7/150], Step [64/64], Step Loss: 2.7402\n",
            "Epoch [7/150], Training Loss: 2.5788, Training Accuracy: 31.76%\n",
            "Epoch [7/150], Validation Loss: 3.0267, Validation Accuracy: 25.39%\n",
            "  **Better model found. Updated best model.\n",
            "--------- Epoch 8 ----------\n",
            "Epoch [8/150], Step [32/64], Step Loss: 2.7129\n",
            "Epoch [8/150], Step [64/64], Step Loss: 2.3065\n",
            "Epoch [8/150], Training Loss: 2.5311, Training Accuracy: 31.76%\n",
            "Epoch [8/150], Validation Loss: 2.8074, Validation Accuracy: 28.04%\n",
            "  **Better model found. Updated best model.\n",
            "--------- Epoch 9 ----------\n",
            "Epoch [9/150], Step [32/64], Step Loss: 2.3257\n",
            "Epoch [9/150], Step [64/64], Step Loss: 2.9078\n",
            "Epoch [9/150], Training Loss: 2.3464, Training Accuracy: 37.55%\n",
            "Epoch [9/150], Validation Loss: 2.8684, Validation Accuracy: 26.47%\n",
            "--------- Epoch 10 ----------\n",
            "Epoch [10/150], Step [32/64], Step Loss: 2.4674\n",
            "Epoch [10/150], Step [64/64], Step Loss: 2.8705\n",
            "Epoch [10/150], Training Loss: 2.2874, Training Accuracy: 39.12%\n",
            "Epoch [10/150], Validation Loss: 2.6445, Validation Accuracy: 32.25%\n",
            "  **Better model found. Updated best model.\n",
            "--------- Epoch 11 ----------\n",
            "Epoch [11/150], Step [32/64], Step Loss: 2.4536\n",
            "Epoch [11/150], Step [64/64], Step Loss: 2.4553\n",
            "Epoch [11/150], Training Loss: 2.2024, Training Accuracy: 41.27%\n",
            "Epoch [11/150], Validation Loss: 2.8488, Validation Accuracy: 27.35%\n",
            "--------- Epoch 12 ----------\n",
            "Epoch [12/150], Step [32/64], Step Loss: 2.2734\n",
            "Epoch [12/150], Step [64/64], Step Loss: 2.4349\n",
            "Epoch [12/150], Training Loss: 1.9862, Training Accuracy: 47.45%\n",
            "Epoch [12/150], Validation Loss: 3.0849, Validation Accuracy: 27.06%\n",
            "--------- Epoch 13 ----------\n",
            "Epoch [13/150], Step [32/64], Step Loss: 1.7090\n",
            "Epoch [13/150], Step [64/64], Step Loss: 1.9796\n",
            "Epoch [13/150], Training Loss: 1.8958, Training Accuracy: 48.97%\n",
            "Epoch [13/150], Validation Loss: 2.6702, Validation Accuracy: 33.92%\n",
            "  **Better model found. Updated best model.\n",
            "--------- Epoch 14 ----------\n",
            "Epoch [14/150], Step [32/64], Step Loss: 2.1733\n",
            "Epoch [14/150], Step [64/64], Step Loss: 1.9410\n",
            "Epoch [14/150], Training Loss: 1.8424, Training Accuracy: 50.69%\n",
            "Epoch [14/150], Validation Loss: 2.8946, Validation Accuracy: 30.78%\n",
            "--------- Epoch 15 ----------\n",
            "Epoch [15/150], Step [32/64], Step Loss: 1.9383\n",
            "Epoch [15/150], Step [64/64], Step Loss: 1.7938\n",
            "Epoch [15/150], Training Loss: 1.6893, Training Accuracy: 55.25%\n",
            "Epoch [15/150], Validation Loss: 2.8803, Validation Accuracy: 31.37%\n",
            "--------- Epoch 16 ----------\n",
            "Epoch [16/150], Step [32/64], Step Loss: 1.6015\n",
            "Epoch [16/150], Step [64/64], Step Loss: 1.9148\n",
            "Epoch [16/150], Training Loss: 1.6116, Training Accuracy: 56.76%\n",
            "Epoch [16/150], Validation Loss: 2.6390, Validation Accuracy: 36.76%\n",
            "  **Better model found. Updated best model.\n",
            "--------- Epoch 17 ----------\n",
            "Epoch [17/150], Step [32/64], Step Loss: 1.6362\n",
            "Epoch [17/150], Step [64/64], Step Loss: 1.6494\n",
            "Epoch [17/150], Training Loss: 1.5439, Training Accuracy: 58.48%\n",
            "Epoch [17/150], Validation Loss: 3.1355, Validation Accuracy: 29.41%\n",
            "--------- Epoch 18 ----------\n",
            "Epoch [18/150], Step [32/64], Step Loss: 1.6407\n",
            "Epoch [18/150], Step [64/64], Step Loss: 1.9042\n",
            "Epoch [18/150], Training Loss: 1.4738, Training Accuracy: 60.93%\n",
            "Epoch [18/150], Validation Loss: 2.5872, Validation Accuracy: 39.22%\n",
            "  **Better model found. Updated best model.\n",
            "--------- Epoch 19 ----------\n",
            "Epoch [19/150], Step [32/64], Step Loss: 1.4982\n",
            "Epoch [19/150], Step [64/64], Step Loss: 1.6416\n",
            "Epoch [19/150], Training Loss: 1.4852, Training Accuracy: 60.54%\n",
            "Epoch [19/150], Validation Loss: 2.7194, Validation Accuracy: 33.92%\n",
            "--------- Epoch 20 ----------\n",
            "Epoch [20/150], Step [32/64], Step Loss: 1.7302\n",
            "Epoch [20/150], Step [64/64], Step Loss: 1.3766\n",
            "Epoch [20/150], Training Loss: 1.4285, Training Accuracy: 62.94%\n",
            "Epoch [20/150], Validation Loss: 3.0058, Validation Accuracy: 33.14%\n",
            "--------- Epoch 21 ----------\n",
            "Epoch [21/150], Step [32/64], Step Loss: 1.4184\n",
            "Epoch [21/150], Step [64/64], Step Loss: 1.5323\n",
            "Epoch [21/150], Training Loss: 1.2865, Training Accuracy: 66.72%\n",
            "Epoch [21/150], Validation Loss: 3.0126, Validation Accuracy: 32.25%\n",
            "--------- Epoch 22 ----------\n",
            "Epoch [22/150], Step [32/64], Step Loss: 1.0134\n",
            "Epoch [22/150], Step [64/64], Step Loss: 1.0442\n",
            "Epoch [22/150], Training Loss: 1.3048, Training Accuracy: 66.67%\n",
            "Epoch [22/150], Validation Loss: 2.9437, Validation Accuracy: 34.02%\n",
            "--------- Epoch 23 ----------\n",
            "Epoch [23/150], Step [32/64], Step Loss: 1.1588\n",
            "Epoch [23/150], Step [64/64], Step Loss: 1.0280\n",
            "Epoch [23/150], Training Loss: 1.2096, Training Accuracy: 68.92%\n",
            "Epoch [23/150], Validation Loss: 2.8571, Validation Accuracy: 36.27%\n",
            "--------- Epoch 24 ----------\n",
            "Epoch [24/150], Step [32/64], Step Loss: 1.6781\n",
            "Epoch [24/150], Step [64/64], Step Loss: 1.4519\n",
            "Epoch [24/150], Training Loss: 1.2156, Training Accuracy: 69.51%\n",
            "Epoch [24/150], Validation Loss: 2.8791, Validation Accuracy: 34.61%\n",
            "--------- Epoch 25 ----------\n",
            "Epoch [25/150], Step [32/64], Step Loss: 1.3920\n",
            "Epoch [25/150], Step [64/64], Step Loss: 1.3011\n",
            "Epoch [25/150], Training Loss: 1.2011, Training Accuracy: 69.66%\n",
            "Epoch [25/150], Validation Loss: 3.0955, Validation Accuracy: 33.63%\n",
            "--------- Epoch 26 ----------\n",
            "Epoch [26/150], Step [32/64], Step Loss: 1.3184\n",
            "Epoch [26/150], Step [64/64], Step Loss: 1.2964\n",
            "Epoch [26/150], Training Loss: 1.1248, Training Accuracy: 71.42%\n",
            "Epoch [26/150], Validation Loss: 3.4776, Validation Accuracy: 25.78%\n",
            "--------- Epoch 27 ----------\n",
            "Epoch [27/150], Step [32/64], Step Loss: 1.0836\n",
            "Epoch [27/150], Step [64/64], Step Loss: 0.7564\n",
            "Epoch [27/150], Training Loss: 1.1635, Training Accuracy: 71.03%\n",
            "Epoch [27/150], Validation Loss: 2.2797, Validation Accuracy: 42.45%\n",
            "  **Better model found. Updated best model.\n",
            "--------- Epoch 28 ----------\n",
            "Epoch [28/150], Step [32/64], Step Loss: 1.0994\n",
            "Epoch [28/150], Step [64/64], Step Loss: 0.6588\n",
            "Epoch [28/150], Training Loss: 1.0843, Training Accuracy: 73.38%\n",
            "Epoch [28/150], Validation Loss: 2.7938, Validation Accuracy: 37.16%\n",
            "--------- Epoch 29 ----------\n",
            "Epoch [29/150], Step [32/64], Step Loss: 0.9707\n",
            "Epoch [29/150], Step [64/64], Step Loss: 0.9543\n",
            "Epoch [29/150], Training Loss: 1.0930, Training Accuracy: 74.46%\n",
            "Epoch [29/150], Validation Loss: 2.8714, Validation Accuracy: 33.04%\n",
            "--------- Epoch 30 ----------\n",
            "Epoch [30/150], Step [32/64], Step Loss: 0.6599\n",
            "Epoch [30/150], Step [64/64], Step Loss: 1.0291\n",
            "Epoch [30/150], Training Loss: 1.0902, Training Accuracy: 74.36%\n",
            "Epoch [30/150], Validation Loss: 2.4512, Validation Accuracy: 42.84%\n",
            "  **Better model found. Updated best model.\n",
            "--------- Epoch 31 ----------\n",
            "Epoch [31/150], Step [32/64], Step Loss: 0.7559\n",
            "Epoch [31/150], Step [64/64], Step Loss: 0.9086\n",
            "Epoch [31/150], Training Loss: 1.0275, Training Accuracy: 75.29%\n",
            "Epoch [31/150], Validation Loss: 3.3786, Validation Accuracy: 32.65%\n",
            "--------- Epoch 32 ----------\n",
            "Epoch [32/150], Step [32/64], Step Loss: 1.0730\n",
            "Epoch [32/150], Step [64/64], Step Loss: 1.1826\n",
            "Epoch [32/150], Training Loss: 1.0515, Training Accuracy: 73.87%\n",
            "Epoch [32/150], Validation Loss: 2.8624, Validation Accuracy: 34.22%\n",
            "--------- Epoch 33 ----------\n",
            "Epoch [33/150], Step [32/64], Step Loss: 0.9680\n",
            "Epoch [33/150], Step [64/64], Step Loss: 0.7125\n",
            "Epoch [33/150], Training Loss: 0.9976, Training Accuracy: 74.95%\n",
            "Epoch [33/150], Validation Loss: 2.3969, Validation Accuracy: 42.75%\n",
            "--------- Epoch 34 ----------\n",
            "Epoch [34/150], Step [32/64], Step Loss: 0.6670\n",
            "Epoch [34/150], Step [64/64], Step Loss: 0.7938\n",
            "Epoch [34/150], Training Loss: 0.9502, Training Accuracy: 77.84%\n",
            "Epoch [34/150], Validation Loss: 2.5914, Validation Accuracy: 40.20%\n",
            "--------- Epoch 35 ----------\n",
            "Epoch [35/150], Step [32/64], Step Loss: 0.7927\n",
            "Epoch [35/150], Step [64/64], Step Loss: 0.7537\n",
            "Epoch [35/150], Training Loss: 0.9693, Training Accuracy: 77.06%\n",
            "Epoch [35/150], Validation Loss: 2.5013, Validation Accuracy: 43.43%\n",
            "  **Better model found. Updated best model.\n",
            "--------- Epoch 36 ----------\n",
            "Epoch [36/150], Step [32/64], Step Loss: 0.9381\n",
            "Epoch [36/150], Step [64/64], Step Loss: 1.1161\n",
            "Epoch [36/150], Training Loss: 0.9460, Training Accuracy: 77.50%\n",
            "Epoch [36/150], Validation Loss: 2.6823, Validation Accuracy: 37.45%\n",
            "--------- Epoch 37 ----------\n",
            "Epoch [37/150], Step [32/64], Step Loss: 1.1576\n",
            "Epoch [37/150], Step [64/64], Step Loss: 1.6900\n",
            "Epoch [37/150], Training Loss: 0.9392, Training Accuracy: 78.68%\n",
            "Epoch [37/150], Validation Loss: 3.1152, Validation Accuracy: 34.80%\n",
            "--------- Epoch 38 ----------\n",
            "Epoch [38/150], Step [32/64], Step Loss: 1.2609\n",
            "Epoch [38/150], Step [64/64], Step Loss: 0.9234\n",
            "Epoch [38/150], Training Loss: 0.9399, Training Accuracy: 78.48%\n",
            "Epoch [38/150], Validation Loss: 2.4767, Validation Accuracy: 40.69%\n",
            "Epoch 00038: reducing learning rate of group 0 to 1.0000e-05.\n",
            "--------- Epoch 39 ----------\n",
            "Epoch [39/150], Step [32/64], Step Loss: 0.6566\n",
            "Epoch [39/150], Step [64/64], Step Loss: 0.9857\n",
            "Epoch [39/150], Training Loss: 0.7415, Training Accuracy: 83.19%\n",
            "Epoch [39/150], Validation Loss: 2.0079, Validation Accuracy: 51.96%\n",
            "  **Better model found. Updated best model.\n",
            "--------- Epoch 40 ----------\n",
            "Epoch [40/150], Step [32/64], Step Loss: 0.9462\n",
            "Epoch [40/150], Step [64/64], Step Loss: 0.5592\n",
            "Epoch [40/150], Training Loss: 0.6291, Training Accuracy: 86.47%\n",
            "Epoch [40/150], Validation Loss: 1.9955, Validation Accuracy: 51.37%\n",
            "--------- Epoch 41 ----------\n",
            "Epoch [41/150], Step [32/64], Step Loss: 0.9723\n",
            "Epoch [41/150], Step [64/64], Step Loss: 0.4475\n",
            "Epoch [41/150], Training Loss: 0.6441, Training Accuracy: 84.90%\n",
            "Epoch [41/150], Validation Loss: 1.9570, Validation Accuracy: 52.35%\n",
            "  **Better model found. Updated best model.\n",
            "--------- Epoch 42 ----------\n",
            "Epoch [42/150], Step [32/64], Step Loss: 0.6408\n",
            "Epoch [42/150], Step [64/64], Step Loss: 0.8622\n",
            "Epoch [42/150], Training Loss: 0.5870, Training Accuracy: 86.13%\n",
            "Epoch [42/150], Validation Loss: 1.9545, Validation Accuracy: 52.16%\n",
            "--------- Epoch 43 ----------\n",
            "Epoch [43/150], Step [32/64], Step Loss: 0.7680\n",
            "Epoch [43/150], Step [64/64], Step Loss: 0.6495\n",
            "Epoch [43/150], Training Loss: 0.6012, Training Accuracy: 86.91%\n",
            "Epoch [43/150], Validation Loss: 1.9629, Validation Accuracy: 52.25%\n",
            "--------- Epoch 44 ----------\n",
            "Epoch [44/150], Step [32/64], Step Loss: 0.5088\n",
            "Epoch [44/150], Step [64/64], Step Loss: 0.5022\n",
            "Epoch [44/150], Training Loss: 0.6159, Training Accuracy: 85.25%\n",
            "Epoch [44/150], Validation Loss: 1.9423, Validation Accuracy: 52.65%\n",
            "  **Better model found. Updated best model.\n",
            "--------- Epoch 45 ----------\n",
            "Epoch [45/150], Step [32/64], Step Loss: 0.4699\n",
            "Epoch [45/150], Step [64/64], Step Loss: 0.6107\n",
            "Epoch [45/150], Training Loss: 0.6225, Training Accuracy: 85.29%\n",
            "Epoch [45/150], Validation Loss: 1.9413, Validation Accuracy: 52.94%\n",
            "  **Better model found. Updated best model.\n",
            "--------- Epoch 46 ----------\n",
            "Epoch [46/150], Step [32/64], Step Loss: 0.7463\n",
            "Epoch [46/150], Step [64/64], Step Loss: 0.4355\n",
            "Epoch [46/150], Training Loss: 0.6024, Training Accuracy: 86.23%\n",
            "Epoch [46/150], Validation Loss: 1.9761, Validation Accuracy: 51.57%\n",
            "--------- Epoch 47 ----------\n",
            "Epoch [47/150], Step [32/64], Step Loss: 0.2538\n",
            "Epoch [47/150], Step [64/64], Step Loss: 0.3148\n",
            "Epoch [47/150], Training Loss: 0.6365, Training Accuracy: 85.29%\n",
            "Epoch [47/150], Validation Loss: 1.9423, Validation Accuracy: 51.67%\n",
            "--------- Epoch 48 ----------\n",
            "Epoch [48/150], Step [32/64], Step Loss: 0.5496\n",
            "Epoch [48/150], Step [64/64], Step Loss: 0.8575\n",
            "Epoch [48/150], Training Loss: 0.6246, Training Accuracy: 85.39%\n",
            "Epoch [48/150], Validation Loss: 1.9481, Validation Accuracy: 52.25%\n",
            "--------- Epoch 49 ----------\n",
            "Epoch [49/150], Step [32/64], Step Loss: 0.5748\n",
            "Epoch [49/150], Step [64/64], Step Loss: 0.5769\n",
            "Epoch [49/150], Training Loss: 0.5849, Training Accuracy: 86.23%\n",
            "Epoch [49/150], Validation Loss: 1.8773, Validation Accuracy: 53.14%\n",
            "  **Better model found. Updated best model.\n",
            "--------- Epoch 50 ----------\n",
            "Epoch [50/150], Step [32/64], Step Loss: 0.3957\n",
            "Epoch [50/150], Step [64/64], Step Loss: 0.4447\n",
            "Epoch [50/150], Training Loss: 0.5896, Training Accuracy: 86.86%\n",
            "Epoch [50/150], Validation Loss: 1.9211, Validation Accuracy: 54.02%\n",
            "  **Better model found. Updated best model.\n",
            "--------- Epoch 51 ----------\n",
            "Epoch [51/150], Step [32/64], Step Loss: 0.2971\n",
            "Epoch [51/150], Step [64/64], Step Loss: 0.5578\n",
            "Epoch [51/150], Training Loss: 0.6058, Training Accuracy: 85.98%\n",
            "Epoch [51/150], Validation Loss: 1.8646, Validation Accuracy: 52.94%\n",
            "--------- Epoch 52 ----------\n",
            "Epoch [52/150], Step [32/64], Step Loss: 0.3857\n",
            "Epoch [52/150], Step [64/64], Step Loss: 0.6372\n",
            "Epoch [52/150], Training Loss: 0.5427, Training Accuracy: 87.60%\n",
            "Epoch [52/150], Validation Loss: 1.8605, Validation Accuracy: 54.31%\n",
            "  **Better model found. Updated best model.\n",
            "--------- Epoch 53 ----------\n",
            "Epoch [53/150], Step [32/64], Step Loss: 0.4620\n",
            "Epoch [53/150], Step [64/64], Step Loss: 0.5664\n",
            "Epoch [53/150], Training Loss: 0.5702, Training Accuracy: 87.01%\n",
            "Epoch [53/150], Validation Loss: 1.8551, Validation Accuracy: 54.22%\n",
            "--------- Epoch 54 ----------\n",
            "Epoch [54/150], Step [32/64], Step Loss: 0.4511\n",
            "Epoch [54/150], Step [64/64], Step Loss: 0.2742\n",
            "Epoch [54/150], Training Loss: 0.5849, Training Accuracy: 86.67%\n",
            "Epoch [54/150], Validation Loss: 1.9029, Validation Accuracy: 52.16%\n",
            "--------- Epoch 55 ----------\n",
            "Epoch [55/150], Step [32/64], Step Loss: 0.8972\n",
            "Epoch [55/150], Step [64/64], Step Loss: 0.8731\n",
            "Epoch [55/150], Training Loss: 0.5999, Training Accuracy: 86.13%\n",
            "Epoch [55/150], Validation Loss: 1.8865, Validation Accuracy: 52.75%\n",
            "--------- Epoch 56 ----------\n",
            "Epoch [56/150], Step [32/64], Step Loss: 0.3798\n",
            "Epoch [56/150], Step [64/64], Step Loss: 0.9473\n",
            "Epoch [56/150], Training Loss: 0.5997, Training Accuracy: 85.93%\n",
            "Epoch [56/150], Validation Loss: 1.8779, Validation Accuracy: 53.73%\n",
            "--------- Epoch 57 ----------\n",
            "Epoch [57/150], Step [32/64], Step Loss: 0.2627\n",
            "Epoch [57/150], Step [64/64], Step Loss: 0.6248\n",
            "Epoch [57/150], Training Loss: 0.6095, Training Accuracy: 86.03%\n",
            "Epoch [57/150], Validation Loss: 1.9145, Validation Accuracy: 52.65%\n",
            "--------- Epoch 58 ----------\n",
            "Epoch [58/150], Step [32/64], Step Loss: 0.7403\n",
            "Epoch [58/150], Step [64/64], Step Loss: 1.6904\n",
            "Epoch [58/150], Training Loss: 0.5974, Training Accuracy: 86.18%\n",
            "Epoch [58/150], Validation Loss: 1.9069, Validation Accuracy: 53.82%\n",
            "--------- Epoch 59 ----------\n",
            "Epoch [59/150], Step [32/64], Step Loss: 0.7605\n",
            "Epoch [59/150], Step [64/64], Step Loss: 0.9358\n",
            "Epoch [59/150], Training Loss: 0.5767, Training Accuracy: 86.67%\n",
            "Epoch [59/150], Validation Loss: 1.8687, Validation Accuracy: 54.22%\n",
            "--------- Epoch 60 ----------\n",
            "Epoch [60/150], Step [32/64], Step Loss: 0.4813\n",
            "Epoch [60/150], Step [64/64], Step Loss: 0.6423\n",
            "Epoch [60/150], Training Loss: 0.5855, Training Accuracy: 86.91%\n",
            "Epoch [60/150], Validation Loss: 1.8986, Validation Accuracy: 52.25%\n",
            "--------- Epoch 61 ----------\n",
            "Epoch [61/150], Step [32/64], Step Loss: 0.3972\n",
            "Epoch [61/150], Step [64/64], Step Loss: 0.5422\n",
            "Epoch [61/150], Training Loss: 0.5597, Training Accuracy: 87.60%\n",
            "Epoch [61/150], Validation Loss: 1.8708, Validation Accuracy: 52.84%\n",
            "--------- Epoch 62 ----------\n",
            "Epoch [62/150], Step [32/64], Step Loss: 0.6679\n",
            "Epoch [62/150], Step [64/64], Step Loss: 0.5174\n",
            "Epoch [62/150], Training Loss: 0.5530, Training Accuracy: 87.35%\n",
            "Epoch [62/150], Validation Loss: 1.9036, Validation Accuracy: 52.65%\n",
            "--------- Epoch 63 ----------\n",
            "Epoch [63/150], Step [32/64], Step Loss: 0.8141\n",
            "Epoch [63/150], Step [64/64], Step Loss: 0.5870\n",
            "Epoch [63/150], Training Loss: 0.5631, Training Accuracy: 87.11%\n",
            "Epoch [63/150], Validation Loss: 1.9235, Validation Accuracy: 53.53%\n",
            "--------- Epoch 64 ----------\n",
            "Epoch [64/150], Step [32/64], Step Loss: 0.9379\n",
            "Epoch [64/150], Step [64/64], Step Loss: 1.1836\n",
            "Epoch [64/150], Training Loss: 0.5845, Training Accuracy: 86.96%\n",
            "Epoch [64/150], Validation Loss: 1.8842, Validation Accuracy: 52.55%\n",
            "Epoch 00064: reducing learning rate of group 0 to 1.0000e-06.\n",
            "--------- Epoch 65 ----------\n",
            "Epoch [65/150], Step [32/64], Step Loss: 0.2075\n",
            "Epoch [65/150], Step [64/64], Step Loss: 0.3601\n",
            "Epoch [65/150], Training Loss: 0.5959, Training Accuracy: 85.93%\n",
            "Epoch [65/150], Validation Loss: 1.8507, Validation Accuracy: 54.61%\n",
            "  **Better model found. Updated best model.\n",
            "--------- Epoch 66 ----------\n",
            "Epoch [66/150], Step [32/64], Step Loss: 0.4767\n",
            "Epoch [66/150], Step [64/64], Step Loss: 0.7086\n",
            "Epoch [66/150], Training Loss: 0.5666, Training Accuracy: 87.01%\n",
            "Epoch [66/150], Validation Loss: 1.8335, Validation Accuracy: 54.41%\n",
            "--------- Epoch 67 ----------\n",
            "Epoch [67/150], Step [32/64], Step Loss: 0.5914\n",
            "Epoch [67/150], Step [64/64], Step Loss: 0.6584\n",
            "Epoch [67/150], Training Loss: 0.5543, Training Accuracy: 87.16%\n",
            "Epoch [67/150], Validation Loss: 1.8295, Validation Accuracy: 53.92%\n",
            "--------- Epoch 68 ----------\n",
            "Epoch [68/150], Step [32/64], Step Loss: 0.5087\n",
            "Epoch [68/150], Step [64/64], Step Loss: 0.9211\n",
            "Epoch [68/150], Training Loss: 0.5168, Training Accuracy: 87.89%\n",
            "Epoch [68/150], Validation Loss: 1.8234, Validation Accuracy: 54.41%\n",
            "--------- Epoch 69 ----------\n",
            "Epoch [69/150], Step [32/64], Step Loss: 0.3302\n",
            "Epoch [69/150], Step [64/64], Step Loss: 0.4760\n",
            "Epoch [69/150], Training Loss: 0.5396, Training Accuracy: 86.96%\n",
            "Epoch [69/150], Validation Loss: 1.8332, Validation Accuracy: 53.82%\n",
            "--------- Epoch 70 ----------\n",
            "Epoch [70/150], Step [32/64], Step Loss: 0.4741\n",
            "Epoch [70/150], Step [64/64], Step Loss: 0.4201\n",
            "Epoch [70/150], Training Loss: 0.5114, Training Accuracy: 88.53%\n",
            "Epoch [70/150], Validation Loss: 1.8314, Validation Accuracy: 54.80%\n",
            "  **Better model found. Updated best model.\n",
            "--------- Epoch 71 ----------\n",
            "Epoch [71/150], Step [32/64], Step Loss: 0.1906\n",
            "Epoch [71/150], Step [64/64], Step Loss: 0.6091\n",
            "Epoch [71/150], Training Loss: 0.5233, Training Accuracy: 87.84%\n",
            "Epoch [71/150], Validation Loss: 1.8280, Validation Accuracy: 54.12%\n",
            "--------- Epoch 72 ----------\n",
            "Epoch [72/150], Step [32/64], Step Loss: 0.8161\n",
            "Epoch [72/150], Step [64/64], Step Loss: 0.2881\n",
            "Epoch [72/150], Training Loss: 0.5410, Training Accuracy: 87.75%\n",
            "Epoch [72/150], Validation Loss: 1.8372, Validation Accuracy: 53.82%\n",
            "--------- Epoch 73 ----------\n",
            "Epoch [73/150], Step [32/64], Step Loss: 0.4325\n",
            "Epoch [73/150], Step [64/64], Step Loss: 0.3133\n",
            "Epoch [73/150], Training Loss: 0.5131, Training Accuracy: 87.84%\n",
            "Epoch [73/150], Validation Loss: 1.8192, Validation Accuracy: 53.92%\n",
            "--------- Epoch 74 ----------\n",
            "Epoch [74/150], Step [32/64], Step Loss: 0.5765\n",
            "Epoch [74/150], Step [64/64], Step Loss: 0.4815\n",
            "Epoch [74/150], Training Loss: 0.4809, Training Accuracy: 88.48%\n",
            "Epoch [74/150], Validation Loss: 1.8332, Validation Accuracy: 53.63%\n",
            "--------- Epoch 75 ----------\n",
            "Epoch [75/150], Step [32/64], Step Loss: 0.2352\n",
            "Epoch [75/150], Step [64/64], Step Loss: 0.3041\n",
            "Epoch [75/150], Training Loss: 0.5270, Training Accuracy: 88.43%\n",
            "Epoch [75/150], Validation Loss: 1.8258, Validation Accuracy: 54.02%\n",
            "--------- Epoch 76 ----------\n",
            "Epoch [76/150], Step [32/64], Step Loss: 0.5867\n",
            "Epoch [76/150], Step [64/64], Step Loss: 0.3429\n",
            "Epoch [76/150], Training Loss: 0.4986, Training Accuracy: 88.97%\n",
            "Epoch [76/150], Validation Loss: 1.8297, Validation Accuracy: 53.82%\n",
            "--------- Epoch 77 ----------\n",
            "Epoch [77/150], Step [32/64], Step Loss: 0.6172\n",
            "Epoch [77/150], Step [64/64], Step Loss: 0.2776\n",
            "Epoch [77/150], Training Loss: 0.5208, Training Accuracy: 87.45%\n",
            "Epoch [77/150], Validation Loss: 1.8405, Validation Accuracy: 53.92%\n",
            "--------- Epoch 78 ----------\n",
            "Epoch [78/150], Step [32/64], Step Loss: 0.3584\n",
            "Epoch [78/150], Step [64/64], Step Loss: 0.2094\n",
            "Epoch [78/150], Training Loss: 0.4997, Training Accuracy: 88.19%\n",
            "Epoch [78/150], Validation Loss: 1.8122, Validation Accuracy: 54.61%\n",
            "--------- Epoch 79 ----------\n",
            "Epoch [79/150], Step [32/64], Step Loss: 0.3637\n",
            "Epoch [79/150], Step [64/64], Step Loss: 0.8253\n",
            "Epoch [79/150], Training Loss: 0.5017, Training Accuracy: 89.02%\n",
            "Epoch [79/150], Validation Loss: 1.8389, Validation Accuracy: 53.53%\n",
            "--------- Epoch 80 ----------\n",
            "Epoch [80/150], Step [32/64], Step Loss: 0.5654\n",
            "Epoch [80/150], Step [64/64], Step Loss: 0.7997\n",
            "Epoch [80/150], Training Loss: 0.5452, Training Accuracy: 87.21%\n",
            "Epoch [80/150], Validation Loss: 1.8226, Validation Accuracy: 53.82%\n",
            "--------- Epoch 81 ----------\n",
            "Epoch [81/150], Step [32/64], Step Loss: 0.4715\n",
            "Epoch [81/150], Step [64/64], Step Loss: 0.1941\n",
            "Epoch [81/150], Training Loss: 0.4773, Training Accuracy: 89.22%\n",
            "Epoch [81/150], Validation Loss: 1.8211, Validation Accuracy: 53.92%\n",
            "--------- Epoch 82 ----------\n",
            "Epoch [82/150], Step [32/64], Step Loss: 0.4043\n",
            "Epoch [82/150], Step [64/64], Step Loss: 0.6070\n",
            "Epoch [82/150], Training Loss: 0.5008, Training Accuracy: 88.92%\n",
            "Epoch [82/150], Validation Loss: 1.8210, Validation Accuracy: 54.22%\n",
            "--------- Epoch 83 ----------\n",
            "Epoch [83/150], Step [32/64], Step Loss: 0.5298\n",
            "Epoch [83/150], Step [64/64], Step Loss: 0.3018\n",
            "Epoch [83/150], Training Loss: 0.5149, Training Accuracy: 88.33%\n",
            "Epoch [83/150], Validation Loss: 1.8321, Validation Accuracy: 53.53%\n",
            "--------- Epoch 84 ----------\n",
            "Epoch [84/150], Step [32/64], Step Loss: 0.6512\n",
            "Epoch [84/150], Step [64/64], Step Loss: 0.5554\n",
            "Epoch [84/150], Training Loss: 0.4843, Training Accuracy: 89.17%\n",
            "Epoch [84/150], Validation Loss: 1.8249, Validation Accuracy: 54.31%\n",
            "--------- Epoch 85 ----------\n",
            "Epoch [85/150], Step [32/64], Step Loss: 0.4492\n",
            "Epoch [85/150], Step [64/64], Step Loss: 0.3379\n",
            "Epoch [85/150], Training Loss: 0.5255, Training Accuracy: 87.89%\n",
            "Epoch [85/150], Validation Loss: 1.8196, Validation Accuracy: 54.02%\n",
            "--------- Epoch 86 ----------\n",
            "Epoch [86/150], Step [32/64], Step Loss: 0.1619\n",
            "Epoch [86/150], Step [64/64], Step Loss: 0.3131\n",
            "Epoch [86/150], Training Loss: 0.5095, Training Accuracy: 88.04%\n",
            "Epoch [86/150], Validation Loss: 1.8201, Validation Accuracy: 53.63%\n",
            "--------- Epoch 87 ----------\n",
            "Epoch [87/150], Step [32/64], Step Loss: 0.3034\n",
            "Epoch [87/150], Step [64/64], Step Loss: 0.3680\n",
            "Epoch [87/150], Training Loss: 0.4917, Training Accuracy: 87.84%\n",
            "Epoch [87/150], Validation Loss: 1.8226, Validation Accuracy: 53.63%\n",
            "--------- Epoch 88 ----------\n",
            "Epoch [88/150], Step [32/64], Step Loss: 0.7826\n",
            "Epoch [88/150], Step [64/64], Step Loss: 0.6082\n",
            "Epoch [88/150], Training Loss: 0.5189, Training Accuracy: 88.19%\n",
            "Epoch [88/150], Validation Loss: 1.8355, Validation Accuracy: 53.43%\n",
            "--------- Epoch 89 ----------\n",
            "Epoch [89/150], Step [32/64], Step Loss: 0.5585\n",
            "Epoch [89/150], Step [64/64], Step Loss: 0.3923\n",
            "Epoch [89/150], Training Loss: 0.4966, Training Accuracy: 88.63%\n",
            "Epoch [89/150], Validation Loss: 1.8314, Validation Accuracy: 53.82%\n",
            "Epoch 00089: reducing learning rate of group 0 to 1.0000e-07.\n",
            "--------- Epoch 90 ----------\n",
            "Epoch [90/150], Step [32/64], Step Loss: 0.6361\n",
            "Epoch [90/150], Step [64/64], Step Loss: 0.6586\n",
            "Epoch [90/150], Training Loss: 0.5237, Training Accuracy: 87.75%\n",
            "Epoch [90/150], Validation Loss: 1.8340, Validation Accuracy: 54.22%\n",
            "--------- Epoch 91 ----------\n",
            "Epoch [91/150], Step [32/64], Step Loss: 0.3627\n",
            "Epoch [91/150], Step [64/64], Step Loss: 0.4339\n",
            "Epoch [91/150], Training Loss: 0.4897, Training Accuracy: 88.77%\n",
            "Epoch [91/150], Validation Loss: 1.8272, Validation Accuracy: 53.92%\n",
            "--------- Epoch 92 ----------\n",
            "Epoch [92/150], Step [32/64], Step Loss: 0.3570\n",
            "Epoch [92/150], Step [64/64], Step Loss: 0.3960\n",
            "Epoch [92/150], Training Loss: 0.5514, Training Accuracy: 87.70%\n",
            "Epoch [92/150], Validation Loss: 1.8268, Validation Accuracy: 53.82%\n",
            "--------- Epoch 93 ----------\n",
            "Epoch [93/150], Step [32/64], Step Loss: 0.4731\n",
            "Epoch [93/150], Step [64/64], Step Loss: 0.6054\n",
            "Epoch [93/150], Training Loss: 0.5257, Training Accuracy: 87.99%\n",
            "Epoch [93/150], Validation Loss: 1.8409, Validation Accuracy: 54.61%\n",
            "--------- Epoch 94 ----------\n",
            "Epoch [94/150], Step [32/64], Step Loss: 0.6723\n",
            "Epoch [94/150], Step [64/64], Step Loss: 0.5156\n",
            "Epoch [94/150], Training Loss: 0.5132, Training Accuracy: 87.99%\n",
            "Epoch [94/150], Validation Loss: 1.8270, Validation Accuracy: 54.02%\n",
            "--------- Epoch 95 ----------\n",
            "Epoch [95/150], Step [32/64], Step Loss: 0.7035\n",
            "Epoch [95/150], Step [64/64], Step Loss: 0.4862\n",
            "Epoch [95/150], Training Loss: 0.5050, Training Accuracy: 88.73%\n",
            "Epoch [95/150], Validation Loss: 1.8327, Validation Accuracy: 53.82%\n",
            "--------- Epoch 96 ----------\n",
            "Epoch [96/150], Step [32/64], Step Loss: 0.5574\n",
            "Epoch [96/150], Step [64/64], Step Loss: 0.4151\n",
            "Epoch [96/150], Training Loss: 0.5189, Training Accuracy: 87.94%\n",
            "Epoch [96/150], Validation Loss: 1.8270, Validation Accuracy: 54.12%\n",
            "--------- Epoch 97 ----------\n",
            "Epoch [97/150], Step [32/64], Step Loss: 0.3857\n",
            "Epoch [97/150], Step [64/64], Step Loss: 0.8066\n",
            "Epoch [97/150], Training Loss: 0.5204, Training Accuracy: 88.24%\n",
            "Epoch [97/150], Validation Loss: 1.8234, Validation Accuracy: 53.43%\n",
            "--------- Epoch 98 ----------\n",
            "Epoch [98/150], Step [32/64], Step Loss: 0.3026\n",
            "Epoch [98/150], Step [64/64], Step Loss: 0.3143\n",
            "Epoch [98/150], Training Loss: 0.4879, Training Accuracy: 88.87%\n",
            "Epoch [98/150], Validation Loss: 1.8400, Validation Accuracy: 54.51%\n",
            "--------- Epoch 99 ----------\n",
            "Epoch [99/150], Step [32/64], Step Loss: 0.5021\n",
            "Epoch [99/150], Step [64/64], Step Loss: 1.0086\n",
            "Epoch [99/150], Training Loss: 0.5250, Training Accuracy: 87.50%\n",
            "Epoch [99/150], Validation Loss: 1.8379, Validation Accuracy: 54.61%\n",
            "--------- Epoch 100 ----------\n",
            "Epoch [100/150], Step [32/64], Step Loss: 0.4884\n",
            "Epoch [100/150], Step [64/64], Step Loss: 0.6216\n",
            "Epoch [100/150], Training Loss: 0.5120, Training Accuracy: 89.22%\n",
            "Epoch [100/150], Validation Loss: 1.8264, Validation Accuracy: 53.92%\n",
            "Epoch 00100: reducing learning rate of group 0 to 1.0000e-08.\n",
            "--------- Epoch 101 ----------\n",
            "Epoch [101/150], Step [32/64], Step Loss: 0.6425\n",
            "Epoch [101/150], Step [64/64], Step Loss: 0.8453\n",
            "Epoch [101/150], Training Loss: 0.5428, Training Accuracy: 88.09%\n",
            "Epoch [101/150], Validation Loss: 1.8325, Validation Accuracy: 53.73%\n",
            "--------- Epoch 102 ----------\n",
            "Epoch [102/150], Step [32/64], Step Loss: 0.3616\n",
            "Epoch [102/150], Step [64/64], Step Loss: 0.6983\n",
            "Epoch [102/150], Training Loss: 0.5293, Training Accuracy: 88.04%\n",
            "Epoch [102/150], Validation Loss: 1.8234, Validation Accuracy: 53.82%\n",
            "--------- Epoch 103 ----------\n",
            "Epoch [103/150], Step [32/64], Step Loss: 0.3853\n",
            "Epoch [103/150], Step [64/64], Step Loss: 0.6250\n",
            "Epoch [103/150], Training Loss: 0.4815, Training Accuracy: 88.58%\n",
            "Epoch [103/150], Validation Loss: 1.8277, Validation Accuracy: 54.12%\n",
            "--------- Epoch 104 ----------\n",
            "Epoch [104/150], Step [32/64], Step Loss: 0.8612\n",
            "Epoch [104/150], Step [64/64], Step Loss: 0.6916\n",
            "Epoch [104/150], Training Loss: 0.5127, Training Accuracy: 88.43%\n",
            "Epoch [104/150], Validation Loss: 1.8377, Validation Accuracy: 54.31%\n",
            "--------- Epoch 105 ----------\n",
            "Epoch [105/150], Step [32/64], Step Loss: 0.5619\n",
            "Epoch [105/150], Step [64/64], Step Loss: 0.5278\n",
            "Epoch [105/150], Training Loss: 0.4953, Training Accuracy: 87.75%\n",
            "Epoch [105/150], Validation Loss: 1.8201, Validation Accuracy: 53.33%\n",
            "--------- Epoch 106 ----------\n",
            "Epoch [106/150], Step [32/64], Step Loss: 0.3350\n",
            "Epoch [106/150], Step [64/64], Step Loss: 0.5263\n",
            "Epoch [106/150], Training Loss: 0.5052, Training Accuracy: 88.48%\n",
            "Epoch [106/150], Validation Loss: 1.8264, Validation Accuracy: 53.92%\n",
            "--------- Epoch 107 ----------\n",
            "Epoch [107/150], Step [32/64], Step Loss: 0.8937\n",
            "Epoch [107/150], Step [64/64], Step Loss: 0.7127\n",
            "Epoch [107/150], Training Loss: 0.5142, Training Accuracy: 88.14%\n",
            "Epoch [107/150], Validation Loss: 1.8325, Validation Accuracy: 54.22%\n",
            "--------- Epoch 108 ----------\n",
            "Epoch [108/150], Step [32/64], Step Loss: 0.2029\n",
            "Epoch [108/150], Step [64/64], Step Loss: 0.5024\n",
            "Epoch [108/150], Training Loss: 0.5057, Training Accuracy: 87.79%\n",
            "Epoch [108/150], Validation Loss: 1.8398, Validation Accuracy: 54.02%\n",
            "--------- Epoch 109 ----------\n",
            "Epoch [109/150], Step [32/64], Step Loss: 0.3919\n",
            "Epoch [109/150], Step [64/64], Step Loss: 0.2776\n",
            "Epoch [109/150], Training Loss: 0.4859, Training Accuracy: 88.38%\n",
            "Epoch [109/150], Validation Loss: 1.8167, Validation Accuracy: 54.31%\n",
            "--------- Epoch 110 ----------\n",
            "Epoch [110/150], Step [32/64], Step Loss: 0.6326\n",
            "Epoch [110/150], Step [64/64], Step Loss: 0.7515\n",
            "Epoch [110/150], Training Loss: 0.5243, Training Accuracy: 87.89%\n",
            "Epoch [110/150], Validation Loss: 1.8253, Validation Accuracy: 54.02%\n",
            "--------- Epoch 111 ----------\n",
            "Epoch [111/150], Step [32/64], Step Loss: 1.0316\n",
            "Epoch [111/150], Step [64/64], Step Loss: 0.2756\n",
            "Epoch [111/150], Training Loss: 0.5770, Training Accuracy: 86.57%\n",
            "Epoch [111/150], Validation Loss: 1.8209, Validation Accuracy: 54.12%\n",
            "--------- Epoch 112 ----------\n",
            "Epoch [112/150], Step [32/64], Step Loss: 0.8320\n",
            "Epoch [112/150], Step [64/64], Step Loss: 0.5479\n",
            "Epoch [112/150], Training Loss: 0.5452, Training Accuracy: 87.40%\n",
            "Epoch [112/150], Validation Loss: 1.8318, Validation Accuracy: 54.02%\n",
            "--------- Epoch 113 ----------\n",
            "Epoch [113/150], Step [32/64], Step Loss: 0.2884\n",
            "Epoch [113/150], Step [64/64], Step Loss: 0.3787\n",
            "Epoch [113/150], Training Loss: 0.5396, Training Accuracy: 87.45%\n",
            "Epoch [113/150], Validation Loss: 1.8356, Validation Accuracy: 54.31%\n",
            "--------- Epoch 114 ----------\n",
            "Epoch [114/150], Step [32/64], Step Loss: 0.4094\n",
            "Epoch [114/150], Step [64/64], Step Loss: 0.6936\n",
            "Epoch [114/150], Training Loss: 0.5295, Training Accuracy: 87.45%\n",
            "Epoch [114/150], Validation Loss: 1.8283, Validation Accuracy: 54.31%\n",
            "--------- Epoch 115 ----------\n",
            "Epoch [115/150], Step [32/64], Step Loss: 0.5239\n",
            "Epoch [115/150], Step [64/64], Step Loss: 0.5575\n",
            "Epoch [115/150], Training Loss: 0.5352, Training Accuracy: 87.60%\n",
            "Epoch [115/150], Validation Loss: 1.8327, Validation Accuracy: 54.22%\n",
            "--------- Epoch 116 ----------\n",
            "Epoch [116/150], Step [32/64], Step Loss: 0.5566\n",
            "Epoch [116/150], Step [64/64], Step Loss: 0.3987\n",
            "Epoch [116/150], Training Loss: 0.5194, Training Accuracy: 87.94%\n",
            "Epoch [116/150], Validation Loss: 1.8236, Validation Accuracy: 54.12%\n",
            "--------- Epoch 117 ----------\n",
            "Epoch [117/150], Step [32/64], Step Loss: 0.2948\n",
            "Epoch [117/150], Step [64/64], Step Loss: 0.3213\n",
            "Epoch [117/150], Training Loss: 0.5041, Training Accuracy: 88.82%\n",
            "Epoch [117/150], Validation Loss: 1.8230, Validation Accuracy: 53.73%\n",
            "--------- Epoch 118 ----------\n",
            "Epoch [118/150], Step [32/64], Step Loss: 0.7329\n",
            "Epoch [118/150], Step [64/64], Step Loss: 0.6287\n",
            "Epoch [118/150], Training Loss: 0.5016, Training Accuracy: 87.45%\n",
            "Epoch [118/150], Validation Loss: 1.8324, Validation Accuracy: 53.73%\n",
            "--------- Epoch 119 ----------\n",
            "Epoch [119/150], Step [32/64], Step Loss: 0.7159\n",
            "Epoch [119/150], Step [64/64], Step Loss: 0.3045\n",
            "Epoch [119/150], Training Loss: 0.5165, Training Accuracy: 88.68%\n",
            "Epoch [119/150], Validation Loss: 1.8271, Validation Accuracy: 53.73%\n",
            "--------- Epoch 120 ----------\n",
            "Epoch [120/150], Step [32/64], Step Loss: 0.3281\n",
            "Epoch [120/150], Step [64/64], Step Loss: 0.7592\n",
            "Epoch [120/150], Training Loss: 0.5461, Training Accuracy: 87.30%\n",
            "Epoch [120/150], Validation Loss: 1.8308, Validation Accuracy: 54.12%\n",
            "--------- Epoch 121 ----------\n",
            "Epoch [121/150], Step [32/64], Step Loss: 0.6025\n",
            "Epoch [121/150], Step [64/64], Step Loss: 0.6519\n",
            "Epoch [121/150], Training Loss: 0.5200, Training Accuracy: 87.70%\n",
            "Epoch [121/150], Validation Loss: 1.8164, Validation Accuracy: 54.22%\n",
            "--------- Epoch 122 ----------\n",
            "Epoch [122/150], Step [32/64], Step Loss: 0.2324\n",
            "Epoch [122/150], Step [64/64], Step Loss: 0.1133\n",
            "Epoch [122/150], Training Loss: 0.5616, Training Accuracy: 87.25%\n",
            "Epoch [122/150], Validation Loss: 1.8231, Validation Accuracy: 53.82%\n",
            "--------- Epoch 123 ----------\n",
            "Epoch [123/150], Step [32/64], Step Loss: 0.5147\n",
            "Epoch [123/150], Step [64/64], Step Loss: 0.5336\n",
            "Epoch [123/150], Training Loss: 0.5350, Training Accuracy: 87.25%\n",
            "Epoch [123/150], Validation Loss: 1.8297, Validation Accuracy: 53.63%\n",
            "--------- Epoch 124 ----------\n",
            "Epoch [124/150], Step [32/64], Step Loss: 0.5826\n",
            "Epoch [124/150], Step [64/64], Step Loss: 0.7236\n",
            "Epoch [124/150], Training Loss: 0.5479, Training Accuracy: 87.35%\n",
            "Epoch [124/150], Validation Loss: 1.8273, Validation Accuracy: 54.31%\n",
            "--------- Epoch 125 ----------\n",
            "Epoch [125/150], Step [32/64], Step Loss: 0.5842\n",
            "Epoch [125/150], Step [64/64], Step Loss: 0.6291\n",
            "Epoch [125/150], Training Loss: 0.5289, Training Accuracy: 87.45%\n",
            "Epoch [125/150], Validation Loss: 1.8372, Validation Accuracy: 54.41%\n",
            "--------- Epoch 126 ----------\n",
            "Epoch [126/150], Step [32/64], Step Loss: 0.5082\n",
            "Epoch [126/150], Step [64/64], Step Loss: 0.8992\n",
            "Epoch [126/150], Training Loss: 0.4987, Training Accuracy: 88.43%\n",
            "Epoch [126/150], Validation Loss: 1.8316, Validation Accuracy: 53.92%\n",
            "--------- Epoch 127 ----------\n",
            "Epoch [127/150], Step [32/64], Step Loss: 0.5725\n",
            "Epoch [127/150], Step [64/64], Step Loss: 0.5736\n",
            "Epoch [127/150], Training Loss: 0.5267, Training Accuracy: 87.40%\n",
            "Epoch [127/150], Validation Loss: 1.8232, Validation Accuracy: 54.22%\n",
            "--------- Epoch 128 ----------\n",
            "Epoch [128/150], Step [32/64], Step Loss: 0.4433\n",
            "Epoch [128/150], Step [64/64], Step Loss: 0.3142\n",
            "Epoch [128/150], Training Loss: 0.5072, Training Accuracy: 88.58%\n",
            "Epoch [128/150], Validation Loss: 1.8307, Validation Accuracy: 54.02%\n",
            "--------- Epoch 129 ----------\n",
            "Epoch [129/150], Step [32/64], Step Loss: 0.5215\n",
            "Epoch [129/150], Step [64/64], Step Loss: 0.4622\n",
            "Epoch [129/150], Training Loss: 0.5313, Training Accuracy: 87.60%\n",
            "Epoch [129/150], Validation Loss: 1.8267, Validation Accuracy: 54.12%\n",
            "--------- Epoch 130 ----------\n",
            "Epoch [130/150], Step [32/64], Step Loss: 0.5754\n",
            "Epoch [130/150], Step [64/64], Step Loss: 0.4510\n",
            "Epoch [130/150], Training Loss: 0.5354, Training Accuracy: 87.84%\n",
            "Epoch [130/150], Validation Loss: 1.8380, Validation Accuracy: 53.53%\n",
            "--------- Epoch 131 ----------\n",
            "Epoch [131/150], Step [32/64], Step Loss: 0.5551\n",
            "Epoch [131/150], Step [64/64], Step Loss: 0.2406\n",
            "Epoch [131/150], Training Loss: 0.5292, Training Accuracy: 88.68%\n",
            "Epoch [131/150], Validation Loss: 1.8171, Validation Accuracy: 53.82%\n",
            "--------- Epoch 132 ----------\n",
            "Epoch [132/150], Step [32/64], Step Loss: 0.6146\n",
            "Epoch [132/150], Step [64/64], Step Loss: 0.5691\n",
            "Epoch [132/150], Training Loss: 0.5363, Training Accuracy: 87.65%\n",
            "Epoch [132/150], Validation Loss: 1.8281, Validation Accuracy: 54.22%\n",
            "--------- Epoch 133 ----------\n",
            "Epoch [133/150], Step [32/64], Step Loss: 0.5920\n",
            "Epoch [133/150], Step [64/64], Step Loss: 0.4401\n",
            "Epoch [133/150], Training Loss: 0.5158, Training Accuracy: 87.99%\n",
            "Epoch [133/150], Validation Loss: 1.8239, Validation Accuracy: 54.41%\n",
            "--------- Epoch 134 ----------\n",
            "Epoch [134/150], Step [32/64], Step Loss: 0.6532\n",
            "Epoch [134/150], Step [64/64], Step Loss: 0.3634\n",
            "Epoch [134/150], Training Loss: 0.5206, Training Accuracy: 88.38%\n",
            "Epoch [134/150], Validation Loss: 1.8184, Validation Accuracy: 54.31%\n",
            "--------- Epoch 135 ----------\n",
            "Epoch [135/150], Step [32/64], Step Loss: 0.3545\n",
            "Epoch [135/150], Step [64/64], Step Loss: 0.6714\n",
            "Epoch [135/150], Training Loss: 0.5149, Training Accuracy: 88.58%\n",
            "Epoch [135/150], Validation Loss: 1.8311, Validation Accuracy: 54.31%\n",
            "--------- Epoch 136 ----------\n",
            "Epoch [136/150], Step [32/64], Step Loss: 0.4185\n",
            "Epoch [136/150], Step [64/64], Step Loss: 0.5868\n",
            "Epoch [136/150], Training Loss: 0.5211, Training Accuracy: 87.84%\n",
            "Epoch [136/150], Validation Loss: 1.8291, Validation Accuracy: 54.22%\n",
            "--------- Epoch 137 ----------\n",
            "Epoch [137/150], Step [32/64], Step Loss: 0.4100\n",
            "Epoch [137/150], Step [64/64], Step Loss: 0.8825\n",
            "Epoch [137/150], Training Loss: 0.5132, Training Accuracy: 87.84%\n",
            "Epoch [137/150], Validation Loss: 1.8274, Validation Accuracy: 53.43%\n",
            "--------- Epoch 138 ----------\n",
            "Epoch [138/150], Step [32/64], Step Loss: 0.4489\n",
            "Epoch [138/150], Step [64/64], Step Loss: 0.4997\n",
            "Epoch [138/150], Training Loss: 0.5198, Training Accuracy: 87.94%\n",
            "Epoch [138/150], Validation Loss: 1.8305, Validation Accuracy: 53.82%\n",
            "--------- Epoch 139 ----------\n",
            "Epoch [139/150], Step [32/64], Step Loss: 0.4324\n",
            "Epoch [139/150], Step [64/64], Step Loss: 0.4672\n",
            "Epoch [139/150], Training Loss: 0.4823, Training Accuracy: 89.02%\n",
            "Epoch [139/150], Validation Loss: 1.8187, Validation Accuracy: 54.22%\n",
            "--------- Epoch 140 ----------\n",
            "Epoch [140/150], Step [32/64], Step Loss: 0.6585\n",
            "Epoch [140/150], Step [64/64], Step Loss: 0.5148\n",
            "Epoch [140/150], Training Loss: 0.4990, Training Accuracy: 88.33%\n",
            "Epoch [140/150], Validation Loss: 1.8176, Validation Accuracy: 54.51%\n",
            "--------- Epoch 141 ----------\n",
            "Epoch [141/150], Step [32/64], Step Loss: 0.3548\n",
            "Epoch [141/150], Step [64/64], Step Loss: 0.5960\n",
            "Epoch [141/150], Training Loss: 0.4715, Training Accuracy: 89.90%\n",
            "Epoch [141/150], Validation Loss: 1.8251, Validation Accuracy: 54.12%\n",
            "--------- Epoch 142 ----------\n",
            "Epoch [142/150], Step [32/64], Step Loss: 0.5472\n",
            "Epoch [142/150], Step [64/64], Step Loss: 0.2978\n",
            "Epoch [142/150], Training Loss: 0.5121, Training Accuracy: 88.63%\n",
            "Epoch [142/150], Validation Loss: 1.8261, Validation Accuracy: 54.61%\n",
            "--------- Epoch 143 ----------\n",
            "Epoch [143/150], Step [32/64], Step Loss: 0.5296\n",
            "Epoch [143/150], Step [64/64], Step Loss: 0.4914\n",
            "Epoch [143/150], Training Loss: 0.4714, Training Accuracy: 89.26%\n",
            "Epoch [143/150], Validation Loss: 1.8362, Validation Accuracy: 54.12%\n",
            "--------- Epoch 144 ----------\n",
            "Epoch [144/150], Step [32/64], Step Loss: 0.2478\n",
            "Epoch [144/150], Step [64/64], Step Loss: 0.3736\n",
            "Epoch [144/150], Training Loss: 0.4978, Training Accuracy: 88.73%\n",
            "Epoch [144/150], Validation Loss: 1.8199, Validation Accuracy: 53.53%\n",
            "--------- Epoch 145 ----------\n",
            "Epoch [145/150], Step [32/64], Step Loss: 0.3287\n",
            "Epoch [145/150], Step [64/64], Step Loss: 0.3220\n",
            "Epoch [145/150], Training Loss: 0.4714, Training Accuracy: 89.36%\n",
            "Epoch [145/150], Validation Loss: 1.8310, Validation Accuracy: 54.22%\n",
            "--------- Epoch 146 ----------\n",
            "Epoch [146/150], Step [32/64], Step Loss: 0.5872\n",
            "Epoch [146/150], Step [64/64], Step Loss: 0.4414\n",
            "Epoch [146/150], Training Loss: 0.5079, Training Accuracy: 88.19%\n",
            "Epoch [146/150], Validation Loss: 1.8362, Validation Accuracy: 54.12%\n",
            "--------- Epoch 147 ----------\n",
            "Epoch [147/150], Step [32/64], Step Loss: 0.4500\n",
            "Epoch [147/150], Step [64/64], Step Loss: 0.8576\n",
            "Epoch [147/150], Training Loss: 0.5262, Training Accuracy: 87.84%\n",
            "Epoch [147/150], Validation Loss: 1.8317, Validation Accuracy: 54.02%\n",
            "--------- Epoch 148 ----------\n",
            "Epoch [148/150], Step [32/64], Step Loss: 0.3088\n",
            "Epoch [148/150], Step [64/64], Step Loss: 0.2866\n",
            "Epoch [148/150], Training Loss: 0.4923, Training Accuracy: 89.46%\n",
            "Epoch [148/150], Validation Loss: 1.8285, Validation Accuracy: 54.22%\n",
            "--------- Epoch 149 ----------\n",
            "Epoch [149/150], Step [32/64], Step Loss: 0.5500\n",
            "Epoch [149/150], Step [64/64], Step Loss: 0.4930\n",
            "Epoch [149/150], Training Loss: 0.5227, Training Accuracy: 88.09%\n",
            "Epoch [149/150], Validation Loss: 1.8246, Validation Accuracy: 54.22%\n",
            "--------- Epoch 150 ----------\n",
            "Epoch [150/150], Step [32/64], Step Loss: 0.4991\n",
            "Epoch [150/150], Step [64/64], Step Loss: 0.5048\n",
            "Epoch [150/150], Training Loss: 0.5083, Training Accuracy: 88.77%\n",
            "Epoch [150/150], Validation Loss: 1.8216, Validation Accuracy: 53.92%\n",
            "Training complete in: 01h 24m 46s\n"
          ]
        },
        {
          "output_type": "display_data",
          "data": {
            "text/plain": [
              "<IPython.core.display.HTML object>"
            ],
            "text/html": [
              "Waiting for W&B process to finish... <strong style=\"color:green\">(success).</strong>"
            ]
          },
          "metadata": {}
        },
        {
          "output_type": "display_data",
          "data": {
            "text/plain": [
              "VBox(children=(Label(value='0.001 MB of 0.001 MB uploaded (0.000 MB deduped)\\r'), FloatProgress(value=1.0, max…"
            ],
            "application/vnd.jupyter.widget-view+json": {
              "version_major": 2,
              "version_minor": 0,
              "model_id": "3ebc57349e5049e7bb70ab7709d3b759"
            }
          },
          "metadata": {}
        },
        {
          "output_type": "display_data",
          "data": {
            "text/plain": [
              "<IPython.core.display.HTML object>"
            ],
            "text/html": [
              "<style>\n",
              "    table.wandb td:nth-child(1) { padding: 0 10px; text-align: left ; width: auto;} td:nth-child(2) {text-align: left ; width: 100%}\n",
              "    .wandb-row { display: flex; flex-direction: row; flex-wrap: wrap; justify-content: flex-start; width: 100% }\n",
              "    .wandb-col { display: flex; flex-direction: column; flex-basis: 100%; flex: 1; padding: 10px; }\n",
              "    </style>\n",
              "<div class=\"wandb-row\"><div class=\"wandb-col\"><h3>Run history:</h3><br/><table class=\"wandb\"><tr><td>train_acc</td><td>▁▂▃▄▅▆▆▇▇▇▇█████████████████████████████</td></tr><tr><td>train_loss</td><td>█▇▅▄▃▃▃▂▂▂▂▁▁▁▁▁▁▁▁▁▁▁▁▁▁▁▁▁▁▁▁▁▁▁▁▁▁▁▁▁</td></tr><tr><td>val_acc</td><td>▁▂▄▃▅▄▅▅▅▅▆█▇███████████████████████████</td></tr><tr><td>val_loss</td><td>█▇▅▆▄▆▅▅▅▅▄▂▂▁▁▁▁▁▁▁▁▁▁▁▁▁▁▁▁▁▁▁▁▁▁▁▁▁▁▁</td></tr></table><br/></div><div class=\"wandb-col\"><h3>Run summary:</h3><br/><table class=\"wandb\"><tr><td>train_acc</td><td>88.77451</td></tr><tr><td>train_loss</td><td>0.50827</td></tr><tr><td>val_acc</td><td>53.92157</td></tr><tr><td>val_loss</td><td>1.82165</td></tr></table><br/></div></div>"
            ]
          },
          "metadata": {}
        },
        {
          "output_type": "display_data",
          "data": {
            "text/plain": [
              "<IPython.core.display.HTML object>"
            ],
            "text/html": [
              " View run <strong style=\"color:#cdcd00\">0.0001</strong> at: <a href='https://wandb.ai/faran-team/final-tests/runs/p8b8480m' target=\"_blank\">https://wandb.ai/faran-team/final-tests/runs/p8b8480m</a><br/>Synced 5 W&B file(s), 0 media file(s), 0 artifact file(s) and 0 other file(s)"
            ]
          },
          "metadata": {}
        },
        {
          "output_type": "display_data",
          "data": {
            "text/plain": [
              "<IPython.core.display.HTML object>"
            ],
            "text/html": [
              "Find logs at: <code>./wandb/run-20230509_173047-p8b8480m/logs</code>"
            ]
          },
          "metadata": {}
        }
      ],
      "source": [
        "# Timer setup\n",
        "print(f\"Starting training with learning rate {LEARNING_RATE:.7f}\")\n",
        "start_time = time.time()\n",
        "\n",
        "best_acc = 0\n",
        "best_epoch = -1\n",
        "\n",
        "# Train the CNN\n",
        "for epoch in range(EPOCHS):\n",
        "    print(f'--------- Epoch {epoch + 1} ----------')\n",
        "    cnn.train()\n",
        "    train_loss = 0\n",
        "    train_correct = 0\n",
        "    train_total = 0\n",
        "    for i, (images, labels) in enumerate(train_loader):\n",
        "        labels = torch.eye(102)[labels]  # one hot encode\n",
        "        images = images.to(device)\n",
        "        labels = labels.to(device)\n",
        "\n",
        "        outputs = cnn(images)  # train\n",
        "        labels = torch.argmax(labels, dim=1)  # one hot decode\n",
        "\n",
        "        loss = criterion(outputs, labels)\n",
        "\n",
        "        optimizer.zero_grad()\n",
        "        loss.backward()\n",
        "        optimizer.step()\n",
        "\n",
        "        train_loss += loss.item() * images.size(0)\n",
        "        _, predicted = torch.max(outputs.data, 1)\n",
        "        train_total += labels.size(0)\n",
        "        train_correct += (predicted == labels).sum().item()\n",
        "\n",
        "        if (i + 1) % 32 == 0:\n",
        "            print(f\"Epoch [{epoch + 1}/{EPOCHS}], Step [{i + 1}/{len(train_loader)}], Step Loss: {loss.item():.4f}\")\n",
        "\n",
        "    train_loss /= len(train_loader.dataset)\n",
        "    train_accuracy = 100 * train_correct / train_total\n",
        "    print(f'Epoch [{epoch + 1}/{EPOCHS}], Training Loss: {train_loss:.4f}, Training Accuracy: {train_accuracy:.2f}%')\n",
        "\n",
        "    # Evaluate model after each training epoch\n",
        "    cnn.eval()\n",
        "    val_loss = 0\n",
        "    correct = 0\n",
        "    total = 0\n",
        "    with torch.no_grad():\n",
        "        for images, labels in val_loader:\n",
        "            images = images.to(device)\n",
        "            labels = labels.to(device)\n",
        "\n",
        "            outputs = cnn(images)\n",
        "            loss = criterion(outputs, labels)\n",
        "            val_loss += loss.item() * images.size(0)\n",
        "            _, predicted = torch.max(outputs.data, 1)\n",
        "            total += labels.size(0)\n",
        "            correct += (predicted == labels).sum().item()\n",
        "\n",
        "    val_loss /= len(val_loader.dataset)\n",
        "    val_accuracy = 100 * correct / total\n",
        "    print(f'Epoch [{epoch + 1}/{EPOCHS}], Validation Loss: {val_loss:.4f}, Validation Accuracy: {val_accuracy:.2f}%')\n",
        "\n",
        "\n",
        "    # wandb stuff, REMOVE\n",
        "    wandb.log({\"train_acc\": train_accuracy, \"train_loss\": train_loss, \"val_acc\": val_accuracy, \"val_loss\": val_loss})\n",
        "\n",
        "    # save plot data\n",
        "    val_accuracies.append(val_accuracy)\n",
        "    val_losses.append(val_loss)\n",
        "    train_accuracies.append(train_accuracy)\n",
        "    train_losses.append(train_loss)\n",
        "\n",
        "    # Update the learning rate scheduler\n",
        "    scheduler.step(val_loss)\n",
        "\n",
        "    if val_accuracy > best_acc:\n",
        "      best_acc = val_accuracy\n",
        "      torch.save(cnn.state_dict(), 'best-model-parameters.pt')\n",
        "      best_epoch = epoch + 1\n",
        "      print(\"  **Better model found. Updated best model.\")\n",
        "\n",
        "# End time\n",
        "end_time = time.time()\n",
        "print(\"Training complete in: \" + time.strftime(\"%Hh %Mm %Ss\", time.gmtime(end_time - start_time)))\n",
        "wandb.finish()"
      ]
    },
    {
      "cell_type": "markdown",
      "source": [
        "## Test model."
      ],
      "metadata": {
        "collapsed": false,
        "pycharm": {
          "name": "#%% md\n"
        },
        "id": "i3pOHSKXJp0T"
      }
    },
    {
      "cell_type": "code",
      "execution_count": 12,
      "outputs": [
        {
          "output_type": "stream",
          "name": "stdout",
          "text": [
            "---------- Best Model Testing ----------\n",
            "  Epoch: 70\n",
            "  Validation accuracy: 54.80%\n"
          ]
        }
      ],
      "source": [
        "# Test the best model on the test set\n",
        "best_model = torch.load(\"best-model-parameters.pt\")\n",
        "cnn.load_state_dict(best_model)\n",
        "print(\"---------- Best Model Testing ----------\")\n",
        "print(f'  Epoch: {best_epoch}')\n",
        "print(f'  Validation accuracy: {best_acc:.2f}%')"
      ],
      "metadata": {
        "pycharm": {
          "name": "#%%\n",
          "is_executing": true
        },
        "colab": {
          "base_uri": "https://localhost:8080/"
        },
        "id": "_d_NGRt-Jp0U",
        "outputId": "d1d64eae-aac6-41cc-d8c8-31b756011223"
      }
    },
    {
      "cell_type": "code",
      "execution_count": 13,
      "outputs": [
        {
          "output_type": "stream",
          "name": "stdout",
          "text": [
            "Test Accuracy: 49.78%\n"
          ]
        }
      ],
      "source": [
        "# Test the CNN on the test set\n",
        "cnn.eval()\n",
        "correct = 0\n",
        "total = 0\n",
        "with torch.no_grad():\n",
        "    for images, labels in test_loader:\n",
        "        images = images.to(device)\n",
        "        labels = labels.to(device)\n",
        "\n",
        "        outputs = cnn(images)\n",
        "        _, predicted = torch.max(outputs.data, 1)\n",
        "        total += labels.size(0)\n",
        "        correct += (predicted == labels).sum().item()\n",
        "\n",
        "test_accuracy = 100 * correct / total\n",
        "print(f'Test Accuracy: {test_accuracy:.2f}%')"
      ],
      "metadata": {
        "pycharm": {
          "name": "#%%\n",
          "is_executing": true
        },
        "colab": {
          "base_uri": "https://localhost:8080/"
        },
        "id": "pVaYKS7GJp0V",
        "outputId": "38ac131d-9571-40ce-9bcd-23553f4aaa38"
      }
    },
    {
      "cell_type": "markdown",
      "source": [
        "## Plot training data"
      ],
      "metadata": {
        "collapsed": false,
        "pycharm": {
          "name": "#%% md\n"
        },
        "id": "sFTuTLYZJp0V"
      }
    },
    {
      "cell_type": "code",
      "execution_count": 14,
      "outputs": [
        {
          "output_type": "display_data",
          "data": {
            "text/plain": [
              "<Figure size 640x480 with 2 Axes>"
            ],
            "image/png": "[encoded data removed]"
          },
          "metadata": {}
        }
      ],
      "source": [
        "# Plot\n",
        "fig, (ax_a, ax_l) = plt.subplots(2, sharex=True)\n",
        "\n",
        "ax_a.set_xlabel(\"Epoch\")\n",
        "ax_a.set_ylabel(\"Accuracy %\")\n",
        "ax_a.plot(val_accuracies, marker=\".\", c=\"forestgreen\")\n",
        "ax_a.plot(train_accuracies, marker=\".\", c=\"royalblue\")\n",
        "\n",
        "ax_l.set_xlabel(\"Epoch\")\n",
        "ax_l.set_ylabel(\"Loss\")\n",
        "ax_l.plot(val_losses, marker=\".\", c=\"forestgreen\")\n",
        "ax_l.plot(train_losses, marker=\".\", c=\"royalblue\")\n",
        "\n",
        "fig.legend(title=\"Data Type\", labels=[\"Training\", \"Validation\"], fontsize=\"small\", loc=3, bbox_to_anchor=(0.925, 0.425))\n",
        "fig.align_labels()\n",
        "plt.show()"
      ],
      "metadata": {
        "pycharm": {
          "name": "#%%\n",
          "is_executing": true
        },
        "colab": {
          "base_uri": "https://localhost:8080/",
          "height": 449
        },
        "id": "ZwA6bbIkJp0W",
        "outputId": "171b3ace-f3da-4b71-bc80-1b804fef1124"
      }
    }
  ]
}