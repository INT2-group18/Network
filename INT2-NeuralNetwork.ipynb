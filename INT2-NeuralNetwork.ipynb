{
 "cells": [
  {
   "cell_type": "code",
   "execution_count": 20,
   "metadata": {
    "executionInfo": {
     "elapsed": 490,
     "status": "ok",
     "timestamp": 1682812403121,
     "user": {
      "displayName": "Faran Lane",
      "userId": "14277689357306891726"
     },
     "user_tz": -60
    },
    "id": "lj0C9_xsyNeN",
    "pycharm": {
     "name": "#%%\n"
    }
   },
   "outputs": [],
   "source": [
    "# Notes\n",
    "# Batch size 32-128\n",
    "# lr <= 0.0001 for relu\n",
    "# if we want more data so training > test, can use data augmentation\n",
    "# experimented with some dropout layers to prevent overfitting, low probability on conv layers, 0.4+ on fc layers\n",
    "# relu, CrossEntropy and Adam seem to make most sense"
   ],
   "id": "lj0C9_xsyNeN"
  },
  {
   "cell_type": "code",
   "execution_count": 21,
   "metadata": {
    "colab": {
     "base_uri": "https://localhost:8080/"
    },
    "executionInfo": {
     "elapsed": 46473,
     "status": "ok",
     "timestamp": 1682812450886,
     "user": {
      "displayName": "Faran Lane",
      "userId": "14277689357306891726"
     },
     "user_tz": -60
    },
    "id": "EusKGDDAyNeR",
    "outputId": "0796883d-22e0-4578-a96f-facc60d7d9cf",
    "pycharm": {
     "name": "#%%\n"
    }
   },
   "outputs": [
    {
     "name": "stdout",
     "output_type": "stream",
     "text": [
      "Using NVIDIA GeForce RTX 3070 Laptop GPU\n",
      "32\n"
     ]
    }
   ],
   "source": [
    "import random\n",
    "\n",
    "import torch, time, gc\n",
    "import torch.nn as nn\n",
    "import torch.optim as optim\n",
    "import torchvision.datasets as datasets\n",
    "import torchvision.transforms as transforms\n",
    "from torch.utils.data import DataLoader, Subset\n",
    "import matplotlib.pyplot as plt\n",
    "import matplotlib.gridspec as grid\n",
    "\n",
    "# Setup device\n",
    "device = torch.device(\"cuda\" if torch.cuda.is_available() else \"cpu\")\n",
    "print(f'Using {torch.cuda.get_device_name(0)}')\n",
    "SAVE_PATH = \"./saves/neural_net.pth\"\n",
    "\n",
    "# Training variables\n",
    "BATCH_SIZE = 32\n",
    "EPOCHS = 60\n",
    "LEARNING_RATE = 0.0005\n",
    "WEIGHT_DECAY = 0.0005\n",
    "\n",
    "# Define the transforms for the dataset\n",
    "transform = transforms.Compose([\n",
    "    transforms.Resize(256, antialias=True),\n",
    "    transforms.CenterCrop(224),\n",
    "    transforms.ToTensor(),\n",
    "    transforms.Normalize(mean=[0.485, 0.456, 0.406], std=[0.229, 0.224, 0.225]),\n",
    "])\n",
    "augment_transform = transforms.Compose([\n",
    "    transforms.Resize(256, antialias=True),\n",
    "    transforms.CenterCrop(224),\n",
    "    transforms.ToTensor(),\n",
    "    transforms.Normalize(mean=[0.485, 0.456, 0.406], std=[0.229, 0.224, 0.225]),\n",
    "    transforms.RandomApply(\n",
    "        [transforms.RandomApply([transforms.RandomAffine(degrees=359, translate=(0.2, 0.2), shear=(20, 20, 20, 20)),\n",
    "                                 transforms.RandomHorizontalFlip(1), transforms.RandomVerticalFlip(1)], p=0.7),\n",
    "         transforms.ColorJitter(brightness=(0.75, 1.25), contrast=(0.75, 1.25), hue=(-0.15, 0.15),\n",
    "                                saturation=(0.75, 1.25))\n",
    "         ]\n",
    "    )\n",
    "])\n",
    "\n",
    "val_accuracies, val_losses, train_accuracies, train_losses = [], [], [], []\n",
    "\n",
    "# Load the train dataset\n",
    "train_dataset = datasets.Flowers102(root=\"./data\", split=\"train\", transform=transform, download=True)\n",
    "train_miniset = Subset(train_dataset, list(random.randint(0, len(train_dataset)) for i in range(32)))\n",
    "print(len(train_miniset))\n",
    "all_train_data = [train_dataset]\n",
    "\n",
    "# Since augment transform has probability/random changes, we can use it multiple times to generate more training data\n",
    "# for i in range(5):\n",
    "#     all_train_data.append(\n",
    "#         datasets.Flowers102(root=\"./data\", split=\"train\", transform=augment_transform, download=False))\n",
    "train_dataset_extra = torch.utils.data.ConcatDataset(all_train_data)\n",
    "\n",
    "train_loader = DataLoader(train_miniset, batch_size=BATCH_SIZE, shuffle=True, num_workers=2)\n",
    "\n",
    "# Load validation dataset\n",
    "val_dataset = datasets.Flowers102(root=\"./data\", split=\"val\", transform=transform, download=True)\n",
    "val_loader = DataLoader(val_dataset, batch_size=BATCH_SIZE, shuffle=False, num_workers=2)\n",
    "\n",
    "test_dataset = datasets.Flowers102(root=\"./data\", split=\"test\", transform=transform, download=True)\n",
    "test_loader = DataLoader(test_dataset, batch_size=BATCH_SIZE, shuffle=False, num_workers=2)\n",
    "\n",
    "\n",
    "# Define the CNN architecture\n",
    "class CNN(nn.Module):\n",
    "    def __init__(self):\n",
    "        super(CNN, self).__init__()\n",
    "        self.conv1 = nn.Sequential(nn.Conv2d(3, 64, kernel_size=3, stride=1, padding=1),\n",
    "                                   nn.BatchNorm2d(64),\n",
    "                                   nn.ReLU(),\n",
    "                                   nn.MaxPool2d(2, 2))  # 224 -> 112\n",
    "        self.conv2 = nn.Sequential(nn.Conv2d(64, 128, kernel_size=3, stride=1, padding=1),\n",
    "                                   nn.BatchNorm2d(128),\n",
    "                                   nn.ReLU())\n",
    "        self.conv3 = nn.Sequential(nn.Conv2d(128, 128, kernel_size=3, stride=1, padding=1),\n",
    "                                   nn.BatchNorm2d(128),\n",
    "                                   nn.ReLU())\n",
    "        self.conv4 = nn.Sequential(nn.Conv2d(128, 128, kernel_size=3, stride=1, padding=1),\n",
    "                                   nn.BatchNorm2d(128),\n",
    "                                   nn.ReLU(),\n",
    "                                   nn.MaxPool2d(2, 2))  # 112 -> 56\n",
    "        self.conv5 = nn.Sequential(nn.Conv2d(128, 256, kernel_size=3, stride=1, padding=1),\n",
    "                                   nn.BatchNorm2d(256),\n",
    "                                   nn.ReLU())\n",
    "        self.conv6 = nn.Sequential(nn.Conv2d(256, 256, kernel_size=3, stride=1, padding=1),\n",
    "                                   nn.BatchNorm2d(256),\n",
    "                                   nn.ReLU())\n",
    "        self.conv7 = nn.Sequential(nn.Conv2d(256, 256, kernel_size=3, stride=1, padding=1),\n",
    "                                   nn.BatchNorm2d(256),\n",
    "                                   nn.ReLU(),\n",
    "                                   nn.MaxPool2d(2, 2))  # 56 -> 28\n",
    "        # self.conv8 = nn.Sequential(nn.Conv2d(256, 512, kernel_size=3, stride=1, padding=1),\n",
    "        #                            nn.BatchNorm2d(512),\n",
    "        #                            nn.ReLU())\n",
    "        # self.conv9 = nn.Sequential(nn.Conv2d(512, 512, kernel_size=3, stride=1, padding=1),\n",
    "        #                            nn.BatchNorm2d(512),\n",
    "        #                            nn.ReLU())\n",
    "        # self.conv10 = nn.Sequential(nn.Conv2d(512, 512, kernel_size=3, stride=1, padding=1),\n",
    "        #                             nn.BatchNorm2d(512),\n",
    "        #                             nn.ReLU(),\n",
    "        #                             nn.MaxPool2d(2, 2),  # 14 -> 28\n",
    "        #                             nn.Dropout(p=0.2))\n",
    "        # self.conv11 = nn.Sequential(nn.Conv2d(512, 1024, kernel_size=3, stride=1, padding=1),\n",
    "        #                             nn.BatchNorm2d(1024),\n",
    "        #                             nn.ReLU())\n",
    "        # self.conv12 = nn.Sequential(nn.Conv2d(1024, 1024, kernel_size=3, stride=1, padding=1),\n",
    "        #                             nn.BatchNorm2d(1024),\n",
    "        #                             nn.ReLU())\n",
    "        # self.conv13 = nn.Sequential(nn.Conv2d(1024, 1024, kernel_size=3, stride=1, padding=1),\n",
    "        #                             nn.BatchNorm2d(1024),\n",
    "        #                             nn.ReLU())\n",
    "        # self.conv14 = nn.Sequential(nn.Conv2d(1024, 1024, kernel_size=3, stride=1, padding=1),\n",
    "        #                             nn.BatchNorm2d(1024),\n",
    "        #                             nn.ReLU(),\n",
    "        #                             nn.MaxPool2d(2, 2),  # 7 -> 14\n",
    "        #                             nn.Dropout(p=0.2))\n",
    "        self.fc1 = nn.Sequential(nn.Linear(28 * 28 * 256, 4096),\n",
    "                                 nn.ReLU())\n",
    "                                 # nn.Dropout(0.65))\n",
    "        self.fc2 = nn.Sequential(nn.Linear(4096, 4096),\n",
    "                                 nn.ReLU())\n",
    "                                 # nn.Dropout(0.75))\n",
    "        self.fc3 = nn.Sequential(nn.Linear(4096, 102))\n",
    "        # Final output_features size must be 102 as there are 102 labels in the dataset\n",
    "        # Pool dimensions: out=(in-kernel)/stride + 1\n",
    "\n",
    "    def forward(self, x):\n",
    "        x = self.conv1(x)\n",
    "        x = self.conv2(x)\n",
    "        x = self.conv3(x)\n",
    "        x = self.conv4(x)\n",
    "        x = self.conv5(x)\n",
    "        x = self.conv6(x)\n",
    "        x = self.conv7(x)\n",
    "        # x = self.conv6(x)\n",
    "        # x = self.conv6(x)\n",
    "        # x = self.conv7(x)\n",
    "        # x = self.conv6(x)\n",
    "        # x = self.conv6(x)\n",
    "        # x = self.conv7(x)\n",
    "        # x = self.conv8(x)\n",
    "        # x = self.conv9(x)\n",
    "        # x = self.conv10(x)\n",
    "        # x = self.conv11(x)\n",
    "        # x = self.conv12(x)\n",
    "        # x = self.conv13(x)\n",
    "        # x = self.conv14(x)\n",
    "        x = x.view(-1, 28 * 28 * 256)\n",
    "        x = self.fc1(x)\n",
    "        x = self.fc2(x)\n",
    "        x = self.fc3(x)\n",
    "        return x\n",
    "        # Final output_features size must be 102 as there are 102 labels in the dataset\n",
    "        # Pool dimensions: out=(in-kernel)/stride + 1"
   ],
   "id": "EusKGDDAyNeR"
  },
  {
   "cell_type": "code",
   "execution_count": 22,
   "outputs": [],
   "source": [
    "def train_one_epoch(net: nn.Module = None, training_loss: [] = None, training_acc: [] = None, optimizer=None):\n",
    "    if optimizer is None:\n",
    "        optimizer = optim.AdamW(net.parameters(), lr=LEARNING_RATE)\n",
    "\n",
    "    net.train()\n",
    "    running_loss = 0.0\n",
    "    correct = 0\n",
    "    total = 0\n",
    "    for i, (images, labels) in enumerate(train_loader):\n",
    "        labels = torch.eye(102)[labels]  # one hot encode\n",
    "        images = images.to(device)\n",
    "        labels = labels.to(device)\n",
    "\n",
    "        outputs = net(images)  # train\n",
    "        labels = torch.argmax(labels, dim=1)  # one hot decode\n",
    "\n",
    "        loss = criterion(outputs, labels)\n",
    "        running_loss += loss.item() * images.size(0)\n",
    "\n",
    "        optimizer.zero_grad()\n",
    "        loss.backward()\n",
    "        optimizer.step()\n",
    "\n",
    "        _, predicted = torch.max(outputs.data, 1)\n",
    "        total += labels.size(0)\n",
    "        correct += torch.sum(predicted == labels).sum().item()\n",
    "\n",
    "    running_loss /= len(all_train_data)\n",
    "    train_accuracy = 100 * correct / total\n",
    "    # save data\n",
    "    training_loss.append(running_loss)\n",
    "    training_acc.append(train_accuracy)\n",
    "    print(f'Training Loss: {running_loss:.4f}, Accuracy: {train_accuracy:.2f}%')\n",
    "    return training_loss, training_acc\n"
   ],
   "metadata": {
    "collapsed": false,
    "pycharm": {
     "name": "#%%\n"
    }
   }
  },
  {
   "cell_type": "code",
   "execution_count": 23,
   "outputs": [],
   "source": [
    "def validate_one_epoch(net: nn.Module = None, valid_loss: [] = None, valid_acc: [] = None):\n",
    "    net.eval()\n",
    "    with torch.no_grad():\n",
    "        running_vloss = 0.0\n",
    "        vcorrect = 0\n",
    "        vtotal = 0\n",
    "        for images, labels in val_loader:\n",
    "            images = images.to(device)\n",
    "            labels = labels.to(device)\n",
    "\n",
    "            outputs = net(images)\n",
    "            vloss = criterion(outputs, labels)\n",
    "            running_vloss += vloss.item() * images.size(0)\n",
    "\n",
    "            _, predicted = torch.max(outputs.data, 1)\n",
    "            vtotal += labels.size(0)\n",
    "            vcorrect += (predicted == labels).sum().item()\n",
    "\n",
    "        vaccuracy = 100 * vcorrect / vtotal\n",
    "\n",
    "        # save validation data\n",
    "        valid_loss.append(running_vloss)\n",
    "        valid_acc.append(vaccuracy)\n",
    "        print(f'Validation Loss: {running_vloss:.4f}, Accuracy: {vaccuracy:.2f}%')\n",
    "        return valid_loss, valid_acc"
   ],
   "metadata": {
    "collapsed": false,
    "pycharm": {
     "name": "#%%\n"
    }
   }
  },
  {
   "cell_type": "code",
   "execution_count": 24,
   "outputs": [],
   "source": [
    "def train_net(net: nn.Module = None, epochs: int = 1, validation_loss=None, validation_accuracy=None,\n",
    "              training_loss=None, training_accuracy=None, epochs_already_trained: int = 0):\n",
    "    optimizer = optim.AdamW(cnn.parameters(), lr=LEARNING_RATE)\n",
    "\n",
    "    if training_accuracy is None:\n",
    "        training_accuracy = []\n",
    "    if training_loss is None:\n",
    "        training_loss = []\n",
    "    if validation_accuracy is None:\n",
    "        validation_accuracy = []\n",
    "    if validation_loss is None:\n",
    "        validation_loss = []\n",
    "\n",
    "    epochs += epochs_already_trained\n",
    "    for epoch in range(epochs_already_trained, epochs):\n",
    "        print(f'Epoch: [{epoch + 1}/{epochs}]')\n",
    "\n",
    "        training_loss, training_accuracy = train_one_epoch(net, training_loss=training_loss,\n",
    "                                                           training_acc=training_accuracy, optimizer=optimizer)\n",
    "        # validation_loss, validation_accuracy = validate_one_epoch(net, valid_loss=validation_loss,\n",
    "        #                                                           valid_acc=validation_accuracy)\n",
    "\n",
    "        torch.save(net.state_dict(), SAVE_PATH)\n",
    "        with open(\"./saves/save_data.txt\", \"w\") as savefile:\n",
    "            savefile.writelines(str(validation_loss))\n",
    "            savefile.writelines(str(validation_accuracy))\n",
    "            savefile.writelines(str(training_loss))\n",
    "            savefile.writelines(str(training_accuracy))\n",
    "            savefile.write(str(epoch + 1))\n",
    "        print(\"NN saved.\")\n"
   ],
   "metadata": {
    "collapsed": false,
    "pycharm": {
     "name": "#%%\n"
    }
   }
  },
  {
   "cell_type": "code",
   "execution_count": 25,
   "outputs": [],
   "source": [
    "def train_net_from_save(epochs: int = 1, save_folder_path: str = \"./saves\"):\n",
    "    print(\"Resuming training from save.\")\n",
    "    net = CNN().to(device)\n",
    "    net.load_state_dict(torch.load(save_folder_path + \"/neural_net.pth\"))\n",
    "    with open(save_folder_path + \"/save_data.txt\", \"r\") as savefile:\n",
    "        savelist = savefile.readline().split(\"]\")\n",
    "        v_losses, v_accs, t_losses, t_accs = [], [], [], []\n",
    "        for vloss in savelist[0][1::].split(\",\"):\n",
    "            v_losses.append(float(vloss.strip()))\n",
    "        for vacc in savelist[1][1::].split(\",\"):\n",
    "            v_accs.append(float(vacc.strip()))\n",
    "        for tloss in savelist[2][1::].split(\",\"):\n",
    "            t_losses.append(float(tloss.strip()))\n",
    "        for tacc in savelist[3][1::].split(\",\"):\n",
    "            t_accs.append(float(tacc.strip()))\n",
    "        epochs_done = int(savelist[4])\n",
    "    print(\"Net loaded. \" + str(epochs_done) + \" epochs previously trained.\")\n",
    "    train_net(net=net, epochs=epochs, validation_loss=v_losses, validation_accuracy=v_accs, training_accuracy=t_accs,\n",
    "              training_loss=t_losses, epochs_already_trained=epochs_done)"
   ],
   "metadata": {
    "collapsed": false,
    "pycharm": {
     "name": "#%%\n"
    }
   }
  },
  {
   "cell_type": "code",
   "execution_count": 26,
   "outputs": [],
   "source": [
    "def test_net(net: nn.Module = None):\n",
    "    if net is None:\n",
    "        try:\n",
    "            net = CNN().to(device)\n",
    "            net.load_state_dict(torch.load(\"./saves/neural_net.pth\"))\n",
    "        except:\n",
    "            return\n",
    "    net.eval()\n",
    "    with torch.no_grad():\n",
    "        correct = 0\n",
    "        total = 0\n",
    "        for images, labels in test_loader:\n",
    "            images = images.to(device)\n",
    "            labels = labels.to(device)\n",
    "            outputs = net(images)\n",
    "            _, predicted = torch.max(outputs.data, 1)\n",
    "            # pred_labels = torch.argmax(outputs, axis=1)\n",
    "            total += labels.size(0)\n",
    "            correct += (predicted == labels).sum().item()\n",
    "        print(f\"Test Accuracy: {(100 * correct / total):.2f}%\")"
   ],
   "metadata": {
    "collapsed": false,
    "pycharm": {
     "name": "#%%\n"
    }
   }
  },
  {
   "cell_type": "code",
   "execution_count": 27,
   "outputs": [],
   "source": [
    "def test_net_from_save(save_folder_path: str = \"./saves\"):\n",
    "    net = CNN().to(device)\n",
    "    net.load_state_dict(torch.load(save_folder_path + \"/neural_net.pth\"))\n",
    "    test_net(net)"
   ],
   "metadata": {
    "collapsed": false,
    "pycharm": {
     "name": "#%%\n"
    }
   }
  },
  {
   "cell_type": "code",
   "execution_count": 28,
   "outputs": [
    {
     "name": "stdout",
     "output_type": "stream",
     "text": [
      "CNN(\n",
      "  (conv1): Sequential(\n",
      "    (0): Conv2d(3, 64, kernel_size=(3, 3), stride=(1, 1), padding=(1, 1))\n",
      "    (1): BatchNorm2d(64, eps=1e-05, momentum=0.1, affine=True, track_running_stats=True)\n",
      "    (2): ReLU()\n",
      "    (3): MaxPool2d(kernel_size=2, stride=2, padding=0, dilation=1, ceil_mode=False)\n",
      "  )\n",
      "  (conv2): Sequential(\n",
      "    (0): Conv2d(64, 128, kernel_size=(3, 3), stride=(1, 1), padding=(1, 1))\n",
      "    (1): BatchNorm2d(128, eps=1e-05, momentum=0.1, affine=True, track_running_stats=True)\n",
      "    (2): ReLU()\n",
      "  )\n",
      "  (conv3): Sequential(\n",
      "    (0): Conv2d(128, 128, kernel_size=(3, 3), stride=(1, 1), padding=(1, 1))\n",
      "    (1): BatchNorm2d(128, eps=1e-05, momentum=0.1, affine=True, track_running_stats=True)\n",
      "    (2): ReLU()\n",
      "  )\n",
      "  (conv4): Sequential(\n",
      "    (0): Conv2d(128, 128, kernel_size=(3, 3), stride=(1, 1), padding=(1, 1))\n",
      "    (1): BatchNorm2d(128, eps=1e-05, momentum=0.1, affine=True, track_running_stats=True)\n",
      "    (2): ReLU()\n",
      "    (3): MaxPool2d(kernel_size=2, stride=2, padding=0, dilation=1, ceil_mode=False)\n",
      "  )\n",
      "  (conv5): Sequential(\n",
      "    (0): Conv2d(128, 256, kernel_size=(3, 3), stride=(1, 1), padding=(1, 1))\n",
      "    (1): BatchNorm2d(256, eps=1e-05, momentum=0.1, affine=True, track_running_stats=True)\n",
      "    (2): ReLU()\n",
      "  )\n",
      "  (conv6): Sequential(\n",
      "    (0): Conv2d(256, 256, kernel_size=(3, 3), stride=(1, 1), padding=(1, 1))\n",
      "    (1): BatchNorm2d(256, eps=1e-05, momentum=0.1, affine=True, track_running_stats=True)\n",
      "    (2): ReLU()\n",
      "  )\n",
      "  (conv7): Sequential(\n",
      "    (0): Conv2d(256, 256, kernel_size=(3, 3), stride=(1, 1), padding=(1, 1))\n",
      "    (1): BatchNorm2d(256, eps=1e-05, momentum=0.1, affine=True, track_running_stats=True)\n",
      "    (2): ReLU()\n",
      "    (3): MaxPool2d(kernel_size=2, stride=2, padding=0, dilation=1, ceil_mode=False)\n",
      "  )\n",
      "  (fc1): Sequential(\n",
      "    (0): Linear(in_features=200704, out_features=4096, bias=True)\n",
      "    (1): ReLU()\n",
      "  )\n",
      "  (fc2): Sequential(\n",
      "    (0): Linear(in_features=4096, out_features=4096, bias=True)\n",
      "    (1): ReLU()\n",
      "  )\n",
      "  (fc3): Sequential(\n",
      "    (0): Linear(in_features=4096, out_features=102, bias=True)\n",
      "  )\n",
      ")\n"
     ]
    }
   ],
   "source": [
    "# Clear cuda cache\n",
    "gc.collect()\n",
    "torch.cuda.empty_cache()\n",
    "\n",
    "# Create an instance of the CNN and move it to the device\n",
    "cnn = CNN().to(device)\n",
    "print(cnn)\n",
    "\n",
    "# Define the loss function and the optimizer\n",
    "criterion = nn.CrossEntropyLoss()"
   ],
   "metadata": {
    "collapsed": false,
    "pycharm": {
     "name": "#%%\n"
    }
   }
  },
  {
   "cell_type": "code",
   "execution_count": 29,
   "metadata": {
    "colab": {
     "base_uri": "https://localhost:8080/"
    },
    "id": "scaiiDdVyNeU",
    "executionInfo": {
     "status": "ok",
     "timestamp": 1682812687163,
     "user_tz": -60,
     "elapsed": 229978,
     "user": {
      "displayName": "Faran Lane",
      "userId": "14277689357306891726"
     }
    },
    "outputId": "e088c456-60f2-4075-c8b0-672441162f65",
    "pycharm": {
     "name": "#%%\n"
    }
   },
   "outputs": [
    {
     "name": "stdout",
     "output_type": "stream",
     "text": [
      "Starting training.\n",
      "Epoch: [1/60]\n"
     ]
    },
    {
     "ename": "OutOfMemoryError",
     "evalue": "CUDA out of memory. Tried to allocate 3.06 GiB (GPU 0; 8.00 GiB total capacity; 6.26 GiB already allocated; 0 bytes free; 6.88 GiB reserved in total by PyTorch) If reserved memory is >> allocated memory try setting max_split_size_mb to avoid fragmentation.  See documentation for Memory Management and PYTORCH_CUDA_ALLOC_CONF",
     "output_type": "error",
     "traceback": [
      "\u001B[1;31m---------------------------------------------------------------------------\u001B[0m",
      "\u001B[1;31mOutOfMemoryError\u001B[0m                          Traceback (most recent call last)",
      "Cell \u001B[1;32mIn[29], line 5\u001B[0m\n\u001B[0;32m      2\u001B[0m \u001B[38;5;66;03m# Start timer\u001B[39;00m\n\u001B[0;32m      3\u001B[0m start_time \u001B[38;5;241m=\u001B[39m time\u001B[38;5;241m.\u001B[39mtime()\n\u001B[1;32m----> 5\u001B[0m \u001B[43mtrain_net\u001B[49m\u001B[43m(\u001B[49m\u001B[43mcnn\u001B[49m\u001B[43m,\u001B[49m\u001B[43m \u001B[49m\u001B[43mEPOCHS\u001B[49m\u001B[43m,\u001B[49m\u001B[43m \u001B[49m\u001B[43mvalidation_loss\u001B[49m\u001B[38;5;241;43m=\u001B[39;49m\u001B[43mval_losses\u001B[49m\u001B[43m,\u001B[49m\u001B[43m \u001B[49m\u001B[43mvalidation_accuracy\u001B[49m\u001B[38;5;241;43m=\u001B[39;49m\u001B[43mval_accuracies\u001B[49m\u001B[43m,\u001B[49m\u001B[43m \u001B[49m\u001B[43mtraining_loss\u001B[49m\u001B[38;5;241;43m=\u001B[39;49m\u001B[43mtrain_losses\u001B[49m\u001B[43m,\u001B[49m\n\u001B[0;32m      6\u001B[0m \u001B[43m          \u001B[49m\u001B[43mtraining_accuracy\u001B[49m\u001B[38;5;241;43m=\u001B[39;49m\u001B[43mtrain_accuracies\u001B[49m\u001B[43m)\u001B[49m\n\u001B[0;32m      8\u001B[0m \u001B[38;5;66;03m# Stop timer\u001B[39;00m\n\u001B[0;32m      9\u001B[0m end_time \u001B[38;5;241m=\u001B[39m time\u001B[38;5;241m.\u001B[39mtime()\n",
      "Cell \u001B[1;32mIn[24], line 18\u001B[0m, in \u001B[0;36mtrain_net\u001B[1;34m(net, epochs, validation_loss, validation_accuracy, training_loss, training_accuracy, epochs_already_trained)\u001B[0m\n\u001B[0;32m     15\u001B[0m \u001B[38;5;28;01mfor\u001B[39;00m epoch \u001B[38;5;129;01min\u001B[39;00m \u001B[38;5;28mrange\u001B[39m(epochs_already_trained, epochs):\n\u001B[0;32m     16\u001B[0m     \u001B[38;5;28mprint\u001B[39m(\u001B[38;5;124mf\u001B[39m\u001B[38;5;124m'\u001B[39m\u001B[38;5;124mEpoch: [\u001B[39m\u001B[38;5;132;01m{\u001B[39;00mepoch \u001B[38;5;241m+\u001B[39m \u001B[38;5;241m1\u001B[39m\u001B[38;5;132;01m}\u001B[39;00m\u001B[38;5;124m/\u001B[39m\u001B[38;5;132;01m{\u001B[39;00mepochs\u001B[38;5;132;01m}\u001B[39;00m\u001B[38;5;124m]\u001B[39m\u001B[38;5;124m'\u001B[39m)\n\u001B[1;32m---> 18\u001B[0m     training_loss, training_accuracy \u001B[38;5;241m=\u001B[39m \u001B[43mtrain_one_epoch\u001B[49m\u001B[43m(\u001B[49m\u001B[43mnet\u001B[49m\u001B[43m,\u001B[49m\u001B[43m \u001B[49m\u001B[43mtraining_loss\u001B[49m\u001B[38;5;241;43m=\u001B[39;49m\u001B[43mtraining_loss\u001B[49m\u001B[43m,\u001B[49m\n\u001B[0;32m     19\u001B[0m \u001B[43m                                                       \u001B[49m\u001B[43mtraining_acc\u001B[49m\u001B[38;5;241;43m=\u001B[39;49m\u001B[43mtraining_accuracy\u001B[49m\u001B[43m,\u001B[49m\u001B[43m \u001B[49m\u001B[43moptimizer\u001B[49m\u001B[38;5;241;43m=\u001B[39;49m\u001B[43moptimizer\u001B[49m\u001B[43m)\u001B[49m\n\u001B[0;32m     20\u001B[0m     \u001B[38;5;66;03m# validation_loss, validation_accuracy = validate_one_epoch(net, valid_loss=validation_loss,\u001B[39;00m\n\u001B[0;32m     21\u001B[0m     \u001B[38;5;66;03m#                                                           valid_acc=validation_accuracy)\u001B[39;00m\n\u001B[0;32m     23\u001B[0m     torch\u001B[38;5;241m.\u001B[39msave(net\u001B[38;5;241m.\u001B[39mstate_dict(), SAVE_PATH)\n",
      "Cell \u001B[1;32mIn[22], line 21\u001B[0m, in \u001B[0;36mtrain_one_epoch\u001B[1;34m(net, training_loss, training_acc, optimizer)\u001B[0m\n\u001B[0;32m     18\u001B[0m running_loss \u001B[38;5;241m+\u001B[39m\u001B[38;5;241m=\u001B[39m loss\u001B[38;5;241m.\u001B[39mitem() \u001B[38;5;241m*\u001B[39m images\u001B[38;5;241m.\u001B[39msize(\u001B[38;5;241m0\u001B[39m)\n\u001B[0;32m     20\u001B[0m optimizer\u001B[38;5;241m.\u001B[39mzero_grad()\n\u001B[1;32m---> 21\u001B[0m \u001B[43mloss\u001B[49m\u001B[38;5;241;43m.\u001B[39;49m\u001B[43mbackward\u001B[49m\u001B[43m(\u001B[49m\u001B[43m)\u001B[49m\n\u001B[0;32m     22\u001B[0m optimizer\u001B[38;5;241m.\u001B[39mstep()\n\u001B[0;32m     24\u001B[0m _, predicted \u001B[38;5;241m=\u001B[39m torch\u001B[38;5;241m.\u001B[39mmax(outputs\u001B[38;5;241m.\u001B[39mdata, \u001B[38;5;241m1\u001B[39m)\n",
      "File \u001B[1;32m~\\anaconda3\\envs\\INT2\\lib\\site-packages\\torch\\_tensor.py:487\u001B[0m, in \u001B[0;36mTensor.backward\u001B[1;34m(self, gradient, retain_graph, create_graph, inputs)\u001B[0m\n\u001B[0;32m    477\u001B[0m \u001B[38;5;28;01mif\u001B[39;00m has_torch_function_unary(\u001B[38;5;28mself\u001B[39m):\n\u001B[0;32m    478\u001B[0m     \u001B[38;5;28;01mreturn\u001B[39;00m handle_torch_function(\n\u001B[0;32m    479\u001B[0m         Tensor\u001B[38;5;241m.\u001B[39mbackward,\n\u001B[0;32m    480\u001B[0m         (\u001B[38;5;28mself\u001B[39m,),\n\u001B[1;32m   (...)\u001B[0m\n\u001B[0;32m    485\u001B[0m         inputs\u001B[38;5;241m=\u001B[39minputs,\n\u001B[0;32m    486\u001B[0m     )\n\u001B[1;32m--> 487\u001B[0m \u001B[43mtorch\u001B[49m\u001B[38;5;241;43m.\u001B[39;49m\u001B[43mautograd\u001B[49m\u001B[38;5;241;43m.\u001B[39;49m\u001B[43mbackward\u001B[49m\u001B[43m(\u001B[49m\n\u001B[0;32m    488\u001B[0m \u001B[43m    \u001B[49m\u001B[38;5;28;43mself\u001B[39;49m\u001B[43m,\u001B[49m\u001B[43m \u001B[49m\u001B[43mgradient\u001B[49m\u001B[43m,\u001B[49m\u001B[43m \u001B[49m\u001B[43mretain_graph\u001B[49m\u001B[43m,\u001B[49m\u001B[43m \u001B[49m\u001B[43mcreate_graph\u001B[49m\u001B[43m,\u001B[49m\u001B[43m \u001B[49m\u001B[43minputs\u001B[49m\u001B[38;5;241;43m=\u001B[39;49m\u001B[43minputs\u001B[49m\n\u001B[0;32m    489\u001B[0m \u001B[43m\u001B[49m\u001B[43m)\u001B[49m\n",
      "File \u001B[1;32m~\\anaconda3\\envs\\INT2\\lib\\site-packages\\torch\\autograd\\__init__.py:200\u001B[0m, in \u001B[0;36mbackward\u001B[1;34m(tensors, grad_tensors, retain_graph, create_graph, grad_variables, inputs)\u001B[0m\n\u001B[0;32m    195\u001B[0m     retain_graph \u001B[38;5;241m=\u001B[39m create_graph\n\u001B[0;32m    197\u001B[0m \u001B[38;5;66;03m# The reason we repeat same the comment below is that\u001B[39;00m\n\u001B[0;32m    198\u001B[0m \u001B[38;5;66;03m# some Python versions print out the first line of a multi-line function\u001B[39;00m\n\u001B[0;32m    199\u001B[0m \u001B[38;5;66;03m# calls in the traceback and some print out the last line\u001B[39;00m\n\u001B[1;32m--> 200\u001B[0m \u001B[43mVariable\u001B[49m\u001B[38;5;241;43m.\u001B[39;49m\u001B[43m_execution_engine\u001B[49m\u001B[38;5;241;43m.\u001B[39;49m\u001B[43mrun_backward\u001B[49m\u001B[43m(\u001B[49m\u001B[43m  \u001B[49m\u001B[38;5;66;43;03m# Calls into the C++ engine to run the backward pass\u001B[39;49;00m\n\u001B[0;32m    201\u001B[0m \u001B[43m    \u001B[49m\u001B[43mtensors\u001B[49m\u001B[43m,\u001B[49m\u001B[43m \u001B[49m\u001B[43mgrad_tensors_\u001B[49m\u001B[43m,\u001B[49m\u001B[43m \u001B[49m\u001B[43mretain_graph\u001B[49m\u001B[43m,\u001B[49m\u001B[43m \u001B[49m\u001B[43mcreate_graph\u001B[49m\u001B[43m,\u001B[49m\u001B[43m \u001B[49m\u001B[43minputs\u001B[49m\u001B[43m,\u001B[49m\n\u001B[0;32m    202\u001B[0m \u001B[43m    \u001B[49m\u001B[43mallow_unreachable\u001B[49m\u001B[38;5;241;43m=\u001B[39;49m\u001B[38;5;28;43;01mTrue\u001B[39;49;00m\u001B[43m,\u001B[49m\u001B[43m \u001B[49m\u001B[43maccumulate_grad\u001B[49m\u001B[38;5;241;43m=\u001B[39;49m\u001B[38;5;28;43;01mTrue\u001B[39;49;00m\u001B[43m)\u001B[49m\n",
      "\u001B[1;31mOutOfMemoryError\u001B[0m: CUDA out of memory. Tried to allocate 3.06 GiB (GPU 0; 8.00 GiB total capacity; 6.26 GiB already allocated; 0 bytes free; 6.88 GiB reserved in total by PyTorch) If reserved memory is >> allocated memory try setting max_split_size_mb to avoid fragmentation.  See documentation for Memory Management and PYTORCH_CUDA_ALLOC_CONF"
     ]
    }
   ],
   "source": [
    "print(\"Starting training.\")\n",
    "# Start timer\n",
    "start_time = time.time()\n",
    "\n",
    "train_net(cnn, EPOCHS, validation_loss=val_losses, validation_accuracy=val_accuracies, training_loss=train_losses,\n",
    "          training_accuracy=train_accuracies)\n",
    "\n",
    "# Stop timer\n",
    "end_time = time.time()\n",
    "print(\"Training Complete in: \" + time.strftime(\"%Hh %Mm %Ss\", time.gmtime(end_time - start_time)))"
   ],
   "id": "scaiiDdVyNeU"
  },
  {
   "cell_type": "code",
   "execution_count": null,
   "outputs": [],
   "source": [
    "# train_net_from_save(1)"
   ],
   "metadata": {
    "collapsed": false,
    "pycharm": {
     "name": "#%%\n"
    }
   }
  },
  {
   "cell_type": "code",
   "execution_count": null,
   "metadata": {
    "colab": {
     "base_uri": "https://localhost:8080/"
    },
    "executionInfo": {
     "elapsed": 54105,
     "status": "ok",
     "timestamp": 1682812745326,
     "user": {
      "displayName": "Faran Lane",
      "userId": "14277689357306891726"
     },
     "user_tz": -60
    },
    "id": "_XqCOjHvyNeV",
    "outputId": "75a5832f-d2d8-431f-acec-d80e9314cf4b",
    "pycharm": {
     "name": "#%%\n"
    }
   },
   "outputs": [],
   "source": [
    "# Test the CNN\n",
    "test_net(net=cnn)"
   ],
   "id": "_XqCOjHvyNeV"
  },
  {
   "cell_type": "code",
   "execution_count": null,
   "metadata": {
    "id": "tjp4w5ifyNeW",
    "colab": {
     "base_uri": "https://localhost:8080/",
     "height": 815
    },
    "executionInfo": {
     "status": "error",
     "timestamp": 1682812818281,
     "user_tz": -60,
     "elapsed": 2436,
     "user": {
      "displayName": "Faran Lane",
      "userId": "14277689357306891726"
     }
    },
    "outputId": "fc02bdba-e875-4588-af5b-803ca526630d",
    "pycharm": {
     "name": "#%%\n"
    }
   },
   "outputs": [],
   "source": [
    "# Plot\n",
    "fig = plt.figure(tight_layout=True)\n",
    "gs = grid.GridSpec(nrows=2, ncols=1)\n",
    "\n",
    "\n",
    "# for i in range(len(train_losses)):\n",
    "#     train_losses[i]*=len(all_train_data)\n",
    "def plot_epochs(ax, data: [[int]], ylabel: str, datalabels: [str], cs: [str]):\n",
    "    if len(datalabels) == len(data):\n",
    "        for line in range(len(data)):\n",
    "            ax.plot(data[line], label=datalabels[line], c=cs[line])\n",
    "        ax.set_xlabel(\"Epoch\")\n",
    "        ax.set_ylabel(ylabel)\n",
    "        fig.align_labels()\n",
    "        plt.legend()\n",
    "\n",
    "\n",
    "line_labels = [\"Validation\", \"Training\"]\n",
    "colours = [\"forestgreen\", \"royalblue\"]\n",
    "with open(\"./saves/save_data.txt\", \"r\") as savefile:\n",
    "    savelist = savefile.readline().split(\"]\")\n",
    "    v_losses, v_accs, t_losses, t_accs = [], [], [], []\n",
    "    for vloss in savelist[0][1::].split(\",\"):\n",
    "        v_losses.append(float(vloss.strip()))\n",
    "    for vacc in savelist[1][1::].split(\",\"):\n",
    "        v_accs.append(float(vacc.strip()))\n",
    "    for tloss in savelist[2][1::].split(\",\"):\n",
    "        t_losses.append(float(tloss.strip()))\n",
    "    for tacc in savelist[3][1::].split(\",\"):\n",
    "        t_accs.append(float(tacc.strip()))\n",
    "    epochs_done = int(savelist[4])\n",
    "    plot_epochs(fig.add_subplot(gs[0, 0]), [v_accs, t_accs], \"Accuracy\", line_labels, colours)\n",
    "    plot_epochs(fig.add_subplot(gs[1, 0]), [v_losses, t_losses], \"Loss\", line_labels, colours)\n",
    "    plt.show()\n",
    "    fig.savefig(\"figs/training_graph.png\")"
   ],
   "id": "tjp4w5ifyNeW"
  }
 ],
 "metadata": {
  "accelerator": "GPU",
  "colab": {
   "provenance": []
  },
  "gpuClass": "standard",
  "kernelspec": {
   "display_name": "Python 3 (ipykernel)",
   "language": "python",
   "name": "python3"
  },
  "language_info": {
   "codemirror_mode": {
    "name": "ipython",
    "version": 3
   },
   "file_extension": ".py",
   "mimetype": "text/x-python",
   "name": "python",
   "nbconvert_exporter": "python",
   "pygments_lexer": "ipython3",
   "version": "3.10.9"
  }
 },
 "nbformat": 4,
 "nbformat_minor": 5
}